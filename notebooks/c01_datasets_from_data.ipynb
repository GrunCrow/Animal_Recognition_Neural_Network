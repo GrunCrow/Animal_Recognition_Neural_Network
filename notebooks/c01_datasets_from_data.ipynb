{
 "cells": [
  {
   "cell_type": "code",
   "execution_count": 3,
   "metadata": {
    "collapsed": true,
    "pycharm": {
     "name": "#%%\n"
    }
   },
   "outputs": [],
   "source": [
    "#                                                   LIBRARIES\n",
    "\n",
    "# Image preprocesssing- processing\n",
    "import numpy as np\n"
   ]
  },
  {
   "cell_type": "code",
   "execution_count": 4,
   "outputs": [],
   "source": [
    "# to load the np_array\n",
    "# imgs_animals = np.load(\"../np_arrays/imgs_animals.npy\", allow_pickle=True)"
   ],
   "metadata": {
    "collapsed": false,
    "pycharm": {
     "name": "#%%\n"
    }
   }
  },
  {
   "cell_type": "code",
   "execution_count": 5,
   "outputs": [],
   "source": [
    "# from the csv -> separate into:\n",
    "#  - 80% train\n",
    "#  - 10% test\n",
    "#  - 10% validation\n",
    "\n",
    "INPUT_CSV = \"../csv/imgs_and_labels_list_resized.csv\""
   ],
   "metadata": {
    "collapsed": false,
    "pycharm": {
     "name": "#%%\n"
    }
   }
  },
  {
   "cell_type": "code",
   "execution_count": 26,
   "outputs": [],
   "source": [
    "def read_csv(input_csv = INPUT_CSV):\n",
    "    imgs_relative_path , labels = np.loadtxt(input_csv,dtype=str,\n",
    "                                     delimiter=',', usecols=(0, 1), unpack=True)\n",
    "    return imgs_relative_path, labels"
   ],
   "metadata": {
    "collapsed": false,
    "pycharm": {
     "name": "#%%\n"
    }
   }
  },
  {
   "cell_type": "code",
   "execution_count": 27,
   "outputs": [
    {
     "name": "stdout",
     "output_type": "stream",
     "text": [
      "Ha\n"
     ]
    }
   ],
   "source": [
    "# read csv and extract data\n",
    "imgs_relative_path, labels = read_csv(INPUT_CSV)"
   ],
   "metadata": {
    "collapsed": false,
    "pycharm": {
     "name": "#%%\n"
    }
   }
  },
  {
   "cell_type": "code",
   "execution_count": 31,
   "outputs": [
    {
     "name": "stdout",
     "output_type": "stream",
     "text": [
      "\n",
      "CSVS saved\n"
     ]
    }
   ],
   "source": [
    "# divide data into the 3 data set parts\n",
    "def extract_sets(imgs_relative_path, labels):\n",
    "    train_set = []\n",
    "    train_labels = []\n",
    "    test_set = []\n",
    "    test_labels = []\n",
    "    validation_set = []\n",
    "    validation_labels = []\n",
    "\n",
    "    assert len(labels) == len(imgs_relative_path)\n",
    "\n",
    "    bear_set = []\n",
    "    chicken_set = []\n",
    "    turtle_set = []\n",
    "\n",
    "    for idx, img in enumerate(imgs_relative_path):\n",
    "        if labels[idx] == \"Bear\":\n",
    "            bear_set.append(img)\n",
    "        elif labels[idx] == \"Chicken\":\n",
    "            chicken_set.append(img)\n",
    "        elif labels[idx] == \"Turtle\":\n",
    "            turtle_set.append(img)\n",
    "\n",
    "    # bear\n",
    "    n_elements = len(bear_set)\n",
    "    n_train = n_elements * 0.8\n",
    "    n_test = n_elements * 0.1\n",
    "    n_validation = n_elements * 0.1\n",
    "\n",
    "    for idx, img in enumerate(bear_set):    # 'Bear' = 0\n",
    "        if idx < n_train:\n",
    "            train_set.append(img)\n",
    "            train_labels.append(0)\n",
    "        elif idx < n_train + n_test:\n",
    "            test_set.append(img)\n",
    "            test_labels.append(0)\n",
    "        else:\n",
    "            validation_set.append(img)\n",
    "            validation_labels.append(0)\n",
    "\n",
    "    # chicken\n",
    "    n_elements = len(chicken_set)\n",
    "    n_train = n_elements * 0.8\n",
    "    n_test = n_elements * 0.1\n",
    "    # n_validation = n_elements * 0.1\n",
    "\n",
    "    for idx, img in enumerate(chicken_set): # 'Chicken' = 1\n",
    "        if idx < n_train:\n",
    "            train_set.append(img)\n",
    "            train_labels.append(1)\n",
    "        elif idx < n_train + n_test:\n",
    "            test_set.append(img)\n",
    "            test_labels.append(1)\n",
    "        else:\n",
    "            validation_set.append(img)\n",
    "            validation_labels.append(1)\n",
    "\n",
    "    # Turtle\n",
    "    n_elements = len(turtle_set)    # 'Turtle' = 2\n",
    "    n_train = n_elements * 0.8\n",
    "    n_test = n_elements * 0.1\n",
    "    n_validation = n_elements * 0.1\n",
    "\n",
    "    for idx, img in enumerate(turtle_set):\n",
    "        if idx < n_train:\n",
    "            train_set.append(img)\n",
    "            train_labels.append(2)\n",
    "        elif idx < n_train + n_test:\n",
    "            test_set.append(img)\n",
    "            test_labels.append(2)\n",
    "        else:\n",
    "            validation_set.append(img)\n",
    "            validation_labels.append(2)\n",
    "\n",
    "    trainArray = np.column_stack(((train_set), (train_labels)))\n",
    "    testArray = np.column_stack(((test_set), (test_labels)))\n",
    "    validationArray = np.column_stack(((validation_set), (validation_labels)))\n",
    "\n",
    "    csvtrain = \"../csv/train_list.csv\"\n",
    "    csvtest = \"../csv/test_list.csv\"\n",
    "    csvvalidation = \"../csv/validation_list.csv\"\n",
    "    try:\n",
    "        np.savetxt(csvtrain, trainArray, delimiter=\",\",fmt='%s')\n",
    "        np.savetxt(csvtest, testArray, delimiter=\",\",fmt='%s')\n",
    "        np.savetxt(csvvalidation, validationArray, delimiter=\",\",fmt='%s')\n",
    "\n",
    "        print()\n",
    "        print('CSVS saved')\n",
    "    except:\n",
    "        print('ERROR WRITING CSV')\n",
    "\n",
    "    '''previous_label = \"\"\n",
    "\n",
    "\n",
    "    for idx, label in enumerate(labels):\n",
    "        # append where new label exist, so the first label goes from indexes[0] to indexes[1] - 1, the last ones foes from indexes[2] to len(labels) - 1\n",
    "        if label is not previous_label:\n",
    "            indexes.append(idx)\n",
    "            labels_set.append(label)\n",
    "            previous_label = label\n",
    "\n",
    "    n_labels = len(set(labels))\n",
    "\n",
    "    assert n_labels == 3 # 3 classes: bear, chicken, turtle\n",
    "\n",
    "    prev_num_instances = 0\n",
    "\n",
    "    for n in n_labels:\n",
    "        if n < n_labels:\n",
    "            num_instances = indexes[n-1] - indexes[n] + 1\n",
    "        # n is more than n_labels (3, cannot access index 3)\n",
    "        else:\n",
    "            num_instances = len(labels) - indexes[n]\n",
    "\n",
    "        n_train = num_instances * 0.8\n",
    "        n_test = num_instances * 0.1\n",
    "        n_validation = num_instances * 0.1\n",
    "\n",
    "        for img in imgs_relative_path[prev_num_instances:num_instances:]:'''\n",
    "\n",
    "\n",
    "extract_sets(imgs_relative_path, labels)"
   ],
   "metadata": {
    "collapsed": false,
    "pycharm": {
     "name": "#%%\n"
    }
   }
  },
  {
   "cell_type": "code",
   "execution_count": null,
   "outputs": [],
   "source": [],
   "metadata": {
    "collapsed": false,
    "pycharm": {
     "name": "#%%\n"
    }
   }
  }
 ],
 "metadata": {
  "kernelspec": {
   "display_name": "Python 3",
   "language": "python",
   "name": "python3"
  },
  "language_info": {
   "codemirror_mode": {
    "name": "ipython",
    "version": 2
   },
   "file_extension": ".py",
   "mimetype": "text/x-python",
   "name": "python",
   "nbconvert_exporter": "python",
   "pygments_lexer": "ipython2",
   "version": "2.7.6"
  }
 },
 "nbformat": 4,
 "nbformat_minor": 0
}