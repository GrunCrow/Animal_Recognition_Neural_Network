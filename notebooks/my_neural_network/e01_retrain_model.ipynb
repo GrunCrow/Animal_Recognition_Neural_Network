{
 "cells": [
  {
   "cell_type": "code",
   "execution_count": null,
   "metadata": {
    "collapsed": true,
    "pycharm": {
     "name": "#%%\n"
    }
   },
   "outputs": [],
   "source": [
    "#                                                   LIBRARIES\n",
    "# Neural Network libraries\n",
    "from keras.models import Sequential\n",
    "from keras.layers import Conv2D,MaxPooling2D,Dense,Flatten,Dropout"
   ]
  },
  {
   "cell_type": "code",
   "execution_count": null,
   "outputs": [],
   "source": [
    "# import sequential model and all the required layers\n",
    "def create_model():\n",
    "    #make model\n",
    "    model=Sequential()\n",
    "    # Pairs of Conv2D layer and MaxPool2D Layer with increasing filter sizes ( 16,32 ,64). This helps to make image grow more in depthwise and become more flatten.\n",
    "    # Maxpool: great as they optimize the training time\n",
    "\n",
    "    # capas de calculo -> ir de menor a mayor, suelen ser potencias / multiplos de 2 (las layers)\n",
    "\n",
    "    model.add(Conv2D(filters=64,kernel_size=3,padding=\"same\",activation=\"relu\",input_shape=(200,200,3))) # parte imp = relu\n",
    "    model.add(MaxPooling2D(pool_size=2))\n",
    "\n",
    "    model.add(Conv2D(filters=128,kernel_size=3,padding=\"same\",activation=\"relu\"))\n",
    "    model.add(MaxPooling2D(pool_size=2))\n",
    "\n",
    "    model.add(Conv2D(filters=256,kernel_size=3,padding=\"same\",activation=\"relu\"))\n",
    "    model.add(MaxPooling2D(pool_size=4))\n",
    "\n",
    "    model.add(Dropout(0.2))\n",
    "    model.add(Flatten()) # without flatten output shape = (50, 50, 6) -> flatten = (None, 6) which we need to get layer output\n",
    "\n",
    "\n",
    "    # capas de clasificacion\n",
    "\n",
    "    model.add(Dense(200,activation=\"relu\"))\n",
    "\n",
    "    # Final dense layer with num_classes nodes = categories of animals we have in the set\n",
    "    # Softmax activation is used to give scores to these categories which lie between 0 and 1.\n",
    "    model.add(Dense(num_classes,activation=\"softmax\"))\n",
    "    model.summary()\n",
    "\n",
    "    # compile the model\n",
    "    # We use loss function as categorical_crossentropy and Adam optimizer\n",
    "\n",
    "    # if binary data -> loss = Binary Cross Entropy and activation = sigmoid\n",
    "    model.compile(loss='categorical_crossentropy', optimizer='adam',\n",
    "                      metrics=['accuracy'])\n",
    "\n",
    "    return model"
   ],
   "metadata": {
    "collapsed": false,
    "pycharm": {
     "name": "#%%\n"
    }
   }
  },
  {
   "cell_type": "code",
   "execution_count": null,
   "outputs": [],
   "source": [
    "model = create_model()\n",
    "model.load_weights('../models/model_200x200.h5')\n",
    "\n",
    "# loss, acc = model.evaluate(test_data, test_labels, verbose=2)\n",
    "# print(\"Restored model, accuracy: {:5.2f}%\".format(100 * acc))"
   ],
   "metadata": {
    "collapsed": false,
    "pycharm": {
     "name": "#%%\n"
    }
   }
  }
 ],
 "metadata": {
  "kernelspec": {
   "display_name": "Python 3",
   "language": "python",
   "name": "python3"
  },
  "language_info": {
   "codemirror_mode": {
    "name": "ipython",
    "version": 2
   },
   "file_extension": ".py",
   "mimetype": "text/x-python",
   "name": "python",
   "nbconvert_exporter": "python",
   "pygments_lexer": "ipython2",
   "version": "2.7.6"
  }
 },
 "nbformat": 4,
 "nbformat_minor": 0
}