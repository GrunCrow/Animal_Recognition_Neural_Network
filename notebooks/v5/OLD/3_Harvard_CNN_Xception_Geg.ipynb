{
 "cells": [
  {
   "cell_type": "code",
   "execution_count": 1,
   "metadata": {
    "pycharm": {
     "name": "#%%\n"
    },
    "tags": []
   },
   "outputs": [],
   "source": [
    "from constants import *\n",
    "\n",
    "import os\n",
    "\n",
    "from matplotlib import pyplot as plt\n",
    "import pandas as pd\n",
    "\n",
    "import time\n",
    "\n",
    "import tensorflow as tf\n",
    "tf.test.gpu_device_name()\n",
    "import numpy as np\n",
    "import tensorflow as tf\n",
    "import keras\n",
    "from tensorflow.keras import layers\n",
    "\n",
    "# !pip install tensorflow-addons==0.8.3\n",
    "# !pip install tensorflow==2.2.0-rc3\n",
    "from sklearn.metrics import *\n",
    "from sklearn.metrics import classification_report\n",
    "import seaborn as sns\n",
    "\n",
    "# from google.colab import drive\n",
    "# drive.mount('/content/drive/')\n",
    "\n",
    "import sys"
   ]
  },
  {
   "cell_type": "code",
   "execution_count": 2,
   "metadata": {
    "pycharm": {
     "name": "#%%\n"
    }
   },
   "outputs": [
    {
     "name": "stdout",
     "output_type": "stream",
     "text": [
      "[name: \"/device:CPU:0\"\n",
      "device_type: \"CPU\"\n",
      "memory_limit: 268435456\n",
      "locality {\n",
      "}\n",
      "incarnation: 10581738293557370892\n",
      "xla_global_id: -1\n",
      "]\n"
     ]
    }
   ],
   "source": [
    "from tensorflow.python.client import device_lib\n",
    "print(device_lib.list_local_devices())"
   ]
  },
  {
   "cell_type": "code",
   "execution_count": 3,
   "metadata": {
    "pycharm": {
     "name": "#%%\n"
    }
   },
   "outputs": [
    {
     "data": {
      "text/plain": [
       "[]"
      ]
     },
     "execution_count": 3,
     "metadata": {},
     "output_type": "execute_result"
    }
   ],
   "source": [
    "gpus = tf.config.list_physical_devices('GPU')\n",
    "gpus"
   ]
  },
  {
   "cell_type": "code",
   "execution_count": 4,
   "metadata": {
    "pycharm": {
     "name": "#%%\n"
    }
   },
   "outputs": [
    {
     "name": "stdout",
     "output_type": "stream",
     "text": [
      "/cpu:0\n"
     ]
    }
   ],
   "source": [
    "device_name = sys.argv[1]  # Choose device from cmd line. Options: gpu or cpu\n",
    "# shape = (int(sys.argv[2]), int(sys.argv[2]))\n",
    "device_name\n",
    "if device_name == \"gpu\":\n",
    "    device_name = \"/gpu:0\"\n",
    "else:\n",
    "    device_name = \"/cpu:0\"\n",
    "\n",
    "print(device_name)"
   ]
  },
  {
   "cell_type": "code",
   "execution_count": 5,
   "metadata": {
    "pycharm": {
     "name": "#%%\n"
    }
   },
   "outputs": [],
   "source": [
    "# Paths:\n",
    "# in constants.py file"
   ]
  },
  {
   "cell_type": "code",
   "execution_count": 6,
   "metadata": {
    "pycharm": {
     "name": "#%%\n"
    }
   },
   "outputs": [],
   "source": [
    "# Variables\n",
    "# in constants.py file # Size of images (images are 200x200)"
   ]
  },
  {
   "cell_type": "code",
   "execution_count": null,
   "metadata": {
    "pycharm": {
     "name": "#%%\n"
    }
   },
   "outputs": [],
   "source": []
  },
  {
   "cell_type": "code",
   "execution_count": null,
   "metadata": {
    "pycharm": {
     "name": "#%%\n"
    }
   },
   "outputs": [],
   "source": []
  },
  {
   "cell_type": "code",
   "execution_count": null,
   "metadata": {
    "pycharm": {
     "name": "#%%\n"
    }
   },
   "outputs": [],
   "source": []
  },
  {
   "cell_type": "markdown",
   "metadata": {
    "pycharm": {
     "name": "#%% md\n"
    }
   },
   "source": [
    "# Generacion del Dataset"
   ]
  },
  {
   "cell_type": "code",
   "execution_count": null,
   "outputs": [],
   "source": [
    "def read_csv(input_csv):\n",
    "    imgs_relative_path , labels = np.loadtxt(input_csv,dtype=str,\n",
    "                                     delimiter=',', usecols=(0, 1), unpack=True)\n",
    "    return imgs_relative_path, labels"
   ],
   "metadata": {
    "collapsed": false,
    "pycharm": {
     "name": "#%%\n"
    }
   }
  },
  {
   "cell_type": "code",
   "execution_count": null,
   "outputs": [],
   "source": [],
   "metadata": {
    "collapsed": false,
    "pycharm": {
     "name": "#%%\n"
    }
   }
  },
  {
   "cell_type": "code",
   "execution_count": null,
   "metadata": {
    "pycharm": {
     "name": "#%%\n"
    }
   },
   "outputs": [],
   "source": [
    "train_panda = pd.read_csv(os.path.join(CSV_FOLDER, TEST_CSV))\n",
    "valid_panda = pd.read_csv(os.path.join(CSV_FOLDER, VALIDATION_CSV))"
   ]
  },
  {
   "cell_type": "code",
   "execution_count": null,
   "metadata": {
    "pycharm": {
     "name": "#%%\n"
    }
   },
   "outputs": [],
   "source": []
  },
  {
   "cell_type": "code",
   "execution_count": null,
   "metadata": {
    "pycharm": {
     "name": "#%%\n"
    }
   },
   "outputs": [],
   "source": [
    "test_ds = test_datagen.flow_from_dataframe(\n",
    "                        test_panda,\n",
    "                        x_col = 'path',\n",
    "                        y_col = 'class',\n",
    "                        target_size = (IMG_WIDTH,IMG_HEIGHT),\n",
    "                        color_mode = 'rgb',\n",
    "                        batch_size = 32,\n",
    "                        shuffle = True,\n",
    "                        interpolation = \"bicubic\",\n",
    "                        class_mode='categorical'\n",
    "                        )"
   ]
  },
  {
   "cell_type": "code",
   "execution_count": null,
   "metadata": {
    "pycharm": {
     "name": "#%%\n"
    }
   },
   "outputs": [],
   "source": []
  },
  {
   "cell_type": "code",
   "execution_count": null,
   "metadata": {
    "pycharm": {
     "name": "#%%\n"
    }
   },
   "outputs": [],
   "source": []
  },
  {
   "cell_type": "code",
   "execution_count": null,
   "metadata": {
    "pycharm": {
     "name": "#%%\n"
    }
   },
   "outputs": [],
   "source": []
  },
  {
   "cell_type": "code",
   "execution_count": null,
   "metadata": {
    "pycharm": {
     "name": "#%%\n"
    }
   },
   "outputs": [],
   "source": []
  },
  {
   "cell_type": "code",
   "execution_count": null,
   "metadata": {
    "pycharm": {
     "name": "#%%\n"
    }
   },
   "outputs": [],
   "source": [
    "test_panda = pd.read_csv(os.path.join(CSV_FOLDER, TEST_CSV))\n",
    "valid_panda = pd.read_csv(os.path.join(CSV_FOLDER, VALIDATION_CSV))"
   ]
  },
  {
   "cell_type": "code",
   "execution_count": null,
   "metadata": {
    "pycharm": {
     "name": "#%%\n"
    }
   },
   "outputs": [],
   "source": [
    "# One hot encoding for labels\n",
    "# labels_test = keras.utils.to_categorical(test_panda['class'], 3)\n",
    "# keras.utils.to_categorical(valid_panda['class'], 3)"
   ]
  },
  {
   "cell_type": "code",
   "execution_count": null,
   "metadata": {
    "pycharm": {
     "name": "#%%\n"
    }
   },
   "outputs": [],
   "source": []
  },
  {
   "cell_type": "code",
   "execution_count": null,
   "metadata": {
    "pycharm": {
     "name": "#%%\n"
    }
   },
   "outputs": [],
   "source": []
  },
  {
   "cell_type": "code",
   "execution_count": null,
   "metadata": {
    "pycharm": {
     "name": "#%%\n"
    }
   },
   "outputs": [],
   "source": []
  },
  {
   "cell_type": "code",
   "execution_count": null,
   "metadata": {
    "pycharm": {
     "name": "#%%\n"
    }
   },
   "outputs": [],
   "source": []
  },
  {
   "cell_type": "code",
   "execution_count": null,
   "metadata": {
    "pycharm": {
     "name": "#%%\n"
    }
   },
   "outputs": [],
   "source": []
  },
  {
   "cell_type": "markdown",
   "metadata": {
    "pycharm": {
     "name": "#%% md\n"
    }
   },
   "source": [
    "# Modelo:"
   ]
  },
  {
   "cell_type": "code",
   "execution_count": null,
   "metadata": {
    "pycharm": {
     "name": "#%%\n"
    }
   },
   "outputs": [],
   "source": []
  },
  {
   "cell_type": "code",
   "execution_count": null,
   "metadata": {
    "pycharm": {
     "name": "#%%\n"
    }
   },
   "outputs": [],
   "source": [
    "if MODEL_WEIGHTS_PATH:\n",
    "    \n",
    "    # XXX cargo modelo con path\n",
    "    \n",
    "    \n",
    "else:   # definición del modelo del modelo en caso de NO cargarse desde fichero \n",
    "\n",
    "   # XXXX cargo modelo\n",
    "    \n",
    "    model = tf.keras.Sequential([\n",
    "        base,\n",
    "        tf.keras.layers.GlobalAveragePooling2D(), # se realiza un pooling a los mapas de características de la última capa del modelo base\n",
    "        tf.keras.layers.Dense(128, activation='relu', kernel_initializer='he_uniform'),\n",
    "        tf.keras.layers.Dropout(0.2),\n",
    "        tf.keras.layers.Dense(64, activation='relu', kernel_initializer='he_uniform'),\n",
    "        tf.keras.layers.Dropout(0.1),\n",
    "        tf.keras.layers.Dense(32, activation='relu', kernel_initializer='he_uniform'),\n",
    "        tf.keras.layers.Dropout(0.1),\n",
    "        tf.keras.layers.Dense(3, activation='softmax')\n",
    "    ])\n",
    "\n"
   ]
  },
  {
   "cell_type": "code",
   "execution_count": null,
   "metadata": {
    "pycharm": {
     "name": "#%%\n"
    }
   },
   "outputs": [],
   "source": []
  },
  {
   "cell_type": "code",
   "execution_count": null,
   "metadata": {
    "pycharm": {
     "name": "#%%\n"
    }
   },
   "outputs": [],
   "source": []
  },
  {
   "cell_type": "code",
   "execution_count": null,
   "metadata": {
    "pycharm": {
     "name": "#%%\n"
    }
   },
   "outputs": [],
   "source": []
  },
  {
   "cell_type": "code",
   "execution_count": null,
   "metadata": {
    "pycharm": {
     "name": "#%%\n"
    }
   },
   "outputs": [],
   "source": [
    " "
   ]
  },
  {
   "cell_type": "code",
   "execution_count": null,
   "metadata": {
    "pycharm": {
     "name": "#%%\n"
    }
   },
   "outputs": [],
   "source": [
    " "
   ]
  },
  {
   "cell_type": "markdown",
   "metadata": {
    "pycharm": {
     "name": "#%% md\n"
    }
   },
   "source": []
  },
  {
   "cell_type": "code",
   "execution_count": null,
   "metadata": {
    "pycharm": {
     "name": "#%%\n"
    }
   },
   "outputs": [],
   "source": []
  },
  {
   "cell_type": "code",
   "execution_count": null,
   "metadata": {
    "pycharm": {
     "name": "#%%\n"
    }
   },
   "outputs": [],
   "source": [
    " model.summary()"
   ]
  },
  {
   "cell_type": "markdown",
   "metadata": {
    "pycharm": {
     "name": "#%% md\n"
    }
   },
   "source": [
    "# Hiperparámetros del entrenamiento"
   ]
  },
  {
   "cell_type": "code",
   "execution_count": null,
   "metadata": {
    "pycharm": {
     "name": "#%%\n"
    }
   },
   "outputs": [],
   "source": [
    "  # callback to save the best model\n",
    "  callback_1 = tf.keras.callbacks.ModelCheckpoint(\n",
    "    os.path.join(MODEL_SAVE_FOLDER,model_name), monitor='val_categorical_accuracy', verbose=0, save_best_only=True,\n",
    "    save_weights_only=False, mode='max', save_freq='epoch'\n",
    "    )\n",
    "\n",
    "  # callback to stop the model if it hasnt improved in 50 epochs\n",
    "  callback_2 = tf.keras.callbacks.EarlyStopping(\n",
    "    monitor='val_categorical_accuracy', min_delta=0.001, patience=50, verbose=0, mode='max',\n",
    "    baseline=None, restore_best_weights=True\n",
    "    )\n"
   ]
  },
  {
   "cell_type": "code",
   "execution_count": null,
   "metadata": {
    "pycharm": {
     "name": "#%%\n"
    }
   },
   "outputs": [],
   "source": []
  },
  {
   "cell_type": "code",
   "execution_count": null,
   "metadata": {
    "pycharm": {
     "name": "#%%\n"
    }
   },
   "outputs": [],
   "source": [
    "# A loss object that receives the raw network output and the one-hot raw class labels is created\n",
    "loss = tf.keras.losses.CategoricalCrossentropy(from_logits=False)\n",
    "\n",
    "# a metric object that calculates the accuracy is created\n",
    "accuracy = tf.keras.metrics.CategoricalAccuracy()\n",
    "\n",
    "# optimizer object is created\n",
    "from tensorflow.keras.optimizers import *\n",
    "optimizer1 = Adam(learning_rate=0.01)\n",
    "optimizer2 = Adam(learning_rate=0.001)"
   ]
  },
  {
   "cell_type": "code",
   "execution_count": null,
   "metadata": {
    "pycharm": {
     "name": "#%%\n"
    }
   },
   "outputs": [],
   "source": []
  },
  {
   "cell_type": "markdown",
   "metadata": {
    "pycharm": {
     "name": "#%% md\n"
    }
   },
   "source": [
    "# Compilación del modelo"
   ]
  },
  {
   "cell_type": "code",
   "execution_count": null,
   "metadata": {
    "pycharm": {
     "name": "#%%\n"
    }
   },
   "outputs": [],
   "source": [
    "# compilación del modelo\n",
    "model.compile(optimizer = optimizer,loss = loss , metrics = accuracy)\n"
   ]
  },
  {
   "cell_type": "markdown",
   "metadata": {
    "pycharm": {
     "name": "#%% md\n"
    }
   },
   "source": [
    "# Bucle de entrenamiento"
   ]
  },
  {
   "cell_type": "code",
   "execution_count": null,
   "metadata": {
    "pycharm": {
     "name": "#%%\n"
    }
   },
   "outputs": [],
   "source": [
    "  # In case it is decided to train more than 100 epochs\n",
    "  for i in range(epochs):\n",
    "\n",
    "    with tf.device('/device:GPU:0'):\n",
    "      h = model.fit(train_ds, epochs= 100, validation_data = validation_ds, batch_size = 2, callbacks= [callback_1, callback_2])\n",
    "\n",
    "    #SECUENCIA PARA CONFECCIÓN DEL CSV\n",
    "    if i > 0:\n",
    "      hist = pd.DataFrame(h.history)\n",
    "      history = pd.concat([history, hist])\n",
    "    else:\n",
    "      history = pd.DataFrame(h.history)\n",
    "\n",
    "  history['epoch'] = list(range(0,len(history.index)))\n",
    "\n",
    "  history.to_csv(os.path.join(CSV_FOLDER, name_csv_history), header=True, index=False)\n",
    "\n",
    "  # Plot history: CE\n",
    "  plt.figure()\n",
    "  plt.plot(history['epoch'], history['loss'], label='Loss (training data)')\n",
    "  plt.plot(history['epoch'], history['val_loss'], label='Loss (validation data)')\n",
    "  plt.title('Loss')\n",
    "  plt.ylabel('CE')\n",
    "  plt.xlabel('Nº epoch')\n",
    "  plt.legend(loc=\"upper left\")\n",
    "  plt.show()\n",
    "\n",
    "  # Plot history: Accuracy\n",
    "  plt.figure()\n",
    "  plt.plot(history['epoch'], history['categorical_accuracy'], label='Accuracy (training data)')\n",
    "  plt.plot(history['epoch'], history['val_categorical_accuracy'], label='Accuracy (validation data)')\n",
    "  plt.title('Accuracy')\n",
    "  plt.ylabel('Accuracy')\n",
    "  plt.xlabel('Nº epoch')\n",
    "  plt.legend(loc=\"upper left\")\n",
    "  plt.show()\n",
    "\n",
    "  # show training time\n",
    "  fin = time.time()\n",
    "  print(round((fin - inicio)/60, 0))\n"
   ]
  },
  {
   "cell_type": "code",
   "execution_count": null,
   "metadata": {
    "pycharm": {
     "name": "#%%\n"
    }
   },
   "outputs": [],
   "source": []
  },
  {
   "cell_type": "code",
   "execution_count": null,
   "metadata": {
    "pycharm": {
     "name": "#%%\n"
    }
   },
   "outputs": [],
   "source": []
  },
  {
   "cell_type": "code",
   "execution_count": 15,
   "metadata": {
    "pycharm": {
     "name": "#%%\n"
    }
   },
   "outputs": [],
   "source": []
  },
  {
   "cell_type": "markdown",
   "metadata": {
    "pycharm": {
     "name": "#%% md\n"
    }
   },
   "source": [
    "#### Loss function definition and evaluation function"
   ]
  },
  {
   "cell_type": "code",
   "execution_count": 16,
   "metadata": {
    "pycharm": {
     "name": "#%%\n"
    }
   },
   "outputs": [],
   "source": []
  },
  {
   "cell_type": "markdown",
   "metadata": {
    "pycharm": {
     "name": "#%% md\n"
    }
   },
   "source": [
    "#### Preentrenamiento test y validacion"
   ]
  },
  {
   "cell_type": "code",
   "execution_count": 17,
   "metadata": {
    "pycharm": {
     "name": "#%%\n"
    }
   },
   "outputs": [],
   "source": [
    "test_datagen = tf.keras.preprocessing.image.ImageDataGenerator(\n",
    "                                  rescale=1./255.\n",
    "                                  )\n",
    "\n",
    "valid_datagen = tf.keras.preprocessing.image.ImageDataGenerator(\n",
    "                                  rescale=1./255.\n",
    "                                  )"
   ]
  },
  {
   "cell_type": "code",
   "execution_count": 18,
   "metadata": {
    "pycharm": {
     "name": "#%%\n"
    }
   },
   "outputs": [],
   "source": []
  },
  {
   "cell_type": "code",
   "execution_count": 19,
   "metadata": {
    "pycharm": {
     "name": "#%%\n"
    }
   },
   "outputs": [],
   "source": [
    "# One hot encoding for labels\n",
    "# labels_test = keras.utils.to_categorical(test_panda['class'], 3)\n",
    "# keras.utils.to_categorical(valid_panda['class'], 3)"
   ]
  },
  {
   "cell_type": "code",
   "execution_count": 20,
   "metadata": {
    "pycharm": {
     "name": "#%%\n"
    }
   },
   "outputs": [
    {
     "data": {
      "text/html": [
       "<div>\n",
       "<style scoped>\n",
       "    .dataframe tbody tr th:only-of-type {\n",
       "        vertical-align: middle;\n",
       "    }\n",
       "\n",
       "    .dataframe tbody tr th {\n",
       "        vertical-align: top;\n",
       "    }\n",
       "\n",
       "    .dataframe thead th {\n",
       "        text-align: right;\n",
       "    }\n",
       "</style>\n",
       "<table border=\"1\" class=\"dataframe\">\n",
       "  <thead>\n",
       "    <tr style=\"text-align: right;\">\n",
       "      <th></th>\n",
       "      <th>path</th>\n",
       "      <th>class</th>\n",
       "    </tr>\n",
       "  </thead>\n",
       "  <tbody>\n",
       "    <tr>\n",
       "      <th>0</th>\n",
       "      <td>../../datasets/animals/final/Turtle_564_4.jpg</td>\n",
       "      <td>Turtle</td>\n",
       "    </tr>\n",
       "    <tr>\n",
       "      <th>1</th>\n",
       "      <td>../../datasets/animals/final/Turtle_56.jpg</td>\n",
       "      <td>Turtle</td>\n",
       "    </tr>\n",
       "    <tr>\n",
       "      <th>2</th>\n",
       "      <td>../../datasets/animals/final/Bear_609_3.jpg</td>\n",
       "      <td>Bear</td>\n",
       "    </tr>\n",
       "    <tr>\n",
       "      <th>3</th>\n",
       "      <td>../../datasets/animals/final/Bear_593_2.jpg</td>\n",
       "      <td>Bear</td>\n",
       "    </tr>\n",
       "    <tr>\n",
       "      <th>4</th>\n",
       "      <td>../../datasets/animals/final/Turtle_6.jpg</td>\n",
       "      <td>Turtle</td>\n",
       "    </tr>\n",
       "    <tr>\n",
       "      <th>...</th>\n",
       "      <td>...</td>\n",
       "      <td>...</td>\n",
       "    </tr>\n",
       "    <tr>\n",
       "      <th>907</th>\n",
       "      <td>../../datasets/animals/final/Chicken_479_1.jpg</td>\n",
       "      <td>Chicken</td>\n",
       "    </tr>\n",
       "    <tr>\n",
       "      <th>908</th>\n",
       "      <td>../../datasets/animals/final/Bear_635_4.jpg</td>\n",
       "      <td>Bear</td>\n",
       "    </tr>\n",
       "    <tr>\n",
       "      <th>909</th>\n",
       "      <td>../../datasets/animals/final/Turtle_56_4.jpg</td>\n",
       "      <td>Turtle</td>\n",
       "    </tr>\n",
       "    <tr>\n",
       "      <th>910</th>\n",
       "      <td>../../datasets/animals/final/Bear_622_2.jpg</td>\n",
       "      <td>Bear</td>\n",
       "    </tr>\n",
       "    <tr>\n",
       "      <th>911</th>\n",
       "      <td>../../datasets/animals/final/Chicken_481_4.jpg</td>\n",
       "      <td>Chicken</td>\n",
       "    </tr>\n",
       "  </tbody>\n",
       "</table>\n",
       "<p>912 rows × 2 columns</p>\n",
       "</div>"
      ],
      "text/plain": [
       "                                               path    class\n",
       "0     ../../datasets/animals/final/Turtle_564_4.jpg   Turtle\n",
       "1        ../../datasets/animals/final/Turtle_56.jpg   Turtle\n",
       "2       ../../datasets/animals/final/Bear_609_3.jpg     Bear\n",
       "3       ../../datasets/animals/final/Bear_593_2.jpg     Bear\n",
       "4         ../../datasets/animals/final/Turtle_6.jpg   Turtle\n",
       "..                                              ...      ...\n",
       "907  ../../datasets/animals/final/Chicken_479_1.jpg  Chicken\n",
       "908     ../../datasets/animals/final/Bear_635_4.jpg     Bear\n",
       "909    ../../datasets/animals/final/Turtle_56_4.jpg   Turtle\n",
       "910     ../../datasets/animals/final/Bear_622_2.jpg     Bear\n",
       "911  ../../datasets/animals/final/Chicken_481_4.jpg  Chicken\n",
       "\n",
       "[912 rows x 2 columns]"
      ]
     },
     "execution_count": 20,
     "metadata": {},
     "output_type": "execute_result"
    }
   ],
   "source": [
    "test_panda"
   ]
  },
  {
   "cell_type": "code",
   "execution_count": 21,
   "metadata": {
    "pycharm": {
     "name": "#%%\n"
    }
   },
   "outputs": [
    {
     "data": {
      "text/plain": [
       "'test_np = read_csv(CSV_FOLDER + TEST_CSV)\\nnp.transpose(test_np)\\n\\ntest_imgs = test_np[0]\\ntest_labels = test_np[1]\\ntest_imgs\\nkeras.utils.to_categorical(test_labels, 3)'"
      ]
     },
     "execution_count": 21,
     "metadata": {},
     "output_type": "execute_result"
    }
   ],
   "source": [
    "def read_csv(input_csv):\n",
    "    imgs_relative_path , labels = np.loadtxt(input_csv,dtype=str,\n",
    "                                     delimiter=',', usecols=(0, 1), unpack=True)\n",
    "    return imgs_relative_path, labels\n",
    "\n",
    "'''test_np = read_csv(CSV_FOLDER + TEST_CSV)\n",
    "np.transpose(test_np)\n",
    "\n",
    "test_imgs = test_np[0]\n",
    "test_labels = test_np[1]\n",
    "test_imgs\n",
    "keras.utils.to_categorical(test_labels, 3)'''"
   ]
  },
  {
   "cell_type": "code",
   "execution_count": 22,
   "metadata": {
    "pycharm": {
     "name": "#%%\n"
    }
   },
   "outputs": [
    {
     "name": "stdout",
     "output_type": "stream",
     "text": [
      "Found 912 validated image filenames belonging to 3 classes.\n"
     ]
    }
   ],
   "source": [
    "test_ds = test_datagen.flow_from_dataframe(\n",
    "                        test_panda,\n",
    "                        x_col = 'path',\n",
    "                        y_col = 'class',\n",
    "                        target_size = (IMG_WIDTH,IMG_HEIGHT),\n",
    "                        color_mode = 'rgb',\n",
    "                        batch_size = 32,\n",
    "                        shuffle = True,\n",
    "                        interpolation = \"bicubic\",\n",
    "                        class_mode='categorical'\n",
    "                        )"
   ]
  },
  {
   "cell_type": "code",
   "execution_count": 23,
   "metadata": {
    "pycharm": {
     "name": "#%%\n"
    }
   },
   "outputs": [
    {
     "name": "stdout",
     "output_type": "stream",
     "text": [
      "Found 911 validated image filenames belonging to 3 classes.\n"
     ]
    }
   ],
   "source": [
    "valid_ds = valid_datagen.flow_from_dataframe(\n",
    "                        valid_panda,\n",
    "                        x_col = 'path',\n",
    "                        y_col = 'class',\n",
    "                        target_size = (IMG_WIDTH,IMG_HEIGHT),\n",
    "                        color_mode = 'rgb',\n",
    "                        batch_size = 32,\n",
    "                        shuffle = True,\n",
    "                        interpolation = \"bicubic\",\n",
    "                        class_mode='categorical'\n",
    "                        )"
   ]
  },
  {
   "cell_type": "markdown",
   "metadata": {
    "pycharm": {
     "name": "#%% md\n"
    }
   },
   "source": [
    "#### Train generator with data boost"
   ]
  },
  {
   "cell_type": "code",
   "execution_count": 24,
   "metadata": {
    "pycharm": {
     "name": "#%%\n"
    }
   },
   "outputs": [
    {
     "name": "stdout",
     "output_type": "stream",
     "text": [
      "Found 7292 validated image filenames belonging to 3 classes.\n"
     ]
    }
   ],
   "source": [
    "train = pd.read_csv(os.path.join(CSV_FOLDER, TRAIN_CSV))\n",
    "# keras.utils.to_categorical(train['class'], 3)\n",
    "\n",
    "train_datagen = tf.keras.preprocessing.image.ImageDataGenerator(\n",
    "                                  rescale=1./255.,\n",
    "                                  rotation_range = 10,\n",
    "                                  )\n",
    "train_ds = train_datagen.flow_from_dataframe(\n",
    "                        train,\n",
    "                        x_col = 'path',\n",
    "                        y_col = 'class',\n",
    "                        target_size = (IMG_WIDTH,IMG_HEIGHT),\n",
    "                        color_mode = 'rgb',\n",
    "                        batch_size = 128,\n",
    "                        shuffle = True,\n",
    "                        interpolation = \"bicubic\",\n",
    "                        class_mode='categorical'\n",
    "                        )"
   ]
  },
  {
   "cell_type": "markdown",
   "metadata": {
    "pycharm": {
     "name": "#%% md\n"
    }
   },
   "source": [
    "## __Xception (1) Classification Layer training. Frozen base model__"
   ]
  },
  {
   "cell_type": "code",
   "execution_count": 25,
   "metadata": {
    "pycharm": {
     "name": "#%%\n"
    }
   },
   "outputs": [],
   "source": [
    "# base model definition to characteristic extraction\n",
    "# phase 1, frozen model, adjust of classification selection\n",
    "\n",
    "base_model = tf.keras.applications.Xception(input_shape=(IMG_WIDTH, IMG_HEIGHT, 3),\n",
    "                                                include_top=False,\n",
    "                                                weights='imagenet')\n",
    "base_model.trainable = False"
   ]
  },
  {
   "cell_type": "code",
   "execution_count": null,
   "metadata": {
    "pycharm": {
     "is_executing": true,
     "name": "#%%\n"
    }
   },
   "outputs": [
    {
     "name": "stdout",
     "output_type": "stream",
     "text": [
      "Model: \"sequential\"\n",
      "_________________________________________________________________\n",
      " Layer (type)                Output Shape              Param #   \n",
      "=================================================================\n",
      " xception (Functional)       (None, 7, 7, 2048)        20861480  \n",
      "                                                                 \n",
      " global_average_pooling2d (G  (None, 2048)             0         \n",
      " lobalAveragePooling2D)                                          \n",
      "                                                                 \n",
      " dense (Dense)               (None, 128)               262272    \n",
      "                                                                 \n",
      " dropout (Dropout)           (None, 128)               0         \n",
      "                                                                 \n",
      " dense_1 (Dense)             (None, 64)                8256      \n",
      "                                                                 \n",
      " dropout_1 (Dropout)         (None, 64)                0         \n",
      "                                                                 \n",
      " dense_2 (Dense)             (None, 32)                2080      \n",
      "                                                                 \n",
      " dropout_2 (Dropout)         (None, 32)                0         \n",
      "                                                                 \n",
      " dense_3 (Dense)             (None, 3)                 99        \n",
      "                                                                 \n",
      "=================================================================\n",
      "Total params: 21,134,187\n",
      "Trainable params: 272,707\n",
      "Non-trainable params: 20,861,480\n",
      "_________________________________________________________________\n",
      "Epoch 1/100\n"
     ]
    }
   ],
   "source": [
    "training_function(base_model, 0, 'NOT NECESSARY', optimizer1, loss, accuracy, \"model.h5\", train_ds, valid_ds, 1, \"Xcep1.csv\")"
   ]
  },
  {
   "cell_type": "code",
   "execution_count": null,
   "metadata": {
    "pycharm": {
     "is_executing": true,
     "name": "#%%\n"
    }
   },
   "outputs": [],
   "source": [
    "\n",
    "\n",
    "  # compilación del modelo\n",
    "  # model.compile(optimizer = optimizer,loss = loss , metrics = accuracy)"
   ]
  },
  {
   "cell_type": "code",
   "execution_count": 7,
   "metadata": {
    "pycharm": {
     "name": "#%%\n"
    }
   },
   "outputs": [],
   "source": [
    "MODEL_PATH = None\n",
    "WEIGHTS_PATH = None\n",
    "    \n",
    "    \n",
    "# Path to folder where to save the model\n",
    "MODEL_SAVE_FOLDER = \"C:/Users/albam/OneDrive - UNIVERSIDAD DE HUELVA/2. Universidad/Proyects/2. Animal Recognition/models/v4/\"\n",
    "MODEL_SAVE_FOLDER = os.path.abspath(MODEL_SAVE_FOLDER) + os.sep\n"
   ]
  },
  {
   "cell_type": "code",
   "execution_count": 8,
   "metadata": {
    "pycharm": {
     "name": "#%%\n"
    }
   },
   "outputs": [
    {
     "ename": "TypeError",
     "evalue": "_getfullpathname: path should be string, bytes or os.PathLike, not NoneType",
     "output_type": "error",
     "traceback": [
      "\u001B[1;31m---------------------------------------------------------------------------\u001B[0m",
      "\u001B[1;31mTypeError\u001B[0m                                 Traceback (most recent call last)",
      "\u001B[1;32m<ipython-input-8-8a1515249220>\u001B[0m in \u001B[0;36m<module>\u001B[1;34m\u001B[0m\n\u001B[1;32m----> 1\u001B[1;33m \u001B[0mMODEL_SAVE_FOLDER\u001B[0m \u001B[1;33m=\u001B[0m \u001B[0mos\u001B[0m\u001B[1;33m.\u001B[0m\u001B[0mpath\u001B[0m\u001B[1;33m.\u001B[0m\u001B[0mabspath\u001B[0m\u001B[1;33m(\u001B[0m\u001B[0mWEIGHTS_PATH\u001B[0m\u001B[1;33m)\u001B[0m \u001B[1;33m+\u001B[0m \u001B[0mos\u001B[0m\u001B[1;33m.\u001B[0m\u001B[0msep\u001B[0m\u001B[1;33m\u001B[0m\u001B[1;33m\u001B[0m\u001B[0m\n\u001B[0m",
      "\u001B[1;32m~\\anaconda3\\lib\\ntpath.py\u001B[0m in \u001B[0;36mabspath\u001B[1;34m(path)\u001B[0m\n\u001B[0;32m    525\u001B[0m         \u001B[1;34m\"\"\"Return the absolute version of a path.\"\"\"\u001B[0m\u001B[1;33m\u001B[0m\u001B[1;33m\u001B[0m\u001B[0m\n\u001B[0;32m    526\u001B[0m         \u001B[1;32mtry\u001B[0m\u001B[1;33m:\u001B[0m\u001B[1;33m\u001B[0m\u001B[1;33m\u001B[0m\u001B[0m\n\u001B[1;32m--> 527\u001B[1;33m             \u001B[1;32mreturn\u001B[0m \u001B[0mnormpath\u001B[0m\u001B[1;33m(\u001B[0m\u001B[0m_getfullpathname\u001B[0m\u001B[1;33m(\u001B[0m\u001B[0mpath\u001B[0m\u001B[1;33m)\u001B[0m\u001B[1;33m)\u001B[0m\u001B[1;33m\u001B[0m\u001B[1;33m\u001B[0m\u001B[0m\n\u001B[0m\u001B[0;32m    528\u001B[0m         \u001B[1;32mexcept\u001B[0m \u001B[1;33m(\u001B[0m\u001B[0mOSError\u001B[0m\u001B[1;33m,\u001B[0m \u001B[0mValueError\u001B[0m\u001B[1;33m)\u001B[0m\u001B[1;33m:\u001B[0m\u001B[1;33m\u001B[0m\u001B[1;33m\u001B[0m\u001B[0m\n\u001B[0;32m    529\u001B[0m             \u001B[1;32mreturn\u001B[0m \u001B[0m_abspath_fallback\u001B[0m\u001B[1;33m(\u001B[0m\u001B[0mpath\u001B[0m\u001B[1;33m)\u001B[0m\u001B[1;33m\u001B[0m\u001B[1;33m\u001B[0m\u001B[0m\n",
      "\u001B[1;31mTypeError\u001B[0m: _getfullpathname: path should be string, bytes or os.PathLike, not NoneType"
     ]
    }
   ],
   "source": [
    "MODEL_SAVE_FOLDER = os.path.abspath(WEIGHTS_PATH) + os.sep"
   ]
  },
  {
   "cell_type": "code",
   "execution_count": null,
   "metadata": {
    "pycharm": {
     "name": "#%%\n"
    }
   },
   "outputs": [],
   "source": []
  },
  {
   "cell_type": "code",
   "execution_count": null,
   "metadata": {
    "pycharm": {
     "name": "#%%\n"
    }
   },
   "outputs": [],
   "source": []
  }
 ],
 "metadata": {
  "kernelspec": {
   "display_name": "Python 3 (ipykernel)",
   "language": "python",
   "name": "python3"
  },
  "language_info": {
   "codemirror_mode": {
    "name": "ipython",
    "version": 3
   },
   "file_extension": ".py",
   "mimetype": "text/x-python",
   "name": "python",
   "nbconvert_exporter": "python",
   "pygments_lexer": "ipython3",
   "version": "3.10.6"
  }
 },
 "nbformat": 4,
 "nbformat_minor": 4
}