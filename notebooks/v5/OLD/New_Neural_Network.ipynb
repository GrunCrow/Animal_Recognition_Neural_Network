{
 "cells": [
  {
   "cell_type": "markdown",
   "metadata": {
    "pycharm": {
     "name": "#%% md\n"
    }
   },
   "source": [
    "## Imports"
   ]
  },
  {
   "cell_type": "code",
   "execution_count": 2,
   "outputs": [
    {
     "data": {
      "text/plain": "<module 'constants' from 'C:\\\\Users\\\\albam\\\\OneDrive - UNIVERSIDAD DE HUELVA\\\\2. Universidad\\\\Proyects\\\\2. Animal Recognition\\\\notebooks\\\\v5\\\\constants.py'>"
     },
     "execution_count": 2,
     "metadata": {},
     "output_type": "execute_result"
    }
   ],
   "source": [
    "import constants\n",
    "from constants import *\n",
    "\n",
    "import os\n",
    "os.environ[\"CUDA_VISIBLE_DEVICES\"] = \"-1\"\n",
    "\n",
    "from matplotlib import pyplot as plt\n",
    "import pandas as pd\n",
    "\n",
    "import time\n",
    "\n",
    "import sklearn\n",
    "import tensorflow as tf\n",
    "import numpy as np\n",
    "import keras\n",
    "from tensorflow.keras import layers\n",
    "from tensorflow.keras.optimizers import *\n",
    "\n",
    "#from sklearn.metrics import *\n",
    "#from sklearn.metrics import classification_report\n",
    "# import seaborn as sns\n",
    "\n",
    "import sys\n",
    "import importlib\n",
    "importlib.reload(constants)"
   ],
   "metadata": {
    "collapsed": false,
    "pycharm": {
     "name": "#%%\n"
    }
   }
  },
  {
   "cell_type": "markdown",
   "source": [
    "## Define Device"
   ],
   "metadata": {
    "collapsed": false,
    "pycharm": {
     "name": "#%% md\n"
    }
   }
  },
  {
   "cell_type": "code",
   "execution_count": 3,
   "outputs": [],
   "source": [
    "# from tensorflow.python.client import device_lib"
   ],
   "metadata": {
    "collapsed": false,
    "pycharm": {
     "name": "#%%\n"
    }
   }
  },
  {
   "cell_type": "code",
   "execution_count": 4,
   "outputs": [
    {
     "data": {
      "text/plain": "'gpus = tf.config.experimental.list_physical_devices(\\'GPU\\')\\nif gpus:\\n  # Restrict TensorFlow to only use the first GPU\\n  try:\\n    tf.config.experimental.set_visible_devices(gpus[0], \\'GPU\\')\\n    logical_gpus = tf.config.experimental.list_logical_devices(\\'GPU\\')\\n    print(len(gpus), \"Physical GPUs,\", len(logical_gpus), \"Logical GPU\")\\n  except RuntimeError as e:\\n    # Visible devices must be set before GPUs have been initialized\\n    print(e)'"
     },
     "execution_count": 4,
     "metadata": {},
     "output_type": "execute_result"
    }
   ],
   "source": [
    "'''gpus = tf.config.experimental.list_physical_devices('GPU')\n",
    "if gpus:\n",
    "  # Restrict TensorFlow to only use the first GPU\n",
    "  try:\n",
    "    tf.config.experimental.set_visible_devices(gpus[0], 'GPU')\n",
    "    logical_gpus = tf.config.experimental.list_logical_devices('GPU')\n",
    "    print(len(gpus), \"Physical GPUs,\", len(logical_gpus), \"Logical GPU\")\n",
    "  except RuntimeError as e:\n",
    "    # Visible devices must be set before GPUs have been initialized\n",
    "    print(e)'''"
   ],
   "metadata": {
    "collapsed": false,
    "pycharm": {
     "name": "#%%\n"
    }
   }
  },
  {
   "cell_type": "code",
   "execution_count": 4,
   "outputs": [],
   "source": [],
   "metadata": {
    "collapsed": false,
    "pycharm": {
     "name": "#%%\n"
    }
   }
  },
  {
   "cell_type": "markdown",
   "source": [
    "## Generación del dataset"
   ],
   "metadata": {
    "collapsed": false,
    "pycharm": {
     "name": "#%% md\n"
    }
   }
  },
  {
   "cell_type": "code",
   "execution_count": 4,
   "outputs": [],
   "source": [],
   "metadata": {
    "collapsed": false,
    "pycharm": {
     "name": "#%%\n"
    }
   }
  },
  {
   "cell_type": "code",
   "execution_count": 5,
   "outputs": [],
   "source": [
    "train_panda = pd.read_csv(os.path.join(CSV_FOLDER, TRAIN_CSV))\n",
    "validation_panda = pd.read_csv(os.path.join(CSV_FOLDER, VALIDATION_CSV))"
   ],
   "metadata": {
    "collapsed": false,
    "pycharm": {
     "name": "#%%\n"
    }
   }
  },
  {
   "cell_type": "code",
   "execution_count": 6,
   "outputs": [],
   "source": [
    "# train_panda[\"path\"] = train_panda[\"path\"].str.replace(\"animals\",DATASETS_ROOT_FOLDER + \"/animals\")"
   ],
   "metadata": {
    "collapsed": false,
    "pycharm": {
     "name": "#%%\n"
    }
   }
  },
  {
   "cell_type": "code",
   "execution_count": 7,
   "outputs": [],
   "source": [
    "# Añadir el path absoluto (la parte desde C:// ... hasta animals al inicio para poder acceder\n",
    "train_panda[\"path\"] = [DATASETS_ROOT_FOLDER + item for item in train_panda[\"path\"]]\n",
    "validation_panda[\"path\"] = [DATASETS_ROOT_FOLDER + item for item in validation_panda[\"path\"]]"
   ],
   "metadata": {
    "collapsed": false,
    "pycharm": {
     "name": "#%%\n"
    }
   }
  },
  {
   "cell_type": "code",
   "execution_count": 8,
   "outputs": [],
   "source": [
    "train_panda[\"class\"] = [CLASS_DICTIONARY[item] for item in train_panda[\"class\"]]\n",
    "validation_panda[\"class\"] = [CLASS_DICTIONARY[item] for item in validation_panda[\"class\"]]"
   ],
   "metadata": {
    "collapsed": false,
    "pycharm": {
     "name": "#%%\n"
    }
   }
  },
  {
   "cell_type": "code",
   "execution_count": 9,
   "outputs": [
    {
     "data": {
      "text/plain": "                                                path  class\n0      ../../datasets/animals/final/Turtle_130_1.jpg      0\n1       ../../datasets/animals/final/Turtle_20_2.jpg      0\n2       ../../datasets/animals/final/Chicken_146.jpg      1\n3      ../../datasets/animals/final/Turtle_188_1.jpg      0\n4      ../../datasets/animals/final/Turtle_367_1.jpg      0\n...                                              ...    ...\n7287    ../../datasets/animals/final/Chicken_368.jpg      1\n7288  ../../datasets/animals/final/Chicken_321_2.jpg      1\n7289   ../../datasets/animals/final/Turtle_262_1.jpg      0\n7290  ../../datasets/animals/final/Chicken_276_1.jpg      1\n7291   ../../datasets/animals/final/Chicken_32_2.jpg      1\n\n[7292 rows x 2 columns]",
      "text/html": "<div>\n<style scoped>\n    .dataframe tbody tr th:only-of-type {\n        vertical-align: middle;\n    }\n\n    .dataframe tbody tr th {\n        vertical-align: top;\n    }\n\n    .dataframe thead th {\n        text-align: right;\n    }\n</style>\n<table border=\"1\" class=\"dataframe\">\n  <thead>\n    <tr style=\"text-align: right;\">\n      <th></th>\n      <th>path</th>\n      <th>class</th>\n    </tr>\n  </thead>\n  <tbody>\n    <tr>\n      <th>0</th>\n      <td>../../datasets/animals/final/Turtle_130_1.jpg</td>\n      <td>0</td>\n    </tr>\n    <tr>\n      <th>1</th>\n      <td>../../datasets/animals/final/Turtle_20_2.jpg</td>\n      <td>0</td>\n    </tr>\n    <tr>\n      <th>2</th>\n      <td>../../datasets/animals/final/Chicken_146.jpg</td>\n      <td>1</td>\n    </tr>\n    <tr>\n      <th>3</th>\n      <td>../../datasets/animals/final/Turtle_188_1.jpg</td>\n      <td>0</td>\n    </tr>\n    <tr>\n      <th>4</th>\n      <td>../../datasets/animals/final/Turtle_367_1.jpg</td>\n      <td>0</td>\n    </tr>\n    <tr>\n      <th>...</th>\n      <td>...</td>\n      <td>...</td>\n    </tr>\n    <tr>\n      <th>7287</th>\n      <td>../../datasets/animals/final/Chicken_368.jpg</td>\n      <td>1</td>\n    </tr>\n    <tr>\n      <th>7288</th>\n      <td>../../datasets/animals/final/Chicken_321_2.jpg</td>\n      <td>1</td>\n    </tr>\n    <tr>\n      <th>7289</th>\n      <td>../../datasets/animals/final/Turtle_262_1.jpg</td>\n      <td>0</td>\n    </tr>\n    <tr>\n      <th>7290</th>\n      <td>../../datasets/animals/final/Chicken_276_1.jpg</td>\n      <td>1</td>\n    </tr>\n    <tr>\n      <th>7291</th>\n      <td>../../datasets/animals/final/Chicken_32_2.jpg</td>\n      <td>1</td>\n    </tr>\n  </tbody>\n</table>\n<p>7292 rows × 2 columns</p>\n</div>"
     },
     "execution_count": 9,
     "metadata": {},
     "output_type": "execute_result"
    }
   ],
   "source": [
    "train_panda"
   ],
   "metadata": {
    "collapsed": false,
    "pycharm": {
     "name": "#%%\n"
    }
   }
  },
  {
   "cell_type": "code",
   "execution_count": 10,
   "outputs": [
    {
     "data": {
      "text/plain": "                                              path  class\n0      ../../datasets/animals/final/Turtle_615.jpg      0\n1       ../../datasets/animals/final/Bear_86_4.jpg      2\n2       ../../datasets/animals/final/Bear_64_2.jpg      2\n3       ../../datasets/animals/final/Bear_80_1.jpg      2\n4         ../../datasets/animals/final/Bear_77.jpg      2\n..                                             ...    ...\n906  ../../datasets/animals/final/Turtle_623_2.jpg      0\n907      ../../datasets/animals/final/Turtle_7.jpg      0\n908     ../../datasets/animals/final/Bear_95_1.jpg      2\n909  ../../datasets/animals/final/Chicken_54_2.jpg      1\n910    ../../datasets/animals/final/Bear_663_3.jpg      2\n\n[911 rows x 2 columns]",
      "text/html": "<div>\n<style scoped>\n    .dataframe tbody tr th:only-of-type {\n        vertical-align: middle;\n    }\n\n    .dataframe tbody tr th {\n        vertical-align: top;\n    }\n\n    .dataframe thead th {\n        text-align: right;\n    }\n</style>\n<table border=\"1\" class=\"dataframe\">\n  <thead>\n    <tr style=\"text-align: right;\">\n      <th></th>\n      <th>path</th>\n      <th>class</th>\n    </tr>\n  </thead>\n  <tbody>\n    <tr>\n      <th>0</th>\n      <td>../../datasets/animals/final/Turtle_615.jpg</td>\n      <td>0</td>\n    </tr>\n    <tr>\n      <th>1</th>\n      <td>../../datasets/animals/final/Bear_86_4.jpg</td>\n      <td>2</td>\n    </tr>\n    <tr>\n      <th>2</th>\n      <td>../../datasets/animals/final/Bear_64_2.jpg</td>\n      <td>2</td>\n    </tr>\n    <tr>\n      <th>3</th>\n      <td>../../datasets/animals/final/Bear_80_1.jpg</td>\n      <td>2</td>\n    </tr>\n    <tr>\n      <th>4</th>\n      <td>../../datasets/animals/final/Bear_77.jpg</td>\n      <td>2</td>\n    </tr>\n    <tr>\n      <th>...</th>\n      <td>...</td>\n      <td>...</td>\n    </tr>\n    <tr>\n      <th>906</th>\n      <td>../../datasets/animals/final/Turtle_623_2.jpg</td>\n      <td>0</td>\n    </tr>\n    <tr>\n      <th>907</th>\n      <td>../../datasets/animals/final/Turtle_7.jpg</td>\n      <td>0</td>\n    </tr>\n    <tr>\n      <th>908</th>\n      <td>../../datasets/animals/final/Bear_95_1.jpg</td>\n      <td>2</td>\n    </tr>\n    <tr>\n      <th>909</th>\n      <td>../../datasets/animals/final/Chicken_54_2.jpg</td>\n      <td>1</td>\n    </tr>\n    <tr>\n      <th>910</th>\n      <td>../../datasets/animals/final/Bear_663_3.jpg</td>\n      <td>2</td>\n    </tr>\n  </tbody>\n</table>\n<p>911 rows × 2 columns</p>\n</div>"
     },
     "execution_count": 10,
     "metadata": {},
     "output_type": "execute_result"
    }
   ],
   "source": [
    "validation_panda"
   ],
   "metadata": {
    "collapsed": false,
    "pycharm": {
     "name": "#%%\n"
    }
   }
  },
  {
   "cell_type": "code",
   "execution_count": 11,
   "outputs": [],
   "source": [
    "# pixeles a valores entre 0 y 1\n",
    "# https://www.tensorflow.org/api_docs/python/tf/keras/preprocessing/image/ImageDataGenerator\n",
    "\n",
    "train_datagen = tf.keras.preprocessing.image.ImageDataGenerator(\n",
    "                                  rescale=1./255.\n",
    "                                  )\n",
    "\n",
    "validation_datagen = tf.keras.preprocessing.image.ImageDataGenerator(\n",
    "                                  rescale=1./255.\n",
    "                                  )"
   ],
   "metadata": {
    "collapsed": false,
    "pycharm": {
     "name": "#%%\n"
    }
   }
  },
  {
   "cell_type": "code",
   "execution_count": 12,
   "outputs": [
    {
     "name": "stdout",
     "output_type": "stream",
     "text": [
      "Found 7292 validated image filenames.\n",
      "Found 911 validated image filenames.\n"
     ]
    }
   ],
   "source": [
    "train_ds = train_datagen.flow_from_dataframe(\n",
    "                        train_panda,\n",
    "                        x_col = 'path',\n",
    "                        y_col = 'class',\n",
    "                        target_size = (IMG_WIDTH,IMG_HEIGHT),\n",
    "                        color_mode = 'rgb',\n",
    "                        batch_size = 32,\n",
    "                        shuffle = True,\n",
    "                        interpolation = \"bicubic\",\n",
    "                        class_mode='raw'\n",
    "                        )\n",
    "\n",
    "# Validation\n",
    "validation_ds = validation_datagen.flow_from_dataframe(\n",
    "                        validation_panda,\n",
    "                        x_col = 'path',\n",
    "                        y_col = 'class',\n",
    "                        target_size = (IMG_WIDTH,IMG_HEIGHT),\n",
    "                        color_mode = 'rgb',\n",
    "                        batch_size = 32,\n",
    "                        shuffle = False,    # no necesario para la validacion ya que solo sirve para medir\n",
    "                        interpolation = \"bicubic\",\n",
    "                        class_mode='raw'\n",
    "                        )"
   ],
   "metadata": {
    "collapsed": false,
    "pycharm": {
     "name": "#%%\n"
    }
   }
  },
  {
   "cell_type": "markdown",
   "source": [],
   "metadata": {
    "collapsed": false,
    "pycharm": {
     "name": "#%% md\n"
    }
   }
  },
  {
   "cell_type": "markdown",
   "source": [],
   "metadata": {
    "collapsed": false,
    "pycharm": {
     "name": "#%% md\n"
    }
   }
  },
  {
   "cell_type": "markdown",
   "source": [],
   "metadata": {
    "collapsed": false,
    "pycharm": {
     "name": "#%% md\n"
    }
   }
  },
  {
   "cell_type": "markdown",
   "source": [
    "## Modelo"
   ],
   "metadata": {
    "collapsed": false,
    "pycharm": {
     "name": "#%% md\n"
    }
   }
  },
  {
   "cell_type": "code",
   "execution_count": 13,
   "outputs": [],
   "source": [
    "MODEL_NAME = \"test_model\"\n",
    "FROM_LOGITS = True\n",
    "MODEL_PATH = None"
   ],
   "metadata": {
    "collapsed": false,
    "pycharm": {
     "name": "#%%\n"
    }
   }
  },
  {
   "cell_type": "code",
   "execution_count": 14,
   "outputs": [],
   "source": [
    "if MODEL_PATH:\n",
    "    model = tf.keras.models.load_model(MODEL_PATH)\n",
    "else:\n",
    "    model = tf.keras.models.Sequential([\n",
    "      tf.keras.layers.Conv2D(16, (3, 3), activation='relu', input_shape=(200, 200,3)),\n",
    "      tf.keras.layers.MaxPooling2D((2, 2)),\n",
    "      tf.keras.layers.Conv2D(32, (3, 3), activation='relu'),\n",
    "      tf.keras.layers.MaxPooling2D((2, 2)),\n",
    "      tf.keras.layers.Conv2D(32, (3, 3), activation='relu'),\n",
    "      tf.keras.layers.Flatten(),\n",
    "      tf.keras.layers.Dense(3)\n",
    "    ])"
   ],
   "metadata": {
    "collapsed": false,
    "pycharm": {
     "name": "#%%\n"
    }
   }
  },
  {
   "cell_type": "code",
   "execution_count": 15,
   "outputs": [
    {
     "name": "stdout",
     "output_type": "stream",
     "text": [
      "Model: \"sequential\"\n",
      "_________________________________________________________________\n",
      " Layer (type)                Output Shape              Param #   \n",
      "=================================================================\n",
      " conv2d (Conv2D)             (None, 198, 198, 16)      448       \n",
      "                                                                 \n",
      " max_pooling2d (MaxPooling2D  (None, 99, 99, 16)       0         \n",
      " )                                                               \n",
      "                                                                 \n",
      " conv2d_1 (Conv2D)           (None, 97, 97, 32)        4640      \n",
      "                                                                 \n",
      " max_pooling2d_1 (MaxPooling  (None, 48, 48, 32)       0         \n",
      " 2D)                                                             \n",
      "                                                                 \n",
      " conv2d_2 (Conv2D)           (None, 46, 46, 32)        9248      \n",
      "                                                                 \n",
      " flatten (Flatten)           (None, 67712)             0         \n",
      "                                                                 \n",
      " dense (Dense)               (None, 3)                 203139    \n",
      "                                                                 \n",
      "=================================================================\n",
      "Total params: 217,475\n",
      "Trainable params: 217,475\n",
      "Non-trainable params: 0\n",
      "_________________________________________________________________\n"
     ]
    }
   ],
   "source": [
    "model.summary()"
   ],
   "metadata": {
    "collapsed": false,
    "pycharm": {
     "name": "#%%\n"
    }
   }
  },
  {
   "cell_type": "code",
   "execution_count": 15,
   "outputs": [],
   "source": [],
   "metadata": {
    "collapsed": false,
    "pycharm": {
     "name": "#%%\n"
    }
   }
  },
  {
   "cell_type": "markdown",
   "source": [
    "# Hiperparametros del entramiento"
   ],
   "metadata": {
    "collapsed": false,
    "pycharm": {
     "name": "#%% md\n"
    }
   }
  },
  {
   "cell_type": "code",
   "execution_count": 15,
   "outputs": [],
   "source": [],
   "metadata": {
    "collapsed": false,
    "pycharm": {
     "name": "#%%\n"
    }
   }
  },
  {
   "cell_type": "code",
   "execution_count": 16,
   "outputs": [],
   "source": [
    "# callback to save the best model\n",
    "\n",
    "# save best model in validation\n",
    "# monitoriza el accuracy (mejor de validation)\n",
    "# solo salva el mejor a true\n",
    "# no solo salva los pesos, salva modelo + pesos en el mismo file\n",
    "# en validation se salvará el max\n",
    "# con freq cada epoch\n",
    "callback_1 = tf.keras.callbacks.ModelCheckpoint(\n",
    "os.path.join(MODEL_SAVE_FOLDER,MODEL_NAME), monitor='val_categorical_accuracy', verbose=0, save_best_only=True,\n",
    "save_weights_only=False, mode='max', save_freq='epoch'\n",
    ")\n",
    "\n",
    "# callback to stop the model if it hasnt improved in 50 epochs\n",
    "callback_2 = tf.keras.callbacks.EarlyStopping(\n",
    "monitor='val_categorical_accuracy', min_delta=0.001, patience=50, verbose=0, mode='max',\n",
    "baseline=None, restore_best_weights=True\n",
    ")\n"
   ],
   "metadata": {
    "collapsed": false,
    "pycharm": {
     "name": "#%%\n"
    }
   }
  },
  {
   "cell_type": "markdown",
   "source": [
    "## Define Parameters (Loss, Accuracy and Optimizer)"
   ],
   "metadata": {
    "collapsed": false,
    "pycharm": {
     "name": "#%% md\n"
    }
   }
  },
  {
   "cell_type": "code",
   "execution_count": 17,
   "outputs": [],
   "source": [
    "# A loss object that receives the raw network output and the one-hot raw class labels is created\n",
    "loss = tf.keras.losses.SparseCategoricalCrossentropy(from_logits=FROM_LOGITS)\n",
    "\n",
    "# a metric object that calculates the accuracy is created\n",
    "accuracy = tf.keras.metrics.CategoricalAccuracy()\n",
    "\n",
    "# optimizer object is created\n",
    "optimizer = Adam(learning_rate=0.01)"
   ],
   "metadata": {
    "collapsed": false,
    "pycharm": {
     "name": "#%%\n"
    }
   }
  },
  {
   "cell_type": "markdown",
   "source": [
    "## Compile Model"
   ],
   "metadata": {
    "collapsed": false,
    "pycharm": {
     "name": "#%% md\n"
    }
   }
  },
  {
   "cell_type": "code",
   "execution_count": 18,
   "outputs": [],
   "source": [
    "# compilación del modelo\n",
    "model.compile(optimizer = optimizer,loss = loss , metrics = accuracy)"
   ],
   "metadata": {
    "collapsed": false,
    "pycharm": {
     "name": "#%%\n"
    }
   }
  },
  {
   "cell_type": "markdown",
   "source": [
    "# Bucle de entrenamiento"
   ],
   "metadata": {
    "collapsed": false,
    "pycharm": {
     "name": "#%% md\n"
    }
   }
  },
  {
   "cell_type": "code",
   "execution_count": 18,
   "outputs": [],
   "source": [],
   "metadata": {
    "collapsed": false,
    "pycharm": {
     "name": "#%%\n"
    }
   }
  },
  {
   "cell_type": "markdown",
   "source": [],
   "metadata": {
    "collapsed": false,
    "pycharm": {
     "name": "#%% md\n"
    }
   }
  },
  {
   "cell_type": "code",
   "execution_count": 19,
   "outputs": [
    {
     "name": "stdout",
     "output_type": "stream",
     "text": [
      "Epoch 1/2\n",
      "228/228 [==============================] - ETA: 0s - loss: 1.4223 - categorical_accuracy: 0.2862"
     ]
    },
    {
     "name": "stderr",
     "output_type": "stream",
     "text": [
      "WARNING:absl:Found untraced functions such as _jit_compiled_convolution_op, _jit_compiled_convolution_op, _jit_compiled_convolution_op while saving (showing 3 of 3). These functions will not be directly callable after loading.\n"
     ]
    },
    {
     "name": "stdout",
     "output_type": "stream",
     "text": [
      "INFO:tensorflow:Assets written to: C:\\Users\\albam\\OneDrive - UNIVERSIDAD DE HUELVA\\2. Universidad\\Proyects\\2. Animal Recognition\\models\\v5\\test_model\\assets\n"
     ]
    },
    {
     "name": "stderr",
     "output_type": "stream",
     "text": [
      "INFO:tensorflow:Assets written to: C:\\Users\\albam\\OneDrive - UNIVERSIDAD DE HUELVA\\2. Universidad\\Proyects\\2. Animal Recognition\\models\\v5\\test_model\\assets\n"
     ]
    },
    {
     "name": "stdout",
     "output_type": "stream",
     "text": [
      "228/228 [==============================] - 89s 386ms/step - loss: 1.4223 - categorical_accuracy: 0.2862 - val_loss: 1.0941 - val_categorical_accuracy: 0.0000e+00\n",
      "Epoch 2/2\n",
      "228/228 [==============================] - 67s 294ms/step - loss: 1.0943 - categorical_accuracy: 0.0307 - val_loss: 1.0947 - val_categorical_accuracy: 0.0000e+00\n"
     ]
    }
   ],
   "source": [
    "#   with tf.device('/GPU:0'):\n",
    "h = model.fit(train_ds, epochs= 2, validation_data = validation_ds, batch_size = 2, callbacks= [callback_1, callback_2], verbose = 1)"
   ],
   "metadata": {
    "collapsed": false,
    "pycharm": {
     "name": "#%%\n"
    }
   }
  },
  {
   "cell_type": "code",
   "execution_count": null,
   "outputs": [],
   "source": [
    "# In case it is decided to train more than 100 epochs\n",
    "for i in range(epochs):\n",
    "\n",
    "    with tf.device('/device:GPU:0'):\n",
    "    #SECUENCIA PARA CONFECCIÓN DEL CSV\n",
    "\n",
    "    history['epoch'] = list(range(0,len(history.index)))\n",
    "\n",
    "    history.to_csv(os.path.join(CSV_FOLDER, name_csv_history), header=True, index=False)\n",
    "\n",
    "    # Plot history: CE\n",
    "    plt.figure()\n",
    "    plt.plot(history['epoch'], history['loss'], label='Loss (training data)')\n",
    "    plt.plot(history['epoch'], history['val_loss'], label='Loss (validation data)')\n",
    "    plt.title('Loss')\n",
    "    plt.ylabel('CE')\n",
    "    plt.xlabel('Nº epoch')\n",
    "    plt.legend(loc=\"upper left\")\n",
    "    plt.show()\n",
    "\n",
    "    # Plot history: Accuracy\n",
    "    plt.figure()\n",
    "    plt.plot(history['epoch'], history['categorical_accuracy'], label='Accuracy (training data)')\n",
    "    plt.plot(history['epoch'], history['val_categorical_accuracy'], label='Accuracy (validation data)')\n",
    "    plt.title('Accuracy')\n",
    "    plt.ylabel('Accuracy')\n",
    "    plt.xlabel('Nº epoch')\n",
    "    plt.legend(loc=\"upper left\")\n",
    "    plt.show()\n",
    "\n",
    "    # show training time\n",
    "    fin = time.time()\n",
    "    print(round((fin - inicio)/60, 0))"
   ],
   "metadata": {
    "collapsed": false,
    "pycharm": {
     "name": "#%%\n",
     "is_executing": true
    }
   }
  },
  {
   "cell_type": "code",
   "execution_count": null,
   "outputs": [],
   "source": [
    "\n"
   ],
   "metadata": {
    "collapsed": false,
    "pycharm": {
     "name": "#%%\n",
     "is_executing": true
    }
   }
  },
  {
   "cell_type": "code",
   "execution_count": null,
   "outputs": [],
   "source": [],
   "metadata": {
    "collapsed": false,
    "pycharm": {
     "name": "#%%\n",
     "is_executing": true
    }
   }
  },
  {
   "cell_type": "code",
   "execution_count": null,
   "metadata": {
    "pycharm": {
     "name": "#%%\n",
     "is_executing": true
    }
   },
   "outputs": [],
   "source": [
    "# In case it is decided to train more than 100 epochs\n",
    "for i in range(epochs):\n",
    "\n",
    "    with tf.device('/device:GPU:0'):\n",
    "    #SECUENCIA PARA CONFECCIÓN DEL CSV\n",
    "\n",
    "    history['epoch'] = list(range(0,len(history.index)))\n",
    "\n",
    "    history.to_csv(os.path.join(CSV_FOLDER, name_csv_history), header=True, index=False)\n",
    "\n",
    "    # Plot history: CE\n",
    "    plt.figure()\n",
    "    plt.plot(history['epoch'], history['loss'], label='Loss (training data)')\n",
    "    plt.plot(history['epoch'], history['val_loss'], label='Loss (validation data)')\n",
    "    plt.title('Loss')\n",
    "    plt.ylabel('CE')\n",
    "    plt.xlabel('Nº epoch')\n",
    "    plt.legend(loc=\"upper left\")\n",
    "    plt.show()\n",
    "\n",
    "    # Plot history: Accuracy\n",
    "    plt.figure()\n",
    "    plt.plot(history['epoch'], history['categorical_accuracy'], label='Accuracy (training data)')\n",
    "    plt.plot(history['epoch'], history['val_categorical_accuracy'], label='Accuracy (validation data)')\n",
    "    plt.title('Accuracy')\n",
    "    plt.ylabel('Accuracy')\n",
    "    plt.xlabel('Nº epoch')\n",
    "    plt.legend(loc=\"upper left\")\n",
    "    plt.show()\n",
    "\n",
    "    # show training time\n",
    "    fin = time.time()\n",
    "    print(round((fin - inicio)/60, 0))"
   ]
  },
  {
   "cell_type": "code",
   "execution_count": null,
   "metadata": {
    "pycharm": {
     "name": "#%%\n",
     "is_executing": true
    }
   },
   "outputs": [],
   "source": [
    "\n"
   ]
  },
  {
   "cell_type": "code",
   "execution_count": null,
   "metadata": {
    "pycharm": {
     "name": "#%%\n",
     "is_executing": true
    }
   },
   "outputs": [],
   "source": []
  }
 ],
 "metadata": {
  "kernelspec": {
   "display_name": "Python 3 (ipykernel)",
   "language": "python",
   "name": "python3"
  },
  "language_info": {
   "codemirror_mode": {
    "name": "ipython",
    "version": 3
   },
   "file_extension": ".py",
   "mimetype": "text/x-python",
   "name": "python",
   "nbconvert_exporter": "python",
   "pygments_lexer": "ipython3",
   "version": "3.10.6"
  }
 },
 "nbformat": 4,
 "nbformat_minor": 1
}