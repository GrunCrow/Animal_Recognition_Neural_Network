{
 "cells": [
  {
   "cell_type": "markdown",
   "source": [
    "## Imports"
   ],
   "metadata": {
    "collapsed": false,
    "pycharm": {
     "name": "#%% md\n"
    }
   }
  },
  {
   "cell_type": "code",
   "execution_count": 6,
   "metadata": {
    "collapsed": true,
    "pycharm": {
     "name": "#%%\n"
    }
   },
   "outputs": [
    {
     "ename": "ModuleNotFoundError",
     "evalue": "No module named 'tensorflow.compat'",
     "output_type": "error",
     "traceback": [
      "\u001B[1;31m---------------------------------------------------------------------------\u001B[0m",
      "\u001B[1;31mModuleNotFoundError\u001B[0m                       Traceback (most recent call last)",
      "Cell \u001B[1;32mIn [6], line 13\u001B[0m\n\u001B[0;32m     11\u001B[0m \u001B[38;5;28;01mimport\u001B[39;00m \u001B[38;5;21;01mtensorflow\u001B[39;00m \u001B[38;5;28;01mas\u001B[39;00m \u001B[38;5;21;01mtf\u001B[39;00m\n\u001B[0;32m     12\u001B[0m \u001B[38;5;28;01mimport\u001B[39;00m \u001B[38;5;21;01mnumpy\u001B[39;00m \u001B[38;5;28;01mas\u001B[39;00m \u001B[38;5;21;01mnp\u001B[39;00m\n\u001B[1;32m---> 13\u001B[0m \u001B[38;5;28;01mimport\u001B[39;00m \u001B[38;5;21;01mkeras\u001B[39;00m\n\u001B[0;32m     14\u001B[0m \u001B[38;5;28;01mfrom\u001B[39;00m \u001B[38;5;21;01mtensorflow\u001B[39;00m\u001B[38;5;21;01m.\u001B[39;00m\u001B[38;5;21;01mkeras\u001B[39;00m \u001B[38;5;28;01mimport\u001B[39;00m layers\n\u001B[0;32m     15\u001B[0m \u001B[38;5;28;01mfrom\u001B[39;00m \u001B[38;5;21;01mtensorflow\u001B[39;00m\u001B[38;5;21;01m.\u001B[39;00m\u001B[38;5;21;01mkeras\u001B[39;00m\u001B[38;5;21;01m.\u001B[39;00m\u001B[38;5;21;01moptimizers\u001B[39;00m \u001B[38;5;28;01mimport\u001B[39;00m \u001B[38;5;241m*\u001B[39m\n",
      "File \u001B[1;32m~\\.virtualenvs\\Tensorflow\\lib\\site-packages\\keras\\__init__.py:20\u001B[0m\n\u001B[0;32m      1\u001B[0m \u001B[38;5;66;03m# Copyright 2015 The TensorFlow Authors. All Rights Reserved.\u001B[39;00m\n\u001B[0;32m      2\u001B[0m \u001B[38;5;66;03m#\u001B[39;00m\n\u001B[0;32m      3\u001B[0m \u001B[38;5;66;03m# Licensed under the Apache License, Version 2.0 (the \"License\");\u001B[39;00m\n\u001B[1;32m   (...)\u001B[0m\n\u001B[0;32m     13\u001B[0m \u001B[38;5;66;03m# limitations under the License.\u001B[39;00m\n\u001B[0;32m     14\u001B[0m \u001B[38;5;66;03m# ==============================================================================\u001B[39;00m\n\u001B[0;32m     15\u001B[0m \u001B[38;5;124;03m\"\"\"Implementation of the Keras API, the high-level API of TensorFlow.\u001B[39;00m\n\u001B[0;32m     16\u001B[0m \n\u001B[0;32m     17\u001B[0m \u001B[38;5;124;03mDetailed documentation and user guides are available at\u001B[39;00m\n\u001B[0;32m     18\u001B[0m \u001B[38;5;124;03m[keras.io](https://keras.io).\u001B[39;00m\n\u001B[0;32m     19\u001B[0m \u001B[38;5;124;03m\"\"\"\u001B[39;00m\n\u001B[1;32m---> 20\u001B[0m \u001B[38;5;28;01mfrom\u001B[39;00m \u001B[38;5;21;01mkeras\u001B[39;00m \u001B[38;5;28;01mimport\u001B[39;00m distribute\n\u001B[0;32m     21\u001B[0m \u001B[38;5;28;01mfrom\u001B[39;00m \u001B[38;5;21;01mkeras\u001B[39;00m \u001B[38;5;28;01mimport\u001B[39;00m models\n\u001B[0;32m     22\u001B[0m \u001B[38;5;28;01mfrom\u001B[39;00m \u001B[38;5;21;01mkeras\u001B[39;00m\u001B[38;5;21;01m.\u001B[39;00m\u001B[38;5;21;01mengine\u001B[39;00m\u001B[38;5;21;01m.\u001B[39;00m\u001B[38;5;21;01minput_layer\u001B[39;00m \u001B[38;5;28;01mimport\u001B[39;00m Input\n",
      "File \u001B[1;32m~\\.virtualenvs\\Tensorflow\\lib\\site-packages\\keras\\distribute\\__init__.py:18\u001B[0m\n\u001B[0;32m      1\u001B[0m \u001B[38;5;66;03m# Copyright 2019 The TensorFlow Authors. All Rights Reserved.\u001B[39;00m\n\u001B[0;32m      2\u001B[0m \u001B[38;5;66;03m#\u001B[39;00m\n\u001B[0;32m      3\u001B[0m \u001B[38;5;66;03m# Licensed under the Apache License, Version 2.0 (the \"License\");\u001B[39;00m\n\u001B[1;32m   (...)\u001B[0m\n\u001B[0;32m     13\u001B[0m \u001B[38;5;66;03m# limitations under the License.\u001B[39;00m\n\u001B[0;32m     14\u001B[0m \u001B[38;5;66;03m# ==============================================================================\u001B[39;00m\n\u001B[0;32m     15\u001B[0m \u001B[38;5;124;03m\"\"\"Keras' Distribution Strategy library.\"\"\"\u001B[39;00m\n\u001B[1;32m---> 18\u001B[0m \u001B[38;5;28;01mfrom\u001B[39;00m \u001B[38;5;21;01mkeras\u001B[39;00m\u001B[38;5;21;01m.\u001B[39;00m\u001B[38;5;21;01mdistribute\u001B[39;00m \u001B[38;5;28;01mimport\u001B[39;00m sidecar_evaluator\n",
      "File \u001B[1;32m~\\.virtualenvs\\Tensorflow\\lib\\site-packages\\keras\\distribute\\sidecar_evaluator.py:17\u001B[0m\n\u001B[0;32m      1\u001B[0m \u001B[38;5;66;03m# Copyright 2020 The TensorFlow Authors. All Rights Reserved.\u001B[39;00m\n\u001B[0;32m      2\u001B[0m \u001B[38;5;66;03m#\u001B[39;00m\n\u001B[0;32m      3\u001B[0m \u001B[38;5;66;03m# Licensed under the Apache License, Version 2.0 (the \"License\");\u001B[39;00m\n\u001B[1;32m   (...)\u001B[0m\n\u001B[0;32m     13\u001B[0m \u001B[38;5;66;03m# limitations under the License.\u001B[39;00m\n\u001B[0;32m     14\u001B[0m \u001B[38;5;66;03m# ==============================================================================\u001B[39;00m\n\u001B[0;32m     15\u001B[0m \u001B[38;5;124;03m\"\"\"Python module for evaluation loop.\"\"\"\u001B[39;00m\n\u001B[1;32m---> 17\u001B[0m \u001B[38;5;28;01mimport\u001B[39;00m \u001B[38;5;21;01mtensorflow\u001B[39;00m\u001B[38;5;21;01m.\u001B[39;00m\u001B[38;5;21;01mcompat\u001B[39;00m\u001B[38;5;21;01m.\u001B[39;00m\u001B[38;5;21;01mv2\u001B[39;00m \u001B[38;5;28;01mas\u001B[39;00m \u001B[38;5;21;01mtf\u001B[39;00m\n\u001B[0;32m     19\u001B[0m \u001B[38;5;66;03m# isort: off\u001B[39;00m\n\u001B[0;32m     20\u001B[0m \u001B[38;5;28;01mfrom\u001B[39;00m \u001B[38;5;21;01mtensorflow\u001B[39;00m\u001B[38;5;21;01m.\u001B[39;00m\u001B[38;5;21;01mpython\u001B[39;00m\u001B[38;5;21;01m.\u001B[39;00m\u001B[38;5;21;01mplatform\u001B[39;00m \u001B[38;5;28;01mimport\u001B[39;00m tf_logging \u001B[38;5;28;01mas\u001B[39;00m logging\n",
      "\u001B[1;31mModuleNotFoundError\u001B[0m: No module named 'tensorflow.compat'"
     ]
    }
   ],
   "source": [
    "import constants\n",
    "from constants import *\n",
    "\n",
    "import os\n",
    "\n",
    "from matplotlib import pyplot as plt\n",
    "import pandas as pd\n",
    "\n",
    "import time\n",
    "\n",
    "import tensorflow as tf\n",
    "import numpy as np\n",
    "import keras\n",
    "from tensorflow.keras import layers\n",
    "from tensorflow.keras.optimizers import *\n",
    "\n",
    "from sklearn.metrics import *\n",
    "from sklearn.metrics import classification_report\n",
    "import seaborn as sns\n",
    "\n",
    "import sys\n",
    "import importlib\n",
    "importlib.reload(constants)"
   ]
  },
  {
   "cell_type": "markdown",
   "source": [
    "## Define Device"
   ],
   "metadata": {
    "collapsed": false,
    "pycharm": {
     "name": "#%% md\n"
    }
   }
  },
  {
   "cell_type": "code",
   "execution_count": 3,
   "outputs": [],
   "source": [
    "from tensorflow.python.client import device_lib"
   ],
   "metadata": {
    "collapsed": false,
    "pycharm": {
     "name": "#%%\n"
    }
   }
  },
  {
   "cell_type": "code",
   "execution_count": 4,
   "outputs": [],
   "source": [
    "gpus = tf.config.experimental.list_physical_devices('GPU')\n"
   ],
   "metadata": {
    "collapsed": false,
    "pycharm": {
     "name": "#%%\n"
    }
   }
  },
  {
   "cell_type": "code",
   "execution_count": 5,
   "outputs": [
    {
     "name": "stdout",
     "output_type": "stream",
     "text": [
      "1 Physical GPUs, 1 Logical GPU\n"
     ]
    }
   ],
   "source": [
    "if gpus:\n",
    "  # Restrict TensorFlow to only use the first GPU\n",
    "  try:\n",
    "    tf.config.experimental.set_visible_devices(gpus[0], 'GPU')\n",
    "    logical_gpus = tf.config.experimental.list_logical_devices('GPU')\n",
    "    print(len(gpus), \"Physical GPUs,\", len(logical_gpus), \"Logical GPU\")\n",
    "  except RuntimeError as e:\n",
    "    # Visible devices must be set before GPUs have been initialized\n",
    "    print(e)"
   ],
   "metadata": {
    "collapsed": false,
    "pycharm": {
     "name": "#%%\n"
    }
   }
  },
  {
   "cell_type": "markdown",
   "source": [
    "## Generación del dataset"
   ],
   "metadata": {
    "collapsed": false,
    "pycharm": {
     "name": "#%% md\n"
    }
   }
  },
  {
   "cell_type": "code",
   "execution_count": 13,
   "outputs": [],
   "source": [
    "train_panda = pd.read_csv(os.path.join(CSV_FOLDER, TRAIN_CSV))\n",
    "validation_panda = pd.read_csv(os.path.join(CSV_FOLDER, VALIDATION_CSV))"
   ],
   "metadata": {
    "collapsed": false,
    "pycharm": {
     "name": "#%%\n"
    }
   }
  },
  {
   "cell_type": "code",
   "execution_count": 14,
   "outputs": [],
   "source": [
    "# train_panda[\"path\"] = train_panda[\"path\"].str.replace(\"animals\",DATASETS_ROOT_FOLDER + \"/animals\")"
   ],
   "metadata": {
    "collapsed": false,
    "pycharm": {
     "name": "#%%\n"
    }
   }
  },
  {
   "cell_type": "code",
   "execution_count": 15,
   "outputs": [],
   "source": [
    "# Añadir el path absoluto (la parte desde C:// ... hasta animals al inicio para poder acceder\n",
    "train_panda[\"path\"] = [DATASETS_ROOT_FOLDER + item for item in train_panda[\"path\"]]\n",
    "validation_panda[\"path\"] = [DATASETS_ROOT_FOLDER + item for item in validation_panda[\"path\"]]"
   ],
   "metadata": {
    "collapsed": false,
    "pycharm": {
     "name": "#%%\n"
    }
   }
  },
  {
   "cell_type": "code",
   "execution_count": 16,
   "outputs": [],
   "source": [
    "dict_item = {\n",
    "    \"Turtle\": 0,\n",
    "    \"Chicken\": 1,\n",
    "    \"Bear\": 2\n",
    "}\n",
    "\n",
    "train_panda[\"class\"] = [dict_item[item] for item in train_panda[\"class\"]]\n",
    "validation_panda[\"class\"] = [dict_item[item] for item in validation_panda[\"class\"]]"
   ],
   "metadata": {
    "collapsed": false,
    "pycharm": {
     "name": "#%%\n"
    }
   }
  },
  {
   "cell_type": "code",
   "execution_count": 17,
   "outputs": [
    {
     "data": {
      "text/plain": "                                                   path  class\n0     C:/Users/albam/OneDrive - UNIVERSIDAD DE HUELV...      0\n1     C:/Users/albam/OneDrive - UNIVERSIDAD DE HUELV...      0\n2     C:/Users/albam/OneDrive - UNIVERSIDAD DE HUELV...      1\n3     C:/Users/albam/OneDrive - UNIVERSIDAD DE HUELV...      0\n4     C:/Users/albam/OneDrive - UNIVERSIDAD DE HUELV...      0\n...                                                 ...    ...\n7287  C:/Users/albam/OneDrive - UNIVERSIDAD DE HUELV...      1\n7288  C:/Users/albam/OneDrive - UNIVERSIDAD DE HUELV...      1\n7289  C:/Users/albam/OneDrive - UNIVERSIDAD DE HUELV...      0\n7290  C:/Users/albam/OneDrive - UNIVERSIDAD DE HUELV...      1\n7291  C:/Users/albam/OneDrive - UNIVERSIDAD DE HUELV...      1\n\n[7292 rows x 2 columns]",
      "text/html": "<div>\n<style scoped>\n    .dataframe tbody tr th:only-of-type {\n        vertical-align: middle;\n    }\n\n    .dataframe tbody tr th {\n        vertical-align: top;\n    }\n\n    .dataframe thead th {\n        text-align: right;\n    }\n</style>\n<table border=\"1\" class=\"dataframe\">\n  <thead>\n    <tr style=\"text-align: right;\">\n      <th></th>\n      <th>path</th>\n      <th>class</th>\n    </tr>\n  </thead>\n  <tbody>\n    <tr>\n      <th>0</th>\n      <td>C:/Users/albam/OneDrive - UNIVERSIDAD DE HUELV...</td>\n      <td>0</td>\n    </tr>\n    <tr>\n      <th>1</th>\n      <td>C:/Users/albam/OneDrive - UNIVERSIDAD DE HUELV...</td>\n      <td>0</td>\n    </tr>\n    <tr>\n      <th>2</th>\n      <td>C:/Users/albam/OneDrive - UNIVERSIDAD DE HUELV...</td>\n      <td>1</td>\n    </tr>\n    <tr>\n      <th>3</th>\n      <td>C:/Users/albam/OneDrive - UNIVERSIDAD DE HUELV...</td>\n      <td>0</td>\n    </tr>\n    <tr>\n      <th>4</th>\n      <td>C:/Users/albam/OneDrive - UNIVERSIDAD DE HUELV...</td>\n      <td>0</td>\n    </tr>\n    <tr>\n      <th>...</th>\n      <td>...</td>\n      <td>...</td>\n    </tr>\n    <tr>\n      <th>7287</th>\n      <td>C:/Users/albam/OneDrive - UNIVERSIDAD DE HUELV...</td>\n      <td>1</td>\n    </tr>\n    <tr>\n      <th>7288</th>\n      <td>C:/Users/albam/OneDrive - UNIVERSIDAD DE HUELV...</td>\n      <td>1</td>\n    </tr>\n    <tr>\n      <th>7289</th>\n      <td>C:/Users/albam/OneDrive - UNIVERSIDAD DE HUELV...</td>\n      <td>0</td>\n    </tr>\n    <tr>\n      <th>7290</th>\n      <td>C:/Users/albam/OneDrive - UNIVERSIDAD DE HUELV...</td>\n      <td>1</td>\n    </tr>\n    <tr>\n      <th>7291</th>\n      <td>C:/Users/albam/OneDrive - UNIVERSIDAD DE HUELV...</td>\n      <td>1</td>\n    </tr>\n  </tbody>\n</table>\n<p>7292 rows × 2 columns</p>\n</div>"
     },
     "execution_count": 17,
     "metadata": {},
     "output_type": "execute_result"
    }
   ],
   "source": [
    "train_panda"
   ],
   "metadata": {
    "collapsed": false,
    "pycharm": {
     "name": "#%%\n"
    }
   }
  },
  {
   "cell_type": "code",
   "execution_count": 18,
   "outputs": [
    {
     "data": {
      "text/plain": "                                                  path  class\n0    C:/Users/albam/OneDrive - UNIVERSIDAD DE HUELV...      0\n1    C:/Users/albam/OneDrive - UNIVERSIDAD DE HUELV...      2\n2    C:/Users/albam/OneDrive - UNIVERSIDAD DE HUELV...      2\n3    C:/Users/albam/OneDrive - UNIVERSIDAD DE HUELV...      2\n4    C:/Users/albam/OneDrive - UNIVERSIDAD DE HUELV...      2\n..                                                 ...    ...\n906  C:/Users/albam/OneDrive - UNIVERSIDAD DE HUELV...      0\n907  C:/Users/albam/OneDrive - UNIVERSIDAD DE HUELV...      0\n908  C:/Users/albam/OneDrive - UNIVERSIDAD DE HUELV...      2\n909  C:/Users/albam/OneDrive - UNIVERSIDAD DE HUELV...      1\n910  C:/Users/albam/OneDrive - UNIVERSIDAD DE HUELV...      2\n\n[911 rows x 2 columns]",
      "text/html": "<div>\n<style scoped>\n    .dataframe tbody tr th:only-of-type {\n        vertical-align: middle;\n    }\n\n    .dataframe tbody tr th {\n        vertical-align: top;\n    }\n\n    .dataframe thead th {\n        text-align: right;\n    }\n</style>\n<table border=\"1\" class=\"dataframe\">\n  <thead>\n    <tr style=\"text-align: right;\">\n      <th></th>\n      <th>path</th>\n      <th>class</th>\n    </tr>\n  </thead>\n  <tbody>\n    <tr>\n      <th>0</th>\n      <td>C:/Users/albam/OneDrive - UNIVERSIDAD DE HUELV...</td>\n      <td>0</td>\n    </tr>\n    <tr>\n      <th>1</th>\n      <td>C:/Users/albam/OneDrive - UNIVERSIDAD DE HUELV...</td>\n      <td>2</td>\n    </tr>\n    <tr>\n      <th>2</th>\n      <td>C:/Users/albam/OneDrive - UNIVERSIDAD DE HUELV...</td>\n      <td>2</td>\n    </tr>\n    <tr>\n      <th>3</th>\n      <td>C:/Users/albam/OneDrive - UNIVERSIDAD DE HUELV...</td>\n      <td>2</td>\n    </tr>\n    <tr>\n      <th>4</th>\n      <td>C:/Users/albam/OneDrive - UNIVERSIDAD DE HUELV...</td>\n      <td>2</td>\n    </tr>\n    <tr>\n      <th>...</th>\n      <td>...</td>\n      <td>...</td>\n    </tr>\n    <tr>\n      <th>906</th>\n      <td>C:/Users/albam/OneDrive - UNIVERSIDAD DE HUELV...</td>\n      <td>0</td>\n    </tr>\n    <tr>\n      <th>907</th>\n      <td>C:/Users/albam/OneDrive - UNIVERSIDAD DE HUELV...</td>\n      <td>0</td>\n    </tr>\n    <tr>\n      <th>908</th>\n      <td>C:/Users/albam/OneDrive - UNIVERSIDAD DE HUELV...</td>\n      <td>2</td>\n    </tr>\n    <tr>\n      <th>909</th>\n      <td>C:/Users/albam/OneDrive - UNIVERSIDAD DE HUELV...</td>\n      <td>1</td>\n    </tr>\n    <tr>\n      <th>910</th>\n      <td>C:/Users/albam/OneDrive - UNIVERSIDAD DE HUELV...</td>\n      <td>2</td>\n    </tr>\n  </tbody>\n</table>\n<p>911 rows × 2 columns</p>\n</div>"
     },
     "execution_count": 18,
     "metadata": {},
     "output_type": "execute_result"
    }
   ],
   "source": [
    "validation_panda"
   ],
   "metadata": {
    "collapsed": false,
    "pycharm": {
     "name": "#%%\n"
    }
   }
  },
  {
   "cell_type": "code",
   "execution_count": 19,
   "outputs": [],
   "source": [
    "# pixeles a valores entre 0 y 1\n",
    "# https://www.tensorflow.org/api_docs/python/tf/keras/preprocessing/image/ImageDataGenerator\n",
    "\n",
    "train_datagen = tf.keras.preprocessing.image.ImageDataGenerator(\n",
    "                                  rescale=1./255.\n",
    "                                  )\n",
    "\n",
    "validation_datagen = tf.keras.preprocessing.image.ImageDataGenerator(\n",
    "                                  rescale=1./255.\n",
    "                                  )"
   ],
   "metadata": {
    "collapsed": false,
    "pycharm": {
     "name": "#%%\n"
    }
   }
  },
  {
   "cell_type": "code",
   "execution_count": 21,
   "outputs": [
    {
     "name": "stdout",
     "output_type": "stream",
     "text": [
      "Found 7292 validated image filenames.\n",
      "Found 911 validated image filenames.\n"
     ]
    }
   ],
   "source": [
    "train_ds = train_datagen.flow_from_dataframe(\n",
    "                        train_panda,\n",
    "                        x_col = 'path',\n",
    "                        y_col = 'class',\n",
    "                        target_size = (IMG_WIDTH,IMG_HEIGHT),\n",
    "                        color_mode = 'rgb',\n",
    "                        batch_size = 32,\n",
    "                        shuffle = True,\n",
    "                        interpolation = \"bicubic\",\n",
    "                        class_mode='raw'\n",
    "                        )\n",
    "\n",
    "# Validation\n",
    "validation_ds = validation_datagen.flow_from_dataframe(\n",
    "                        validation_panda,\n",
    "                        x_col = 'path',\n",
    "                        y_col = 'class',\n",
    "                        target_size = (IMG_WIDTH,IMG_HEIGHT),\n",
    "                        color_mode = 'rgb',\n",
    "                        batch_size = 32,\n",
    "                        shuffle = False,    # no necesario para la validacion ya que solo sirve para medir\n",
    "                        interpolation = \"bicubic\",\n",
    "                        class_mode='raw'\n",
    "                        )"
   ],
   "metadata": {
    "collapsed": false,
    "pycharm": {
     "name": "#%%\n"
    }
   }
  },
  {
   "cell_type": "markdown",
   "source": [],
   "metadata": {
    "collapsed": false,
    "pycharm": {
     "name": "#%% md\n"
    }
   }
  },
  {
   "cell_type": "markdown",
   "source": [],
   "metadata": {
    "collapsed": false,
    "pycharm": {
     "name": "#%% md\n"
    }
   }
  },
  {
   "cell_type": "markdown",
   "source": [],
   "metadata": {
    "collapsed": false,
    "pycharm": {
     "name": "#%% md\n"
    }
   }
  },
  {
   "cell_type": "markdown",
   "source": [
    "## Modelo"
   ],
   "metadata": {
    "collapsed": false,
    "pycharm": {
     "name": "#%% md\n"
    }
   }
  },
  {
   "cell_type": "code",
   "execution_count": 22,
   "outputs": [],
   "source": [
    "MODEL_NAME = \"test_model\"\n",
    "FROM_LOGITS = True"
   ],
   "metadata": {
    "collapsed": false,
    "pycharm": {
     "name": "#%%\n"
    }
   }
  },
  {
   "cell_type": "code",
   "execution_count": 23,
   "outputs": [],
   "source": [
    "model = tf.keras.models.Sequential([\n",
    "  tf.keras.layers.Conv2D(16, (3, 3), activation='relu', input_shape=(28, 28, 1)),\n",
    "  tf.keras.layers.MaxPooling2D((2, 2)),\n",
    "  tf.keras.layers.Conv2D(32, (3, 3), activation='relu'),\n",
    "  tf.keras.layers.MaxPooling2D((2, 2)),\n",
    "  tf.keras.layers.Conv2D(32, (3, 3), activation='relu'),\n",
    "  tf.keras.layers.Flatten(),\n",
    "  tf.keras.layers.Dense(3)\n",
    "])"
   ],
   "metadata": {
    "collapsed": false,
    "pycharm": {
     "name": "#%%\n"
    }
   }
  },
  {
   "cell_type": "code",
   "execution_count": 24,
   "outputs": [
    {
     "name": "stdout",
     "output_type": "stream",
     "text": [
      "Model: \"sequential\"\n",
      "_________________________________________________________________\n",
      " Layer (type)                Output Shape              Param #   \n",
      "=================================================================\n",
      " conv2d (Conv2D)             (None, 26, 26, 16)        160       \n",
      "                                                                 \n",
      " max_pooling2d (MaxPooling2D  (None, 13, 13, 16)       0         \n",
      " )                                                               \n",
      "                                                                 \n",
      " conv2d_1 (Conv2D)           (None, 11, 11, 32)        4640      \n",
      "                                                                 \n",
      " max_pooling2d_1 (MaxPooling  (None, 5, 5, 32)         0         \n",
      " 2D)                                                             \n",
      "                                                                 \n",
      " conv2d_2 (Conv2D)           (None, 3, 3, 32)          9248      \n",
      "                                                                 \n",
      " flatten (Flatten)           (None, 288)               0         \n",
      "                                                                 \n",
      " dense (Dense)               (None, 3)                 867       \n",
      "                                                                 \n",
      "=================================================================\n",
      "Total params: 14,915\n",
      "Trainable params: 14,915\n",
      "Non-trainable params: 0\n",
      "_________________________________________________________________\n"
     ]
    }
   ],
   "source": [
    "model.summary()"
   ],
   "metadata": {
    "collapsed": false,
    "pycharm": {
     "name": "#%%\n"
    }
   }
  },
  {
   "cell_type": "code",
   "execution_count": 24,
   "outputs": [],
   "source": [],
   "metadata": {
    "collapsed": false,
    "pycharm": {
     "name": "#%%\n"
    }
   }
  },
  {
   "cell_type": "markdown",
   "source": [
    "# Hiperparametros del entramiento"
   ],
   "metadata": {
    "collapsed": false,
    "pycharm": {
     "name": "#%% md\n"
    }
   }
  },
  {
   "cell_type": "code",
   "execution_count": 24,
   "outputs": [],
   "source": [],
   "metadata": {
    "collapsed": false,
    "pycharm": {
     "name": "#%%\n"
    }
   }
  },
  {
   "cell_type": "code",
   "execution_count": 25,
   "outputs": [],
   "source": [
    "# callback to save the best model\n",
    "\n",
    "# save best model in validation\n",
    "# monitoriza el accuracy (mejor de validation)\n",
    "# solo salva el mejor a true\n",
    "# no solo salva los pesos, salva modelo + pesos en el mismo file\n",
    "# en validation se salvará el max\n",
    "# con freq cada epoch\n",
    "callback_1 = tf.keras.callbacks.ModelCheckpoint(\n",
    "os.path.join(MODEL_SAVE_FOLDER,MODEL_NAME), monitor='val_categorical_accuracy', verbose=0, save_best_only=True,\n",
    "save_weights_only=False, mode='max', save_freq='epoch'\n",
    ")\n",
    "\n",
    "# callback to stop the model if it hasnt improved in 50 epochs\n",
    "callback_2 = tf.keras.callbacks.EarlyStopping(\n",
    "monitor='val_categorical_accuracy', min_delta=0.001, patience=50, verbose=0, mode='max',\n",
    "baseline=None, restore_best_weights=True\n",
    ")\n"
   ],
   "metadata": {
    "collapsed": false,
    "pycharm": {
     "name": "#%%\n"
    }
   }
  },
  {
   "cell_type": "markdown",
   "source": [
    "## Define Parameters (Loss, Accuracy and Optimizer)"
   ],
   "metadata": {
    "collapsed": false,
    "pycharm": {
     "name": "#%% md\n"
    }
   }
  },
  {
   "cell_type": "code",
   "execution_count": 26,
   "outputs": [],
   "source": [
    "\n",
    "\n",
    "# A loss object that receives the raw network output and the one-hot raw class labels is created\n",
    "loss = tf.keras.losses.SparseCategoricalCrossentropy(from_logits=FROM_LOGITS)\n",
    "\n",
    "# a metric object that calculates the accuracy is created\n",
    "accuracy = tf.keras.metrics.CategoricalAccuracy()\n",
    "\n",
    "# optimizer object is created\n",
    "optimizer = Adam(learning_rate=0.01)"
   ],
   "metadata": {
    "collapsed": false,
    "pycharm": {
     "name": "#%%\n"
    }
   }
  },
  {
   "cell_type": "markdown",
   "source": [
    "## Compile Model"
   ],
   "metadata": {
    "collapsed": false,
    "pycharm": {
     "name": "#%% md\n"
    }
   }
  },
  {
   "cell_type": "code",
   "execution_count": 27,
   "outputs": [],
   "source": [
    "# compilación del modelo\n",
    "model.compile(optimizer = optimizer,loss = loss , metrics = accuracy)"
   ],
   "metadata": {
    "collapsed": false,
    "pycharm": {
     "name": "#%%\n"
    }
   }
  },
  {
   "cell_type": "markdown",
   "source": [
    "# Bucle de entrenamiento"
   ],
   "metadata": {
    "collapsed": false,
    "pycharm": {
     "name": "#%% md\n"
    }
   }
  },
  {
   "cell_type": "code",
   "execution_count": 27,
   "outputs": [],
   "source": [],
   "metadata": {
    "collapsed": false,
    "pycharm": {
     "name": "#%%\n"
    }
   }
  },
  {
   "cell_type": "markdown",
   "source": [],
   "metadata": {
    "collapsed": false,
    "pycharm": {
     "name": "#%% md\n"
    }
   }
  },
  {
   "cell_type": "code",
   "execution_count": null,
   "outputs": [
    {
     "name": "stdout",
     "output_type": "stream",
     "text": [
      "Epoch 1/2\n"
     ]
    }
   ],
   "source": [
    "#   with tf.device('/GPU:0'):\n",
    "h = model.fit(train_ds, epochs= 2, validation_data = validation_ds, batch_size = 2, callbacks= [callback_1, callback_2])"
   ],
   "metadata": {
    "collapsed": false,
    "pycharm": {
     "name": "#%%\n",
     "is_executing": true
    }
   }
  },
  {
   "cell_type": "code",
   "execution_count": null,
   "outputs": [],
   "source": [
    "# In case it is decided to train more than 100 epochs\n",
    "for i in range(epochs):\n",
    "\n",
    "    with tf.device('/device:GPU:0'):\n",
    "    #SECUENCIA PARA CONFECCIÓN DEL CSV\n",
    "\n",
    "    history['epoch'] = list(range(0,len(history.index)))\n",
    "\n",
    "    history.to_csv(os.path.join(CSV_FOLDER, name_csv_history), header=True, index=False)\n",
    "\n",
    "    # Plot history: CE\n",
    "    plt.figure()\n",
    "    plt.plot(history['epoch'], history['loss'], label='Loss (training data)')\n",
    "    plt.plot(history['epoch'], history['val_loss'], label='Loss (validation data)')\n",
    "    plt.title('Loss')\n",
    "    plt.ylabel('CE')\n",
    "    plt.xlabel('Nº epoch')\n",
    "    plt.legend(loc=\"upper left\")\n",
    "    plt.show()\n",
    "\n",
    "    # Plot history: Accuracy\n",
    "    plt.figure()\n",
    "    plt.plot(history['epoch'], history['categorical_accuracy'], label='Accuracy (training data)')\n",
    "    plt.plot(history['epoch'], history['val_categorical_accuracy'], label='Accuracy (validation data)')\n",
    "    plt.title('Accuracy')\n",
    "    plt.ylabel('Accuracy')\n",
    "    plt.xlabel('Nº epoch')\n",
    "    plt.legend(loc=\"upper left\")\n",
    "    plt.show()\n",
    "\n",
    "    # show training time\n",
    "    fin = time.time()\n",
    "    print(round((fin - inicio)/60, 0))"
   ],
   "metadata": {
    "collapsed": false,
    "pycharm": {
     "name": "#%%\n"
    }
   }
  }
 ],
 "metadata": {
  "kernelspec": {
   "display_name": "Python 3",
   "language": "python",
   "name": "python3"
  },
  "language_info": {
   "codemirror_mode": {
    "name": "ipython",
    "version": 2
   },
   "file_extension": ".py",
   "mimetype": "text/x-python",
   "name": "python",
   "nbconvert_exporter": "python",
   "pygments_lexer": "ipython2",
   "version": "2.7.6"
  }
 },
 "nbformat": 4,
 "nbformat_minor": 0
}