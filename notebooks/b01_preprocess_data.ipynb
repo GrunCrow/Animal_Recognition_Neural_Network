{
 "cells": [
  {
   "cell_type": "code",
   "execution_count": 3,
   "metadata": {
    "collapsed": true,
    "pycharm": {
     "name": "#%%\n"
    }
   },
   "outputs": [],
   "source": [
    "#                                                   LIBRARIES\n",
    "\n",
    "import os\n",
    "\n",
    "# Image preprocesssing- processing\n",
    "import cv2\n",
    "from PIL import Image\n",
    "import numpy as np\n",
    "\n",
    "import re"
   ]
  },
  {
   "cell_type": "code",
   "execution_count": 4,
   "outputs": [],
   "source": [
    "INPUT_FOLDER = \"../datasets/animals/data\"\n",
    "OUTPUT_FOLDER = \"../datasets/animals/data_resized\""
   ],
   "metadata": {
    "collapsed": false,
    "pycharm": {
     "name": "#%%\n"
    }
   }
  },
  {
   "cell_type": "code",
   "execution_count": 5,
   "outputs": [],
   "source": [
    "IMG_EXTENSIONS = ['jpg','JPG','png','PNG']"
   ],
   "metadata": {
    "collapsed": false,
    "pycharm": {
     "name": "#%%\n"
    }
   }
  },
  {
   "cell_type": "code",
   "execution_count": 6,
   "outputs": [],
   "source": [
    "#                                                 FUNCIONES AUXILIARES\n",
    "\n",
    "\n",
    "#                                       getFilesWithAbsolutePath(path, ext = '')\n",
    "\n",
    "# Dado un directorio devuelve una lista con el path absoluto de todos los ficheros con extensión ext\n",
    "\n",
    "def getFilesWithAbsolutePath(path, ext = ''):\n",
    "    # to store files in a list\n",
    "    list = []\n",
    "\n",
    "    if bool(ext):\n",
    "        ext = '.' + ext\n",
    "\n",
    "    # dirs=directories\n",
    "    for (root, folder, files) in os.walk(path):\n",
    "        for file in files:\n",
    "            filePath = os.path.abspath(os.path.join(root, file))\n",
    "            if ext in filePath:\n",
    "                list.append(filePath)\n",
    "                #print(filePath)\n",
    "\n",
    "    return list\n",
    "\n",
    "#lista = getFilesWithAbsolutePath(mypath, ext='pdf')\n",
    "#print(len(lista), lista[:3])\n",
    "\n",
    "\n",
    "#                            getFilesWithAbsolutePathListaExtensiones(path, extList = [''])\n",
    "\n",
    "# Dado un directorio devuelve una lista con el path absoluto de\n",
    "# todos los ficheros con extensión en extList\n",
    "\n",
    "def getFilesWithAbsolutePathListaExtensiones(path):\n",
    "    # to store files in a list\n",
    "    l_list = []\n",
    "    extList = IMG_EXTENSIONS\n",
    "\n",
    "    if len(extList) == 0:\n",
    "        extList = ['']\n",
    "\n",
    "    for ext in extList:\n",
    "        l_list += getFilesWithAbsolutePath(path, ext)\n",
    "\n",
    "    return l_list\n",
    "\n",
    "\n",
    "# lista = getFilesWithAbsolutePathListaExtensiones(mypath, extList = ['epub','pdf'])\n",
    "# print(len(lista))\n",
    "\n",
    "#                       FUNCIONES AUXILIARES PARA ORDENAR LOS NOMBRES DE LAS IMÁGENES DE MODO HUMANO\n",
    "#                                        Modo humano = por orden alfanumerico\n",
    "\n",
    "def atoi(text):\n",
    "    return int(text) if text.isdigit() else text\n",
    "\n",
    "def natural_keys(text):\n",
    "    '''\n",
    "    alist.sort(key=natural_keys) sorts in human order\n",
    "    http://nedbatchelder.com/blog/200712/human_sorting.html\n",
    "    (See Toothy's implementation in the comments)\n",
    "    '''\n",
    "    return [ atoi(c) for c in re.split(r'(\\d+)', text) ]"
   ],
   "metadata": {
    "collapsed": false,
    "pycharm": {
     "name": "#%%\n"
    }
   }
  },
  {
   "cell_type": "code",
   "execution_count": 32,
   "outputs": [],
   "source": [
    "def create_CSV(input_folder = INPUT_FOLDER, tag = \"\"):\n",
    "\n",
    "    input_folder = os.path.abspath(input_folder) + os.sep\n",
    "    csvArray = np.empty([len(getFilesWithAbsolutePathListaExtensiones(input_folder)), 2], dtype=object)\n",
    "\n",
    "    csvOutput = \"..\" + os.sep + \"csv\" + os.sep + \"imgs_and_labels_list\" + tag + '.csv'\n",
    "\n",
    "    idx_aux = 0\n",
    "\n",
    "    for animal in os.listdir(input_folder):\n",
    "        #print(animal)\n",
    "        animal_imgs = getFilesWithAbsolutePathListaExtensiones(input_folder + animal)\n",
    "        animal_imgs.sort(key=natural_keys)\n",
    "        #print(animal_imgs)\n",
    "\n",
    "        for img in animal_imgs:\n",
    "            img_to_insert = img.split(\"2. Animal Recognition\")[1]\n",
    "            csvArray[idx_aux,:] = [img_to_insert, animal]\n",
    "            idx_aux += 1\n",
    "\n",
    "    try:\n",
    "        np.savetxt(csvOutput, csvArray, delimiter=\",\",fmt='%s')\n",
    "        print()\n",
    "        print('CSV salvado: ', csvOutput)\n",
    "    except:\n",
    "        print('ERROR ESCRITURA FINAL CSV:', csvOutput)\n",
    "\n",
    "\n",
    "def resize_img(img_path):\n",
    "    basewidth = 200\n",
    "    baseheight = 200\n",
    "    try:\n",
    "        img = Image.open(img_path)\n",
    "\n",
    "        img = img.resize((basewidth,baseheight), Image.ANTIALIAS) # cambiar pilImage.ANTIALIAS a pilImage.Resampling.LANCZOS\n",
    "        # img = img.resize((basewidth,hsize), pilImage.Resampling.LANCZOS)\n",
    "        #print(img.size)\n",
    "    except:\n",
    "        print('ERROR LECTURA/REESCALADO (Imagen):', img_path)\n",
    "        img = 0\n",
    "\n",
    "    return img\n",
    "\n",
    "\n",
    "def save_resized_imgs(input_folder = INPUT_FOLDER, output_folder = OUTPUT_FOLDER):\n",
    "    input_folder = os.path.abspath(input_folder) + os.sep\n",
    "    output_folder = os.path.abspath(output_folder) + os.sep\n",
    "\n",
    "    csvArray = np.empty([len(getFilesWithAbsolutePathListaExtensiones(input_folder)), 2], dtype=object)\n",
    "\n",
    "    idx = 0\n",
    "\n",
    "    outputfolder = os.path.abspath(output_folder)\n",
    "\n",
    "    for animal in os.listdir(input_folder):\n",
    "        idx_aux = 0\n",
    "\n",
    "        animal_imgs = getFilesWithAbsolutePathListaExtensiones(input_folder + animal)\n",
    "        animal_imgs.sort(key=natural_keys)\n",
    "\n",
    "        output_folder = outputfolder + os.sep + animal + os.sep\n",
    "\n",
    "        for img in animal_imgs:\n",
    "            # origNameFile = img.split(animal)[-1]\n",
    "            # origNameFile = origNameFile.replace(os.sep,\"\")\n",
    "\n",
    "            # Lee la imagen original y la reescala\n",
    "            imgResized = resize_img(img)\n",
    "            if imgResized == 0:\n",
    "                continue\n",
    "\n",
    "            # New output name:\n",
    "\n",
    "            new_name = idx_aux\n",
    "\n",
    "            # Save resized image in output\n",
    "            fileOutput = output_folder + str(new_name) + \".jpg\"\n",
    "\n",
    "            try:\n",
    "                # save img\n",
    "                imgResized.save(fileOutput)\n",
    "            except:\n",
    "                print('Error Saving Resized image:', fileOutput)   #XXX fileinput\n",
    "                continue\n",
    "\n",
    "            idx_aux += 1\n",
    "\n",
    "        for img in animal_imgs:\n",
    "            csvArray[idx,:] = [img, animal]\n",
    "            idx += 1"
   ],
   "metadata": {
    "collapsed": false,
    "pycharm": {
     "name": "#%%\n"
    }
   }
  },
  {
   "cell_type": "code",
   "execution_count": 35,
   "outputs": [
    {
     "name": "stderr",
     "output_type": "stream",
     "text": [
      "C:\\Users\\albam\\AppData\\Local\\Temp\\ipykernel_11140\\3645770621.py:37: DeprecationWarning: ANTIALIAS is deprecated and will be removed in Pillow 10 (2023-07-01). Use Resampling.LANCZOS instead.\n",
      "  img = img.resize((basewidth,baseheight), Image.ANTIALIAS) # cambiar pilImage.ANTIALIAS a pilImage.Resampling.LANCZOS\n"
     ]
    }
   ],
   "source": [
    "# resize images and save them in output folder\n",
    "save_resized_imgs(INPUT_FOLDER, OUTPUT_FOLDER)"
   ],
   "metadata": {
    "collapsed": false,
    "pycharm": {
     "name": "#%%\n"
    }
   }
  },
  {
   "cell_type": "code",
   "execution_count": 36,
   "outputs": [
    {
     "name": "stdout",
     "output_type": "stream",
     "text": [
      "\n",
      "CSV salvado:  ..\\csv\\imgs_and_labels_list_originals.csv\n",
      "\n",
      "CSV salvado:  ..\\csv\\imgs_and_labels_list_resized.csv\n"
     ]
    }
   ],
   "source": [
    "# create csv for the inputfolder images (originals)\n",
    "create_CSV(INPUT_FOLDER, \"_originals\")\n",
    "# create csv for the output images (resized)\n",
    "create_CSV(OUTPUT_FOLDER,\"_resized\")"
   ],
   "metadata": {
    "collapsed": false,
    "pycharm": {
     "name": "#%%\n"
    }
   }
  },
  {
   "cell_type": "code",
   "execution_count": 47,
   "outputs": [],
   "source": [
    "def load_and_save_data_from_dir(input_folder = INPUT_FOLDER):\n",
    "    input_folder = os.path.abspath(input_folder) + os.sep\n",
    "    print(input_folder)\n",
    "    npArray = np.empty([len(getFilesWithAbsolutePathListaExtensiones(INPUT_FOLDER)), 2], dtype=object)\n",
    "\n",
    "    idx_aux = 0\n",
    "\n",
    "    for animal in os.listdir(input_folder):\n",
    "        print(\"\\nStarting to process \" + animal)\n",
    "        animal_imgs = getFilesWithAbsolutePathListaExtensiones(input_folder + animal)\n",
    "        animal_imgs.sort(key=natural_keys)\n",
    "        for img in animal_imgs:\n",
    "            img=cv2.imread(img)\n",
    "            # convert image to array\n",
    "            img = np.array(img)\n",
    "            img_from_ar = Image.fromarray(img, 'RGB')\n",
    "\n",
    "            # image of same size needed for CNN, ensure they are -> 50X50\n",
    "            resized_image = img_from_ar.resize((250, 250))  # tam = cte, move up, bool to change size (if)\n",
    "\n",
    "            npArray[idx_aux,:] = [resized_image, animal]\n",
    "            idx_aux += 1\n",
    "\n",
    "    np.save(\"../np_arrays/imgs_animals\",npArray)\n",
    "\n",
    "    print(\"Finished\")"
   ],
   "metadata": {
    "collapsed": false,
    "pycharm": {
     "name": "#%%\n"
    }
   }
  },
  {
   "cell_type": "code",
   "execution_count": 48,
   "outputs": [
    {
     "name": "stdout",
     "output_type": "stream",
     "text": [
      "C:\\Users\\albam\\OneDrive - UNIVERSIDAD DE HUELVA\\2. Universidad\\Proyects\\2. Animal Recognition\\datasets\\animals\\data_resized\\\n",
      "\n",
      "Starting to process Bear\n",
      "\n",
      "Starting to process Chicken\n",
      "\n",
      "Starting to process Turtle\n",
      "Finished\n"
     ]
    }
   ],
   "source": [
    "load_and_save_data_from_dir(OUTPUT_FOLDER)"
   ],
   "metadata": {
    "collapsed": false,
    "pycharm": {
     "name": "#%%\n"
    }
   }
  },
  {
   "cell_type": "code",
   "execution_count": 50,
   "outputs": [],
   "source": [
    "imgs_animals = np.load(\"../np_arrays/imgs_animals.npy\", allow_pickle=True)"
   ],
   "metadata": {
    "collapsed": false,
    "pycharm": {
     "name": "#%%\n"
    }
   }
  },
  {
   "cell_type": "markdown",
   "source": [
    "#### For the moment we have:\n",
    "- Resized images in folder\n",
    "- CSV with resized images relative path + label\n",
    "- CSV with original images relative path + label\n",
    "- NP array with images + label"
   ],
   "metadata": {
    "collapsed": false,
    "pycharm": {
     "name": "#%% md\n"
    }
   }
  }
 ],
 "metadata": {
  "kernelspec": {
   "display_name": "Python 3",
   "language": "python",
   "name": "python3"
  },
  "language_info": {
   "codemirror_mode": {
    "name": "ipython",
    "version": 2
   },
   "file_extension": ".py",
   "mimetype": "text/x-python",
   "name": "python",
   "nbconvert_exporter": "python",
   "pygments_lexer": "ipython2",
   "version": "2.7.6"
  }
 },
 "nbformat": 4,
 "nbformat_minor": 0
}