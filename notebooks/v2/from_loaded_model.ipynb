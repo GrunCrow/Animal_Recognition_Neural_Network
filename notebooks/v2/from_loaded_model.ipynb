{
 "cells": [
  {
   "cell_type": "code",
   "execution_count": 15,
   "outputs": [],
   "source": [
    "#                                                   LIBRARIES\n",
    "\n",
    "# Image preprocesssing- processing\n",
    "import cv2\n",
    "from PIL import Image\n",
    "import numpy as np\n",
    "\n",
    "# Neural Network libraries\n",
    "import tensorflow as tf\n",
    "from tensorflow import keras\n",
    "from keras.models import Sequential\n",
    "from keras.layers import Conv2D,MaxPooling2D,Dense,Flatten,Dropout"
   ],
   "metadata": {
    "collapsed": false,
    "pycharm": {
     "name": "#%%\n"
    }
   }
  },
  {
   "cell_type": "code",
   "execution_count": 16,
   "outputs": [],
   "source": [
    "num_classes = 3\n",
    "train_animals_reduced = np.load(\"2_train_animals_reduced.npy\")\n",
    "train_labels_reduced = np.load(\"2_train_labels_reduced.npy\")\n",
    "test_animals_reduced = np.load(\"2_test_animals_reduced.npy\")\n",
    "test_labels_reduced = np.load(\"2_test_labels_reduced.npy\")"
   ],
   "metadata": {
    "collapsed": false,
    "pycharm": {
     "name": "#%%\n"
    }
   }
  },
  {
   "cell_type": "code",
   "execution_count": 17,
   "outputs": [],
   "source": [
    "# One hot encoding for labels\n",
    "train_labels_reduced=keras.utils.to_categorical(train_labels_reduced,num_classes)\n",
    "test_labels_reduced=keras.utils.to_categorical(test_labels_reduced,num_classes)"
   ],
   "metadata": {
    "collapsed": false,
    "pycharm": {
     "name": "#%%\n"
    }
   }
  },
  {
   "cell_type": "code",
   "execution_count": 18,
   "metadata": {
    "collapsed": true,
    "pycharm": {
     "name": "#%%\n"
    }
   },
   "outputs": [],
   "source": [
    "# import sequential model and all the required layers\n",
    "def create_model():\n",
    "    #make model\n",
    "    model=Sequential()\n",
    "    # Pairs of Conv2D layer and MaxPool2D Layer with increasing filter sizes ( 16,32 ,64). This helps to make image grow more in depthwise and become more flatten.\n",
    "    # Maxpool: great as they optimize the training time\n",
    "\n",
    "    '''# Pair 1 (16)\n",
    "    model.add(Conv2D(filters=16,kernel_size=2,padding=\"same\",activation=\"relu\",input_shape=(50,50,3)))\n",
    "    model.add(MaxPooling2D(pool_size=2))\n",
    "\n",
    "    # Pair 2 (32)\n",
    "    model.add(Conv2D(filters=32,kernel_size=2,padding=\"same\",activation=\"relu\"))\n",
    "    model.add(MaxPooling2D(pool_size=2))\n",
    "\n",
    "    # Pair 3 (64)\n",
    "    model.add(Conv2D(filters=64,kernel_size=2,padding=\"same\",activation=\"relu\"))\n",
    "    model.add(MaxPooling2D(pool_size=2))\n",
    "\n",
    "    # Dropout layers to reduce overfitting\n",
    "    model.add(Dropout(0.2))\n",
    "    model.add(Flatten())\n",
    "\n",
    "\n",
    "    model.add(Dense(500,activation=\"relu\"))\n",
    "    model.add(Dropout(0.2))'''\n",
    "\n",
    "    # capas de calculo -> ir de menor a mayor, suelen ser potencias / multiplos de 2 (las layers)\n",
    "\n",
    "    model.add(Conv2D(filters=64,kernel_size=3,padding=\"same\",activation=\"relu\",input_shape=(50,50,3))) # parte imp = relu\n",
    "    model.add(MaxPooling2D(pool_size=2))\n",
    "\n",
    "    model.add(Conv2D(filters=128,kernel_size=3,padding=\"same\",activation=\"relu\"))\n",
    "    model.add(MaxPooling2D(pool_size=2))\n",
    "\n",
    "    model.add(Conv2D(filters=256,kernel_size=3,padding=\"same\",activation=\"relu\"))\n",
    "    model.add(MaxPooling2D(pool_size=4))\n",
    "\n",
    "    model.add(Dropout(0.2))\n",
    "    model.add(Flatten()) # without flatten output shape = (50, 50, 6) -> flatten = (None, 6) which we need to get layer output\n",
    "\n",
    "\n",
    "    # capas de clasificacion\n",
    "\n",
    "    model.add(Dense(200,activation=\"relu\"))\n",
    "\n",
    "    # Final dense layer with num_classes nodes = categories of animals we have in the set\n",
    "    # Softmax activation is used to give scores to these categories which lie between 0 and 1.\n",
    "    model.add(Dense(num_classes, activation=\"softmax\"))\n",
    "    model.summary()\n",
    "\n",
    "    # compile the model\n",
    "    # We use loss function as categorical_crossentropy and Adam optimizer\n",
    "\n",
    "    # if binary data -> loss = Binary Cross Entropy and activation = sigmoid\n",
    "    model.compile(loss='categorical_crossentropy', optimizer='adam',\n",
    "                      metrics=['accuracy'])\n",
    "\n",
    "    return model"
   ]
  },
  {
   "cell_type": "code",
   "execution_count": 19,
   "outputs": [
    {
     "name": "stdout",
     "output_type": "stream",
     "text": [
      "Model: \"sequential_2\"\n",
      "_________________________________________________________________\n",
      " Layer (type)                Output Shape              Param #   \n",
      "=================================================================\n",
      " conv2d_6 (Conv2D)           (None, 50, 50, 64)        1792      \n",
      "                                                                 \n",
      " max_pooling2d_6 (MaxPooling  (None, 25, 25, 64)       0         \n",
      " 2D)                                                             \n",
      "                                                                 \n",
      " conv2d_7 (Conv2D)           (None, 25, 25, 128)       73856     \n",
      "                                                                 \n",
      " max_pooling2d_7 (MaxPooling  (None, 12, 12, 128)      0         \n",
      " 2D)                                                             \n",
      "                                                                 \n",
      " conv2d_8 (Conv2D)           (None, 12, 12, 256)       295168    \n",
      "                                                                 \n",
      " max_pooling2d_8 (MaxPooling  (None, 3, 3, 256)        0         \n",
      " 2D)                                                             \n",
      "                                                                 \n",
      " dropout_2 (Dropout)         (None, 3, 3, 256)         0         \n",
      "                                                                 \n",
      " flatten_2 (Flatten)         (None, 2304)              0         \n",
      "                                                                 \n",
      " dense_4 (Dense)             (None, 200)               461000    \n",
      "                                                                 \n",
      " dense_5 (Dense)             (None, 3)                 603       \n",
      "                                                                 \n",
      "=================================================================\n",
      "Total params: 832,419\n",
      "Trainable params: 832,419\n",
      "Non-trainable params: 0\n",
      "_________________________________________________________________\n",
      "8/8 - 1s - loss: 4.6811 - accuracy: 0.3609 - 747ms/epoch - 93ms/step\n",
      "Restored model, accuracy: 36.09%\n"
     ]
    }
   ],
   "source": [
    "model = create_model()\n",
    "model.load_weights('model.h5')\n",
    "\n",
    "loss, acc = model.evaluate(test_animals_reduced, test_labels_reduced, verbose=2)\n",
    "print(\"Restored model, accuracy: {:5.2f}%\".format(100 * acc))"
   ],
   "metadata": {
    "collapsed": false,
    "pycharm": {
     "name": "#%%\n"
    }
   }
  },
  {
   "cell_type": "code",
   "execution_count": 20,
   "outputs": [
    {
     "name": "stdout",
     "output_type": "stream",
     "text": [
      "Epoch 1/30\n",
      "32/32 [==============================] - 4s 97ms/step - loss: 1.2525 - accuracy: 0.4990\n",
      "Epoch 2/30\n",
      "32/32 [==============================] - 3s 97ms/step - loss: 0.9165 - accuracy: 0.5891\n",
      "Epoch 3/30\n",
      "32/32 [==============================] - 3s 98ms/step - loss: 0.8343 - accuracy: 0.6307\n",
      "Epoch 4/30\n",
      "32/32 [==============================] - 3s 97ms/step - loss: 0.7513 - accuracy: 0.6594\n",
      "Epoch 5/30\n",
      "32/32 [==============================] - 3s 93ms/step - loss: 0.6840 - accuracy: 0.7000\n",
      "Epoch 6/30\n",
      "32/32 [==============================] - 3s 92ms/step - loss: 0.5415 - accuracy: 0.7723\n",
      "Epoch 7/30\n",
      "32/32 [==============================] - 3s 94ms/step - loss: 0.5700 - accuracy: 0.7416\n",
      "Epoch 8/30\n",
      "32/32 [==============================] - 3s 95ms/step - loss: 0.4897 - accuracy: 0.8040\n",
      "Epoch 9/30\n",
      "32/32 [==============================] - 3s 92ms/step - loss: 0.4084 - accuracy: 0.8307\n",
      "Epoch 10/30\n",
      "32/32 [==============================] - 3s 93ms/step - loss: 0.3372 - accuracy: 0.8644\n",
      "Epoch 11/30\n",
      "32/32 [==============================] - 3s 91ms/step - loss: 0.3641 - accuracy: 0.8426\n",
      "Epoch 12/30\n",
      "32/32 [==============================] - 3s 91ms/step - loss: 0.2790 - accuracy: 0.8960\n",
      "Epoch 13/30\n",
      "32/32 [==============================] - 3s 92ms/step - loss: 0.3160 - accuracy: 0.8723\n",
      "Epoch 14/30\n",
      "32/32 [==============================] - 3s 91ms/step - loss: 0.2905 - accuracy: 0.8772\n",
      "Epoch 15/30\n",
      "32/32 [==============================] - 3s 89ms/step - loss: 0.2285 - accuracy: 0.9139\n",
      "Epoch 16/30\n",
      "32/32 [==============================] - 3s 92ms/step - loss: 0.1861 - accuracy: 0.9257\n",
      "Epoch 17/30\n",
      "32/32 [==============================] - 3s 92ms/step - loss: 0.1464 - accuracy: 0.9396\n",
      "Epoch 18/30\n",
      "32/32 [==============================] - 3s 91ms/step - loss: 0.1024 - accuracy: 0.9584\n",
      "Epoch 19/30\n",
      "32/32 [==============================] - 3s 91ms/step - loss: 0.1410 - accuracy: 0.9465\n",
      "Epoch 20/30\n",
      "32/32 [==============================] - 3s 95ms/step - loss: 0.2171 - accuracy: 0.9158\n",
      "Epoch 21/30\n",
      "32/32 [==============================] - 3s 94ms/step - loss: 0.2927 - accuracy: 0.8921\n",
      "Epoch 22/30\n",
      "32/32 [==============================] - 3s 92ms/step - loss: 0.1739 - accuracy: 0.9356\n",
      "Epoch 23/30\n",
      "32/32 [==============================] - 3s 89ms/step - loss: 0.1179 - accuracy: 0.9554\n",
      "Epoch 24/30\n",
      "32/32 [==============================] - 3s 90ms/step - loss: 0.2205 - accuracy: 0.9257\n",
      "Epoch 25/30\n",
      "32/32 [==============================] - 3s 91ms/step - loss: 0.1340 - accuracy: 0.9446\n",
      "Epoch 26/30\n",
      "32/32 [==============================] - 3s 89ms/step - loss: 0.1109 - accuracy: 0.9584\n",
      "Epoch 27/30\n",
      "32/32 [==============================] - 3s 89ms/step - loss: 0.0850 - accuracy: 0.9743\n",
      "Epoch 28/30\n",
      "32/32 [==============================] - 3s 90ms/step - loss: 0.0532 - accuracy: 0.9822\n",
      "Epoch 29/30\n",
      "32/32 [==============================] - 3s 90ms/step - loss: 0.0887 - accuracy: 0.9733\n",
      "Epoch 30/30\n",
      "32/32 [==============================] - 3s 90ms/step - loss: 0.1116 - accuracy: 0.9653\n"
     ]
    },
    {
     "data": {
      "text/plain": "<keras.callbacks.History at 0x24cc85a1900>"
     },
     "execution_count": 20,
     "metadata": {},
     "output_type": "execute_result"
    }
   ],
   "source": [
    "model.fit(train_animals_reduced,train_labels_reduced,batch_size=32 ,epochs=30,verbose=1)"
   ],
   "metadata": {
    "collapsed": false,
    "pycharm": {
     "name": "#%%\n"
    }
   }
  },
  {
   "cell_type": "code",
   "execution_count": 21,
   "outputs": [
    {
     "name": "stdout",
     "output_type": "stream",
     "text": [
      "8/8 [==============================] - 0s 26ms/step - loss: 2.0543 - accuracy: 0.6478\n",
      "\n",
      " Test accuracy: 0.647826075553894\n"
     ]
    }
   ],
   "source": [
    "# test the model\n",
    "score = model.evaluate(test_animals_reduced, test_labels_reduced, verbose=1)\n",
    "print('\\n', 'Test accuracy:', score[1])"
   ],
   "metadata": {
    "collapsed": false,
    "pycharm": {
     "name": "#%%\n"
    }
   }
  },
  {
   "cell_type": "code",
   "execution_count": 22,
   "outputs": [],
   "source": [
    "def convert_to_array(img):\n",
    "    im = cv2.imread(img)\n",
    "    img = Image.fromarray(im, 'RGB')\n",
    "    image = img.resize((50, 50))\n",
    "    return np.array(image)\n",
    "\n",
    "def get_animal_name(label):\n",
    "    if label==0:\n",
    "        return \"Bear\"\n",
    "    if label==1:\n",
    "        return \"Chicken\"\n",
    "    if label==2:\n",
    "        return \"Turtle\"\n",
    "\n",
    "def predict_animal(file):\n",
    "    print(\"Predicting .................................\")\n",
    "    ar=convert_to_array(file)\n",
    "    ar=ar/255\n",
    "    label=1\n",
    "    a=[]\n",
    "    a.append(ar)\n",
    "    a=np.array(a)\n",
    "    score=model.predict(a,verbose=1)\n",
    "    print(score)\n",
    "    label_index=np.argmax(score)\n",
    "    print(label_index)\n",
    "    acc=np.max(score)\n",
    "    animal=get_animal_name(label_index)\n",
    "    print(animal)\n",
    "    print(\"The predicted Animal is a \"+animal+\" with accuracy =    \"+str(acc))"
   ],
   "metadata": {
    "collapsed": false,
    "pycharm": {
     "name": "#%%\n"
    }
   }
  },
  {
   "cell_type": "code",
   "execution_count": 25,
   "outputs": [
    {
     "name": "stdout",
     "output_type": "stream",
     "text": [
      "Predicting .................................\n",
      "1/1 [==============================] - 0s 21ms/step\n",
      "[[0.25310296 0.32158893 0.4253081 ]]\n",
      "2\n",
      "Turtle\n",
      "The predicted Animal is a Turtle with accuracy =    0.4253081\n"
     ]
    }
   ],
   "source": [
    "# predict image\n",
    "file = \"../datasets/animals/animals-detection-images-dataset/prediction/bear.jpg\"\n",
    "predict_animal(file)"
   ],
   "metadata": {
    "collapsed": false,
    "pycharm": {
     "name": "#%%\n"
    }
   }
  },
  {
   "cell_type": "code",
   "execution_count": null,
   "outputs": [],
   "source": [],
   "metadata": {
    "collapsed": false,
    "pycharm": {
     "name": "#%%\n"
    }
   }
  }
 ],
 "metadata": {
  "kernelspec": {
   "display_name": "Python 3",
   "language": "python",
   "name": "python3"
  },
  "language_info": {
   "codemirror_mode": {
    "name": "ipython",
    "version": 2
   },
   "file_extension": ".py",
   "mimetype": "text/x-python",
   "name": "python",
   "nbconvert_exporter": "python",
   "pygments_lexer": "ipython2",
   "version": "2.7.6"
  }
 },
 "nbformat": 4,
 "nbformat_minor": 0
}