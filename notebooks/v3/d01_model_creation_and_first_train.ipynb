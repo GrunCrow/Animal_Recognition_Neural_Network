{
 "cells": [
  {
   "cell_type": "markdown",
   "source": [
    "## Making Keras Model\n",
    "\n",
    "think about hyper parameters like Filter size, number of filters, which type of padding to use, which activatioon functions to use etc."
   ],
   "metadata": {
    "collapsed": false,
    "pycharm": {
     "name": "#%% md\n"
    }
   }
  },
  {
   "cell_type": "markdown",
   "source": [
    "## Libraries"
   ],
   "metadata": {
    "collapsed": false,
    "pycharm": {
     "name": "#%% md\n"
    }
   }
  },
  {
   "cell_type": "code",
   "execution_count": 1,
   "outputs": [],
   "source": [
    "#                                                   LIBRARIES\n",
    "import os\n",
    "\n",
    "# Image preprocesssing- processing\n",
    "import cv2\n",
    "from PIL import Image\n",
    "import numpy as np\n",
    "\n",
    "# Neural Network libraries\n",
    "import tensorflow as tf\n",
    "from tensorflow import keras\n",
    "from keras.models import Sequential\n",
    "from keras.layers import Conv2D,MaxPooling2D,Dense,Flatten,Dropout"
   ],
   "metadata": {
    "collapsed": false,
    "pycharm": {
     "name": "#%%\n"
    }
   }
  },
  {
   "cell_type": "code",
   "execution_count": 2,
   "outputs": [],
   "source": [
    "CSV_INPUT_FOLDER = \"..\" + os.sep + \"..\" + os.sep + \"csv\" + os.sep\n",
    "TRAIN_CSV = CSV_INPUT_FOLDER + \"train_list.csv\"\n",
    "TEST_CSV = CSV_INPUT_FOLDER + \"test_list.csv\"\n",
    "VALIDATION_CSV = CSV_INPUT_FOLDER + \"validation_list.csv\""
   ],
   "metadata": {
    "collapsed": false,
    "pycharm": {
     "name": "#%%\n"
    }
   }
  },
  {
   "cell_type": "code",
   "execution_count": 3,
   "outputs": [],
   "source": [
    "CSV_INPUT_FOLDER = os.path.abspath(CSV_INPUT_FOLDER)\n",
    "TRAIN_CSV = os.path.abspath(TRAIN_CSV)\n",
    "TEST_CSV = os.path.abspath(TEST_CSV)\n",
    "VALIDATION_CSV = os.path.abspath(VALIDATION_CSV)"
   ],
   "metadata": {
    "collapsed": false,
    "pycharm": {
     "name": "#%%\n"
    }
   }
  },
  {
   "cell_type": "code",
   "execution_count": 4,
   "outputs": [],
   "source": [
    "def read_csvs(train_csv = TRAIN_CSV, test_csv = TEST_CSV, validation_csv = VALIDATION_CSV):\n",
    "    train_data = []\n",
    "    test_data = []\n",
    "    validation_data = []\n",
    "\n",
    "    # convert back to numpy array\n",
    "\n",
    "    train = np.loadtxt(train_csv,dtype=str,\n",
    "                                     delimiter=',', usecols=(0, 1), unpack=True)\n",
    "\n",
    "    # np.random.shuffle(train)\n",
    "\n",
    "    train_d, train_labels = train\n",
    "\n",
    "    for data in train_d:\n",
    "        data = \"..\" + os.sep + \"..\" + data\n",
    "        img=cv2.imread(data)\n",
    "\n",
    "        # convert image to array\n",
    "        img = np.array(img)\n",
    "\n",
    "        img = Image.fromarray(img, 'RGB')\n",
    "\n",
    "        train_data.append(np.array(img))\n",
    "\n",
    "    assert len(train_data) == len(train_labels)\n",
    "\n",
    "\n",
    "    test_d, test_labels = np.loadtxt(test_csv,dtype=str,\n",
    "                                     delimiter=',', usecols=(0, 1), unpack=True)\n",
    "    for data in test_d:\n",
    "        data = \"..\" + os.sep + \"..\" + data\n",
    "        img=cv2.imread(data)\n",
    "\n",
    "        # convert image to array\n",
    "        img = np.array(img)\n",
    "\n",
    "        img = Image.fromarray(img, 'RGB')\n",
    "\n",
    "        test_data.append(np.array(img))\n",
    "\n",
    "    validation_d, validation_labels = np.loadtxt(validation_csv,dtype=str,\n",
    "                                     delimiter=',', usecols=(0, 1), unpack=True)\n",
    "    for data in validation_d:\n",
    "        data = \"..\" + os.sep + \"..\" + data\n",
    "        img=cv2.imread(data)\n",
    "\n",
    "        # convert image to array\n",
    "        img = np.array(img)\n",
    "\n",
    "        img = Image.fromarray(img, 'RGB')\n",
    "\n",
    "        validation_data.append(np.array(img))\n",
    "\n",
    "    train_labels = np.array(train_labels)\n",
    "    test_labels = np.array(test_labels)\n",
    "    validation_labels = np.array(validation_labels)\n",
    "\n",
    "    train_data=np.array(train_data)\n",
    "    test_data=np.array(test_data)\n",
    "    validation_data=np.array(validation_data)\n",
    "\n",
    "    return train_data, train_labels, test_data, test_labels, validation_data, validation_labels\n",
    "\n",
    "train_data, train_labels, test_data, test_labels, validation_data, val_labels = read_csvs(TRAIN_CSV, TEST_CSV, VALIDATION_CSV)"
   ],
   "metadata": {
    "collapsed": false,
    "pycharm": {
     "name": "#%%\n"
    }
   }
  },
  {
   "cell_type": "code",
   "execution_count": 5,
   "outputs": [],
   "source": [
    "num_classes = 3\n",
    "train_data, train_labels, test_data, test_labels, validation_data, val_labels = read_csvs(TRAIN_CSV, TEST_CSV, VALIDATION_CSV)"
   ],
   "metadata": {
    "collapsed": false,
    "pycharm": {
     "name": "#%%\n"
    }
   }
  },
  {
   "cell_type": "code",
   "execution_count": 6,
   "outputs": [],
   "source": [
    "def transform_names_into_numbers(train_labels_name, test_labels_name, validation_labels_name):\n",
    "    train_labels = test_labels = validation_labels = []\n",
    "    # train_labels\n",
    "    for idx,label in enumerate(train_labels_name):\n",
    "        if label == 'Bear':\n",
    "            train_labels.append(0)\n",
    "        elif label == 'Chicken':\n",
    "            train_labels.append(1)\n",
    "        elif label == 'Turtle':\n",
    "            train_labels.append(2)\n",
    "\n",
    "    # test_labels\n",
    "    for idx,label in enumerate(test_labels_name):\n",
    "        if label == 'Bear':\n",
    "            test_labels.append(0)\n",
    "        elif label == 'Chicken':\n",
    "            test_labels.append(1)\n",
    "        elif label == 'Turtle':\n",
    "            test_labels.append(2)\n",
    "\n",
    "    # validation_labels\n",
    "    for idx,label in enumerate(validation_labels_name):\n",
    "        if label == 'Bear':\n",
    "            validation_labels.append(0)\n",
    "        elif label == 'Chicken':\n",
    "            validation_labels.append(1)\n",
    "        elif label == 'Turtle':\n",
    "            validation_labels.append(2)\n",
    "\n",
    "    train_labels = np.array(train_labels)\n",
    "    test_labels = np.array(test_labels)\n",
    "    validation_labels = np.array(validation_labels)\n",
    "\n",
    "    return train_labels, test_labels, validation_labels"
   ],
   "metadata": {
    "collapsed": false,
    "pycharm": {
     "name": "#%%\n"
    }
   }
  },
  {
   "cell_type": "code",
   "execution_count": 7,
   "outputs": [],
   "source": [
    "# One hot encoding for labels\n",
    "train_labels = keras.utils.to_categorical(train_labels,num_classes)\n",
    "test_labels = keras.utils.to_categorical(test_labels,num_classes)\n",
    "validation_labels = keras.utils.to_categorical(val_labels,num_classes)"
   ],
   "metadata": {
    "collapsed": false,
    "pycharm": {
     "name": "#%%\n"
    }
   }
  },
  {
   "cell_type": "markdown",
   "source": [],
   "metadata": {
    "collapsed": false,
    "pycharm": {
     "name": "#%% md\n"
    }
   }
  },
  {
   "cell_type": "code",
   "execution_count": 8,
   "outputs": [],
   "source": [
    "# import sequential model and all the required layers\n",
    "def create_model():\n",
    "    #make model\n",
    "    model=Sequential()\n",
    "    # Pairs of Conv2D layer and MaxPool2D Layer with increasing filter sizes ( 16,32 ,64). This helps to make image grow more in depthwise and become more flatten.\n",
    "    # Maxpool: great as they optimize the training time\n",
    "\n",
    "    # capas de calculo -> ir de menor a mayor, suelen ser potencias / multiplos de 2 (las layers)\n",
    "\n",
    "    model.add(Conv2D(filters=64,kernel_size=3,padding=\"same\",activation=\"relu\",input_shape=(200,200,3))) # parte imp = relu\n",
    "    model.add(MaxPooling2D(pool_size=2))\n",
    "\n",
    "    model.add(Conv2D(filters=128,kernel_size=3,padding=\"same\",activation=\"relu\"))\n",
    "    model.add(MaxPooling2D(pool_size=2))\n",
    "\n",
    "    model.add(Conv2D(filters=256,kernel_size=3,padding=\"same\",activation=\"relu\"))\n",
    "    model.add(MaxPooling2D(pool_size=4))\n",
    "\n",
    "    model.add(Dropout(0.2))\n",
    "    model.add(Flatten()) # without flatten output shape = (50, 50, 6) -> flatten = (None, 6) which we need to get layer output\n",
    "\n",
    "\n",
    "    # capas de clasificacion\n",
    "\n",
    "    model.add(Dense(200,activation=\"relu\"))\n",
    "\n",
    "    # Final dense layer with num_classes nodes = categories of animals we have in the set\n",
    "    # Softmax activation is used to give scores to these categories which lie between 0 and 1.\n",
    "    model.add(Dense(num_classes,activation=\"softmax\"))\n",
    "    model.summary()\n",
    "\n",
    "    # compile the model\n",
    "    # We use loss function as categorical_crossentropy and Adam optimizer\n",
    "\n",
    "    # if binary data -> loss = Binary Cross Entropy and activation = sigmoid\n",
    "    model.compile(loss='categorical_crossentropy', optimizer='adam',\n",
    "                      metrics=['accuracy'])\n",
    "\n",
    "    return model"
   ],
   "metadata": {
    "collapsed": false,
    "pycharm": {
     "name": "#%%\n"
    }
   }
  },
  {
   "cell_type": "code",
   "execution_count": 9,
   "outputs": [
    {
     "name": "stdout",
     "output_type": "stream",
     "text": [
      "Model: \"sequential\"\n",
      "_________________________________________________________________\n",
      " Layer (type)                Output Shape              Param #   \n",
      "=================================================================\n",
      " conv2d (Conv2D)             (None, 200, 200, 64)      1792      \n",
      "                                                                 \n",
      " max_pooling2d (MaxPooling2D  (None, 100, 100, 64)     0         \n",
      " )                                                               \n",
      "                                                                 \n",
      " conv2d_1 (Conv2D)           (None, 100, 100, 128)     73856     \n",
      "                                                                 \n",
      " max_pooling2d_1 (MaxPooling  (None, 50, 50, 128)      0         \n",
      " 2D)                                                             \n",
      "                                                                 \n",
      " conv2d_2 (Conv2D)           (None, 50, 50, 256)       295168    \n",
      "                                                                 \n",
      " max_pooling2d_2 (MaxPooling  (None, 12, 12, 256)      0         \n",
      " 2D)                                                             \n",
      "                                                                 \n",
      " dropout (Dropout)           (None, 12, 12, 256)       0         \n",
      "                                                                 \n",
      " flatten (Flatten)           (None, 36864)             0         \n",
      "                                                                 \n",
      " dense (Dense)               (None, 200)               7373000   \n",
      "                                                                 \n",
      " dense_1 (Dense)             (None, 3)                 603       \n",
      "                                                                 \n",
      "=================================================================\n",
      "Total params: 7,744,419\n",
      "Trainable params: 7,744,419\n",
      "Non-trainable params: 0\n",
      "_________________________________________________________________\n"
     ]
    }
   ],
   "source": [
    "model = create_model()"
   ],
   "metadata": {
    "collapsed": false,
    "pycharm": {
     "name": "#%%\n"
    }
   }
  },
  {
   "cell_type": "code",
   "execution_count": null,
   "outputs": [
    {
     "name": "stdout",
     "output_type": "stream",
     "text": [
      "Epoch 1/15\n"
     ]
    }
   ],
   "source": [
    "# training\n",
    "# batch potencias de 2, a mayor bacths mayor estabilidad del grandiente\n",
    "model.fit(train_data,train_labels,batch_size=32 ,epochs=15,verbose=1)"
   ],
   "metadata": {
    "collapsed": false,
    "pycharm": {
     "name": "#%%\n",
     "is_executing": true
    }
   }
  },
  {
   "cell_type": "code",
   "execution_count": null,
   "outputs": [],
   "source": [
    "# test the model\n",
    "score = model.evaluate(test_data, test_labels, verbose=1)\n",
    "print('\\n', 'Test accuracy:', score[1])"
   ],
   "metadata": {
    "collapsed": false,
    "pycharm": {
     "name": "#%%\n",
     "is_executing": true
    }
   }
  },
  {
   "cell_type": "code",
   "execution_count": null,
   "outputs": [],
   "source": [
    "# save the model\n",
    "\n",
    "'''# serialize model to JSON\n",
    "model_json = model.to_json()\n",
    "with open(\"model.json\", \"w\") as json_file:\n",
    "    json_file.write(model_json)\n",
    "# serialize weights to HDF5\n",
    "model.save_weights(\"model.h5\")\n",
    "print(\"Saved model to disk\")'''\n",
    "\n",
    "model.save('../models/model_200x200.h5') # Saves the entire model to a single artifact\n"
   ],
   "metadata": {
    "collapsed": false,
    "pycharm": {
     "name": "#%%\n",
     "is_executing": true
    }
   }
  },
  {
   "cell_type": "code",
   "execution_count": null,
   "outputs": [],
   "source": [
    "def convert_to_array(img):\n",
    "    im = cv2.imread(img)\n",
    "    img = Image.fromarray(im, 'RGB')\n",
    "    return np.array(img)\n",
    "\n",
    "def get_animal_name(label):\n",
    "    if label==0:\n",
    "        return \"Bear\"\n",
    "    if label==1:\n",
    "        return \"Chicken\"\n",
    "    if label==2:\n",
    "        return \"Turtle\"\n",
    "\n",
    "def predict_animal(file):\n",
    "    print(\"Predicting .................................\")\n",
    "    # ar = convert_to_array(file)\n",
    "    file = file/255\n",
    "    a = []\n",
    "    a.append(file)\n",
    "    a = np.array(a)\n",
    "    score = model.predict(a,verbose=1)\n",
    "    label_index=np.argmax(score)\n",
    "    acc=np.max(score)\n",
    "    animal=get_animal_name(label_index)\n",
    "    print(\"The predicted Animal is a \"+animal+\" with accuracy =    \"+str(acc))\n",
    "\n",
    "    return label_index, animal"
   ],
   "metadata": {
    "collapsed": false,
    "pycharm": {
     "name": "#%%\n",
     "is_executing": true
    }
   }
  },
  {
   "cell_type": "code",
   "execution_count": null,
   "outputs": [],
   "source": [
    "def validation(val_data = validation_data, val_lab = val_labels):\n",
    "    # function not finished and not working\n",
    "    good_predicted = 0\n",
    "    bad_predicted = 0\n",
    "    for idx, data in enumerate(val_data):\n",
    "        label_index, animal = predict_animal(data)\n",
    "        if label_index == val_lab[idx]:\n",
    "            good_predicted += 1\n",
    "        else:\n",
    "            bad_predicted += 1\n",
    "\n",
    "    print(\"Good predicted: \" + str(good_predicted))\n",
    "    print(\"Bad predicted: \" + str(bad_predicted))\n",
    "\n",
    "# validation(validation_data, val_labels)"
   ],
   "metadata": {
    "collapsed": false,
    "pycharm": {
     "name": "#%%\n",
     "is_executing": true
    }
   }
  },
  {
   "cell_type": "code",
   "execution_count": 109,
   "outputs": [
    {
     "name": "stdout",
     "output_type": "stream",
     "text": [
      "Predicting .................................\n",
      "1/1 [==============================] - 0s 37ms/step\n",
      "The predicted Animal is a Bear with accuracy =    0.38710973\n"
     ]
    },
    {
     "data": {
      "text/plain": "(0, 'Bear')"
     },
     "execution_count": 109,
     "metadata": {},
     "output_type": "execute_result"
    }
   ],
   "source": [
    "# predict image\n",
    "file = \"../datasets/animals/data_resized/Chicken/60.jpg\"\n",
    "file = cv2.imread(file)\n",
    "predict_animal(file)"
   ],
   "metadata": {
    "collapsed": false,
    "pycharm": {
     "name": "#%%\n"
    }
   }
  },
  {
   "cell_type": "code",
   "execution_count": null,
   "outputs": [],
   "source": [
    "# tensor board -> api to see in real time evolution of the model (from tensorflow)"
   ],
   "metadata": {
    "collapsed": false,
    "pycharm": {
     "name": "#%%\n"
    }
   }
  }
 ],
 "metadata": {
  "kernelspec": {
   "display_name": "Python 3",
   "language": "python",
   "name": "python3"
  },
  "language_info": {
   "codemirror_mode": {
    "name": "ipython",
    "version": 2
   },
   "file_extension": ".py",
   "mimetype": "text/x-python",
   "name": "python",
   "nbconvert_exporter": "python",
   "pygments_lexer": "ipython2",
   "version": "2.7.6"
  }
 },
 "nbformat": 4,
 "nbformat_minor": 0
}