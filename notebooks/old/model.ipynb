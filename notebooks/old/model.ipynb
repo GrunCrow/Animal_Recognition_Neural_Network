{
 "cells": [
  {
   "cell_type": "markdown",
   "source": [
    "## Making Keras Model\n",
    "\n",
    "think about hyper parameters like Filter size, number of filters, which type of padding to use, which activatioon functions to use etc."
   ],
   "metadata": {
    "collapsed": false,
    "pycharm": {
     "name": "#%% md\n"
    }
   }
  },
  {
   "cell_type": "markdown",
   "source": [
    "## Libraries"
   ],
   "metadata": {
    "collapsed": false,
    "pycharm": {
     "name": "#%% md\n"
    }
   }
  },
  {
   "cell_type": "code",
   "execution_count": 32,
   "outputs": [],
   "source": [
    "#                                                   LIBRARIES\n",
    "\n",
    "# Image preprocesssing- processing\n",
    "import cv2\n",
    "from PIL import Image\n",
    "import numpy as np\n",
    "\n",
    "# Neural Network libraries\n",
    "import tensorflow as tf\n",
    "from tensorflow import keras\n",
    "from keras.models import Sequential\n",
    "from keras.layers import Conv2D,MaxPooling2D,Dense,Flatten,Dropout"
   ],
   "metadata": {
    "collapsed": false,
    "pycharm": {
     "name": "#%%\n"
    }
   }
  },
  {
   "cell_type": "code",
   "execution_count": 33,
   "outputs": [],
   "source": [
    "num_classes = 3\n",
    "train_animals_reduced = np.load(\"train_animals_reduced.npy\")\n",
    "train_labels_reduced = np.load(\"train_labels_reduced.npy\")\n",
    "test_animals_reduced = np.load(\"test_animals_reduced.npy\")\n",
    "test_labels_reduced = np.load(\"test_labels_reduced.npy\")"
   ],
   "metadata": {
    "collapsed": false,
    "pycharm": {
     "name": "#%%\n"
    }
   }
  },
  {
   "cell_type": "code",
   "execution_count": 34,
   "outputs": [],
   "source": [
    "# One hot encoding for labels\n",
    "train_labels_reduced=keras.utils.to_categorical(train_labels_reduced,num_classes)\n",
    "test_labels_reduced=keras.utils.to_categorical(test_labels_reduced,num_classes)"
   ],
   "metadata": {
    "collapsed": false,
    "pycharm": {
     "name": "#%%\n"
    }
   }
  },
  {
   "cell_type": "markdown",
   "source": [],
   "metadata": {
    "collapsed": false,
    "pycharm": {
     "name": "#%% md\n"
    }
   }
  },
  {
   "cell_type": "code",
   "execution_count": 35,
   "outputs": [],
   "source": [
    "# import sequential model and all the required layers\n",
    "def create_model():\n",
    "    #make model\n",
    "    model=Sequential()\n",
    "    # Pairs of Conv2D layer and MaxPool2D Layer with increasing filter sizes ( 16,32 ,64). This helps to make image grow more in depthwise and become more flatten.\n",
    "    # Maxpool: great as they optimize the training time\n",
    "\n",
    "    '''# Pair 1 (16)\n",
    "    model.add(Conv2D(filters=16,kernel_size=2,padding=\"same\",activation=\"relu\",input_shape=(50,50,3)))\n",
    "    model.add(MaxPooling2D(pool_size=2))\n",
    "\n",
    "    # Pair 2 (32)\n",
    "    model.add(Conv2D(filters=32,kernel_size=2,padding=\"same\",activation=\"relu\"))\n",
    "    model.add(MaxPooling2D(pool_size=2))\n",
    "\n",
    "    # Pair 3 (64)\n",
    "    model.add(Conv2D(filters=64,kernel_size=2,padding=\"same\",activation=\"relu\"))\n",
    "    model.add(MaxPooling2D(pool_size=2))\n",
    "\n",
    "    # Dropout layers to reduce overfitting\n",
    "    model.add(Dropout(0.2))\n",
    "    model.add(Flatten())\n",
    "\n",
    "\n",
    "    model.add(Dense(500,activation=\"relu\"))\n",
    "    model.add(Dropout(0.2))'''\n",
    "\n",
    "    # capas de calculo -> ir de menor a mayor, suelen ser potencias / multiplos de 2 (las layers)\n",
    "\n",
    "    model.add(Conv2D(filters=64,kernel_size=3,padding=\"same\",activation=\"relu\",input_shape=(50,50,3))) # parte imp = relu\n",
    "    model.add(MaxPooling2D(pool_size=2))\n",
    "\n",
    "    model.add(Conv2D(filters=128,kernel_size=3,padding=\"same\",activation=\"relu\"))\n",
    "    model.add(MaxPooling2D(pool_size=2))\n",
    "\n",
    "    model.add(Conv2D(filters=256,kernel_size=3,padding=\"same\",activation=\"relu\"))\n",
    "    model.add(MaxPooling2D(pool_size=4))\n",
    "\n",
    "    model.add(Dropout(0.2))\n",
    "    model.add(Flatten()) # without flatten output shape = (50, 50, 6) -> flatten = (None, 6) which we need to get layer output\n",
    "\n",
    "\n",
    "    # capas de clasificacion\n",
    "\n",
    "    model.add(Dense(200,activation=\"relu\"))\n",
    "\n",
    "    # Final dense layer with num_classes nodes = categories of animals we have in the set\n",
    "    # Softmax activation is used to give scores to these categories which lie between 0 and 1.\n",
    "    model.add(Dense(num_classes,activation=\"softmax\"))\n",
    "    model.summary()\n",
    "\n",
    "    # compile the model\n",
    "    # We use loss function as categorical_crossentropy and Adam optimizer\n",
    "\n",
    "    # if binary data -> loss = Binary Cross Entropy and activation = sigmoid\n",
    "    model.compile(loss='categorical_crossentropy', optimizer='adam',\n",
    "                      metrics=['accuracy'])\n",
    "\n",
    "    return model"
   ],
   "metadata": {
    "collapsed": false,
    "pycharm": {
     "name": "#%%\n"
    }
   }
  },
  {
   "cell_type": "code",
   "execution_count": 36,
   "outputs": [
    {
     "name": "stdout",
     "output_type": "stream",
     "text": [
      "Model: \"sequential_7\"\n",
      "_________________________________________________________________\n",
      " Layer (type)                Output Shape              Param #   \n",
      "=================================================================\n",
      " conv2d_15 (Conv2D)          (None, 50, 50, 64)        1792      \n",
      "                                                                 \n",
      " max_pooling2d_15 (MaxPoolin  (None, 25, 25, 64)       0         \n",
      " g2D)                                                            \n",
      "                                                                 \n",
      " conv2d_16 (Conv2D)          (None, 25, 25, 128)       73856     \n",
      "                                                                 \n",
      " max_pooling2d_16 (MaxPoolin  (None, 12, 12, 128)      0         \n",
      " g2D)                                                            \n",
      "                                                                 \n",
      " conv2d_17 (Conv2D)          (None, 12, 12, 256)       295168    \n",
      "                                                                 \n",
      " max_pooling2d_17 (MaxPoolin  (None, 3, 3, 256)        0         \n",
      " g2D)                                                            \n",
      "                                                                 \n",
      " dropout_5 (Dropout)         (None, 3, 3, 256)         0         \n",
      "                                                                 \n",
      " flatten_5 (Flatten)         (None, 2304)              0         \n",
      "                                                                 \n",
      " dense_10 (Dense)            (None, 200)               461000    \n",
      "                                                                 \n",
      " dense_11 (Dense)            (None, 3)                 603       \n",
      "                                                                 \n",
      "=================================================================\n",
      "Total params: 832,419\n",
      "Trainable params: 832,419\n",
      "Non-trainable params: 0\n",
      "_________________________________________________________________\n"
     ]
    }
   ],
   "source": [
    "model = create_model()"
   ],
   "metadata": {
    "collapsed": false,
    "pycharm": {
     "name": "#%%\n"
    }
   }
  },
  {
   "cell_type": "code",
   "execution_count": 36,
   "outputs": [],
   "source": [],
   "metadata": {
    "collapsed": false,
    "pycharm": {
     "name": "#%%\n"
    }
   }
  },
  {
   "cell_type": "code",
   "execution_count": 37,
   "outputs": [
    {
     "name": "stdout",
     "output_type": "stream",
     "text": [
      "Epoch 1/30\n",
      "16/16 [==============================] - 2s 94ms/step - loss: 11.9443 - accuracy: 0.6533\n",
      "Epoch 2/30\n",
      "16/16 [==============================] - 1s 92ms/step - loss: 0.8307 - accuracy: 0.7174\n",
      "Epoch 3/30\n",
      "16/16 [==============================] - 1s 93ms/step - loss: 0.6178 - accuracy: 0.7776\n",
      "Epoch 4/30\n",
      "16/16 [==============================] - 1s 91ms/step - loss: 0.5700 - accuracy: 0.7836\n",
      "Epoch 5/30\n",
      "16/16 [==============================] - 1s 90ms/step - loss: 0.5276 - accuracy: 0.7996\n",
      "Epoch 6/30\n",
      "16/16 [==============================] - 1s 87ms/step - loss: 0.4541 - accuracy: 0.8176\n",
      "Epoch 7/30\n",
      "16/16 [==============================] - 1s 87ms/step - loss: 0.4044 - accuracy: 0.8437\n",
      "Epoch 8/30\n",
      "16/16 [==============================] - 1s 87ms/step - loss: 0.3657 - accuracy: 0.8597\n",
      "Epoch 9/30\n",
      "16/16 [==============================] - 1s 86ms/step - loss: 0.3157 - accuracy: 0.8878\n",
      "Epoch 10/30\n",
      "16/16 [==============================] - 1s 85ms/step - loss: 0.2702 - accuracy: 0.8978\n",
      "Epoch 11/30\n",
      "16/16 [==============================] - 1s 88ms/step - loss: 0.2086 - accuracy: 0.9299\n",
      "Epoch 12/30\n",
      "16/16 [==============================] - 1s 88ms/step - loss: 0.2133 - accuracy: 0.9279\n",
      "Epoch 13/30\n",
      "16/16 [==============================] - 1s 88ms/step - loss: 0.2362 - accuracy: 0.9118\n",
      "Epoch 14/30\n",
      "16/16 [==============================] - 1s 88ms/step - loss: 0.1777 - accuracy: 0.9399\n",
      "Epoch 15/30\n",
      "16/16 [==============================] - 1s 88ms/step - loss: 0.1297 - accuracy: 0.9499\n",
      "Epoch 16/30\n",
      "16/16 [==============================] - 1s 88ms/step - loss: 0.1129 - accuracy: 0.9519\n",
      "Epoch 17/30\n",
      "16/16 [==============================] - 1s 88ms/step - loss: 0.0754 - accuracy: 0.9760\n",
      "Epoch 18/30\n",
      "16/16 [==============================] - 1s 88ms/step - loss: 0.1072 - accuracy: 0.9760\n",
      "Epoch 19/30\n",
      "16/16 [==============================] - 1s 87ms/step - loss: 0.0643 - accuracy: 0.9920\n",
      "Epoch 20/30\n",
      "16/16 [==============================] - 1s 91ms/step - loss: 0.0334 - accuracy: 0.9960\n",
      "Epoch 21/30\n",
      "16/16 [==============================] - 1s 90ms/step - loss: 0.0258 - accuracy: 0.9940\n",
      "Epoch 22/30\n",
      "16/16 [==============================] - 1s 90ms/step - loss: 0.0192 - accuracy: 0.9960\n",
      "Epoch 23/30\n",
      "16/16 [==============================] - 1s 86ms/step - loss: 0.0171 - accuracy: 1.0000\n",
      "Epoch 24/30\n",
      "16/16 [==============================] - 1s 86ms/step - loss: 0.0124 - accuracy: 1.0000\n",
      "Epoch 25/30\n",
      "16/16 [==============================] - 1s 85ms/step - loss: 0.0197 - accuracy: 0.9960\n",
      "Epoch 26/30\n",
      "16/16 [==============================] - 1s 86ms/step - loss: 0.0111 - accuracy: 1.0000\n",
      "Epoch 27/30\n",
      "16/16 [==============================] - 1s 85ms/step - loss: 0.0149 - accuracy: 0.9940\n",
      "Epoch 28/30\n",
      "16/16 [==============================] - 1s 86ms/step - loss: 0.0083 - accuracy: 1.0000\n",
      "Epoch 29/30\n",
      "16/16 [==============================] - 1s 88ms/step - loss: 0.0118 - accuracy: 0.9980\n",
      "Epoch 30/30\n",
      "16/16 [==============================] - 1s 90ms/step - loss: 0.0132 - accuracy: 0.9960\n"
     ]
    },
    {
     "data": {
      "text/plain": "<keras.callbacks.History at 0x2024b1b2710>"
     },
     "execution_count": 37,
     "metadata": {},
     "output_type": "execute_result"
    }
   ],
   "source": [
    "# training\n",
    "# batch potencias de 2, a mayor bacths mayor estabilidad del grandiente\n",
    "model.fit(train_animals_reduced,train_labels_reduced,batch_size=32 ,epochs=30,verbose=1)"
   ],
   "metadata": {
    "collapsed": false,
    "pycharm": {
     "name": "#%%\n"
    }
   }
  },
  {
   "cell_type": "code",
   "execution_count": 38,
   "outputs": [
    {
     "name": "stdout",
     "output_type": "stream",
     "text": [
      "6/6 [==============================] - 0s 23ms/step - loss: 1.4771 - accuracy: 0.8177\n",
      "\n",
      " Test accuracy: 0.8176795840263367\n"
     ]
    }
   ],
   "source": [
    "# test the model\n",
    "score = model.evaluate(test_animals_reduced, test_labels_reduced, verbose=1)\n",
    "print('\\n', 'Test accuracy:', score[1])"
   ],
   "metadata": {
    "collapsed": false,
    "pycharm": {
     "name": "#%%\n"
    }
   }
  },
  {
   "cell_type": "code",
   "execution_count": 39,
   "outputs": [],
   "source": [
    "# save the model\n",
    "\n",
    "'''# serialize model to JSON\n",
    "model_json = model.to_json()\n",
    "with open(\"model.json\", \"w\") as json_file:\n",
    "    json_file.write(model_json)\n",
    "# serialize weights to HDF5\n",
    "model.save_weights(\"model.h5\")\n",
    "print(\"Saved model to disk\")'''\n",
    "\n",
    "model.save('model.h5') # Saves the entire model to a single artifact\n"
   ],
   "metadata": {
    "collapsed": false,
    "pycharm": {
     "name": "#%%\n"
    }
   }
  },
  {
   "cell_type": "code",
   "execution_count": 14,
   "outputs": [
    {
     "name": "stdout",
     "output_type": "stream",
     "text": [
      "Model: \"sequential_5\"\n",
      "_________________________________________________________________\n",
      " Layer (type)                Output Shape              Param #   \n",
      "=================================================================\n",
      " conv2d_9 (Conv2D)           (None, 50, 50, 64)        1792      \n",
      "                                                                 \n",
      " max_pooling2d_9 (MaxPooling  (None, 25, 25, 64)       0         \n",
      " 2D)                                                             \n",
      "                                                                 \n",
      " conv2d_10 (Conv2D)          (None, 25, 25, 128)       73856     \n",
      "                                                                 \n",
      " max_pooling2d_10 (MaxPoolin  (None, 12, 12, 128)      0         \n",
      " g2D)                                                            \n",
      "                                                                 \n",
      " conv2d_11 (Conv2D)          (None, 12, 12, 256)       295168    \n",
      "                                                                 \n",
      " max_pooling2d_11 (MaxPoolin  (None, 3, 3, 256)        0         \n",
      " g2D)                                                            \n",
      "                                                                 \n",
      " dropout_3 (Dropout)         (None, 3, 3, 256)         0         \n",
      "                                                                 \n",
      " flatten_3 (Flatten)         (None, 2304)              0         \n",
      "                                                                 \n",
      " dense_6 (Dense)             (None, 200)               461000    \n",
      "                                                                 \n",
      " dense_7 (Dense)             (None, 6)                 1206      \n",
      "                                                                 \n",
      "=================================================================\n",
      "Total params: 833,022\n",
      "Trainable params: 833,022\n",
      "Non-trainable params: 0\n",
      "_________________________________________________________________\n",
      "16/16 - 1s - loss: 2.4881 - accuracy: 0.5262 - 1s/epoch - 76ms/step\n",
      "Restored model, accuracy: 52.62%\n"
     ]
    }
   ],
   "source": [
    "model = create_model()\n",
    "model.load_weights('model.h5')\n",
    "\n",
    "loss, acc = model.evaluate(test_animals_reduced, test_labels_reduced, verbose=2)\n",
    "print(\"Restored model, accuracy: {:5.2f}%\".format(100 * acc))"
   ],
   "metadata": {
    "collapsed": false,
    "pycharm": {
     "name": "#%%\n"
    }
   }
  },
  {
   "cell_type": "code",
   "execution_count": null,
   "outputs": [],
   "source": [],
   "metadata": {
    "collapsed": false,
    "pycharm": {
     "name": "#%%\n"
    }
   }
  },
  {
   "cell_type": "code",
   "execution_count": 40,
   "outputs": [],
   "source": [
    "def convert_to_array(img):\n",
    "    im = cv2.imread(img)\n",
    "    img = Image.fromarray(im, 'RGB')\n",
    "    image = img.resize((50, 50))\n",
    "    return np.array(image)\n",
    "\n",
    "def get_animal_name(label):\n",
    "    if label==0:\n",
    "        return \"Bear\"\n",
    "    if label==1:\n",
    "        return \"Chicken\"\n",
    "    if label==2:\n",
    "        return \"Turtle\"\n",
    "\n",
    "def predict_animal(file):\n",
    "    print(\"Predicting .................................\")\n",
    "    ar=convert_to_array(file)\n",
    "    ar=ar/255\n",
    "    label=1\n",
    "    a=[]\n",
    "    a.append(ar)\n",
    "    a=np.array(a)\n",
    "    score=model.predict(a,verbose=1)\n",
    "    print(score)\n",
    "    label_index=np.argmax(score)\n",
    "    print(label_index)\n",
    "    acc=np.max(score)\n",
    "    animal=get_animal_name(label_index)\n",
    "    print(animal)\n",
    "    print(\"The predicted Animal is a \"+animal+\" with accuracy =    \"+str(acc))"
   ],
   "metadata": {
    "collapsed": false,
    "pycharm": {
     "name": "#%%\n"
    }
   }
  },
  {
   "cell_type": "code",
   "execution_count": 43,
   "outputs": [
    {
     "name": "stdout",
     "output_type": "stream",
     "text": [
      "Predicting .................................\n",
      "1/1 [==============================] - 0s 19ms/step\n",
      "[[0.32228824 0.34253067 0.3351811 ]]\n",
      "1\n",
      "Chicken\n",
      "The predicted Animal is a Chicken with accuracy =    0.34253067\n"
     ]
    }
   ],
   "source": [
    "# predict image\n",
    "file = \"../datasets/animals/animals-detection-images-dataset/prediction/duck.jpg\"\n",
    "predict_animal(file)"
   ],
   "metadata": {
    "collapsed": false,
    "pycharm": {
     "name": "#%%\n"
    }
   }
  },
  {
   "cell_type": "code",
   "execution_count": 42,
   "outputs": [],
   "source": [],
   "metadata": {
    "collapsed": false,
    "pycharm": {
     "name": "#%%\n"
    }
   }
  },
  {
   "cell_type": "code",
   "execution_count": null,
   "outputs": [],
   "source": [
    "# tensor board -> api para ver en tiempo real la evolicion del modelo (de tensorflow)"
   ],
   "metadata": {
    "collapsed": false,
    "pycharm": {
     "name": "#%%\n"
    }
   }
  }
 ],
 "metadata": {
  "kernelspec": {
   "display_name": "Python 3",
   "language": "python",
   "name": "python3"
  },
  "language_info": {
   "codemirror_mode": {
    "name": "ipython",
    "version": 2
   },
   "file_extension": ".py",
   "mimetype": "text/x-python",
   "name": "python",
   "nbconvert_exporter": "python",
   "pygments_lexer": "ipython2",
   "version": "2.7.6"
  }
 },
 "nbformat": 4,
 "nbformat_minor": 0
}