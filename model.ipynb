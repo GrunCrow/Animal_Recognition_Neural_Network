{
 "cells": [
  {
   "cell_type": "markdown",
   "source": [
    "## Making Keras Model\n",
    "\n",
    "think about hyper parameters like Filter size, number of filters, which type of padding to use, which activatioon functions to use etc."
   ],
   "metadata": {
    "collapsed": false,
    "pycharm": {
     "name": "#%% md\n"
    }
   }
  },
  {
   "cell_type": "markdown",
   "source": [
    "## Libraries"
   ],
   "metadata": {
    "collapsed": false,
    "pycharm": {
     "name": "#%% md\n"
    }
   }
  },
  {
   "cell_type": "code",
   "execution_count": 1,
   "outputs": [],
   "source": [
    "#                                                   LIBRARIES\n",
    "\n",
    "# Image preprocesssing- processing\n",
    "import cv2\n",
    "from PIL import Image\n",
    "import numpy as np\n",
    "\n",
    "# Neural Network libraries\n",
    "import tensorflow as tf\n",
    "from tensorflow import keras\n",
    "from keras.models import Sequential\n",
    "from keras.layers import Conv2D,MaxPooling2D,Dense,Flatten,Dropout"
   ],
   "metadata": {
    "collapsed": false,
    "pycharm": {
     "name": "#%%\n"
    }
   }
  },
  {
   "cell_type": "code",
   "execution_count": 2,
   "outputs": [],
   "source": [
    "num_classes = 6\n",
    "train_animals_reduced = np.load(\"train_animals_reduced.npy\")\n",
    "train_labels_reduced = np.load(\"train_labels_reduced.npy\")\n",
    "test_animals_reduced = np.load(\"test_animals_reduced.npy\")\n",
    "test_labels_reduced = np.load(\"test_labels_reduced.npy\")"
   ],
   "metadata": {
    "collapsed": false,
    "pycharm": {
     "name": "#%%\n"
    }
   }
  },
  {
   "cell_type": "code",
   "execution_count": 3,
   "outputs": [],
   "source": [
    "# One hot encoding for labels\n",
    "train_labels_reduced=keras.utils.to_categorical(train_labels_reduced,num_classes)\n",
    "test_labels_reduced=keras.utils.to_categorical(test_labels_reduced,num_classes)"
   ],
   "metadata": {
    "collapsed": false,
    "pycharm": {
     "name": "#%%\n"
    }
   }
  },
  {
   "cell_type": "markdown",
   "source": [],
   "metadata": {
    "collapsed": false,
    "pycharm": {
     "name": "#%% md\n"
    }
   }
  },
  {
   "cell_type": "code",
   "execution_count": 4,
   "outputs": [
    {
     "name": "stdout",
     "output_type": "stream",
     "text": [
      "Model: \"sequential\"\n",
      "_________________________________________________________________\n",
      " Layer (type)                Output Shape              Param #   \n",
      "=================================================================\n",
      " conv2d (Conv2D)             (None, 50, 50, 64)        1792      \n",
      "                                                                 \n",
      " max_pooling2d (MaxPooling2D  (None, 25, 25, 64)       0         \n",
      " )                                                               \n",
      "                                                                 \n",
      " conv2d_1 (Conv2D)           (None, 25, 25, 128)       73856     \n",
      "                                                                 \n",
      " max_pooling2d_1 (MaxPooling  (None, 12, 12, 128)      0         \n",
      " 2D)                                                             \n",
      "                                                                 \n",
      " conv2d_2 (Conv2D)           (None, 12, 12, 256)       295168    \n",
      "                                                                 \n",
      " max_pooling2d_2 (MaxPooling  (None, 3, 3, 256)        0         \n",
      " 2D)                                                             \n",
      "                                                                 \n",
      " dropout (Dropout)           (None, 3, 3, 256)         0         \n",
      "                                                                 \n",
      " flatten (Flatten)           (None, 2304)              0         \n",
      "                                                                 \n",
      " dense (Dense)               (None, 200)               461000    \n",
      "                                                                 \n",
      " dense_1 (Dense)             (None, 6)                 1206      \n",
      "                                                                 \n",
      "=================================================================\n",
      "Total params: 833,022\n",
      "Trainable params: 833,022\n",
      "Non-trainable params: 0\n",
      "_________________________________________________________________\n"
     ]
    }
   ],
   "source": [
    "# import sequential model and all the required layers\n",
    "\n",
    "#make model\n",
    "model=Sequential()\n",
    "# Pairs of Conv2D layer and MaxPool2D Layer with increasing filter sizes ( 16,32 ,64). This helps to make image grow more in depthwise and become more flatten.\n",
    "# Maxpool: great as they optimize the training time\n",
    "\n",
    "'''# Pair 1 (16)\n",
    "model.add(Conv2D(filters=16,kernel_size=2,padding=\"same\",activation=\"relu\",input_shape=(50,50,3)))\n",
    "model.add(MaxPooling2D(pool_size=2))\n",
    "\n",
    "# Pair 2 (32)\n",
    "model.add(Conv2D(filters=32,kernel_size=2,padding=\"same\",activation=\"relu\"))\n",
    "model.add(MaxPooling2D(pool_size=2))\n",
    "\n",
    "# Pair 3 (64)\n",
    "model.add(Conv2D(filters=64,kernel_size=2,padding=\"same\",activation=\"relu\"))\n",
    "model.add(MaxPooling2D(pool_size=2))\n",
    "\n",
    "# Dropout layers to reduce overfitting\n",
    "model.add(Dropout(0.2))\n",
    "model.add(Flatten())\n",
    "\n",
    "\n",
    "model.add(Dense(500,activation=\"relu\"))\n",
    "model.add(Dropout(0.2))'''\n",
    "\n",
    "# capas de calculo -> ir de menor a mayor, suelen ser potencias / multiplos de 2 (las layers)\n",
    "\n",
    "model.add(Conv2D(filters=64,kernel_size=3,padding=\"same\",activation=\"relu\",input_shape=(50,50,3))) # parte imp = relu\n",
    "model.add(MaxPooling2D(pool_size=2))\n",
    "\n",
    "model.add(Conv2D(filters=128,kernel_size=3,padding=\"same\",activation=\"relu\"))\n",
    "model.add(MaxPooling2D(pool_size=2))\n",
    "\n",
    "model.add(Conv2D(filters=256,kernel_size=3,padding=\"same\",activation=\"relu\"))\n",
    "model.add(MaxPooling2D(pool_size=4))\n",
    "\n",
    "model.add(Dropout(0.2))\n",
    "model.add(Flatten()) # without flatten output shape = (50, 50, 6) -> flatten = (None, 6) which we need to get layer output\n",
    "\n",
    "\n",
    "# capas de clasificacion\n",
    "\n",
    "model.add(Dense(200,activation=\"relu\"))\n",
    "\n",
    "# Final dense layer with num_classes nodes = categories of animals we have in the set\n",
    "# Softmax activation is used to give scores to these categories which lie between 0 and 1.\n",
    "model.add(Dense(num_classes,activation=\"softmax\"))\n",
    "model.summary()"
   ],
   "metadata": {
    "collapsed": false,
    "pycharm": {
     "name": "#%%\n"
    }
   }
  },
  {
   "cell_type": "code",
   "execution_count": 5,
   "outputs": [],
   "source": [
    "# compile the model\n",
    "# We use loss function as categorical_crossentropy and Adam optimizer\n",
    "\n",
    "# if binary data -> loss = Binary Cross Entropy and activation = sigmoid\n",
    "model.compile(loss='categorical_crossentropy', optimizer='adam',\n",
    "                  metrics=['accuracy'])"
   ],
   "metadata": {
    "collapsed": false,
    "pycharm": {
     "name": "#%%\n"
    }
   }
  },
  {
   "cell_type": "code",
   "execution_count": 6,
   "outputs": [
    {
     "name": "stdout",
     "output_type": "stream",
     "text": [
      "Epoch 1/30\n",
      "45/45 [==============================] - 8s 148ms/step - loss: 9.1483 - accuracy: 0.2836\n",
      "Epoch 2/30\n",
      "45/45 [==============================] - 6s 139ms/step - loss: 1.5197 - accuracy: 0.3813\n",
      "Epoch 3/30\n",
      "45/45 [==============================] - 6s 139ms/step - loss: 1.4272 - accuracy: 0.4473\n",
      "Epoch 4/30\n",
      "45/45 [==============================] - 6s 139ms/step - loss: 1.3983 - accuracy: 0.4631\n",
      "Epoch 5/30\n",
      "45/45 [==============================] - 6s 140ms/step - loss: 1.2704 - accuracy: 0.5224\n",
      "Epoch 6/30\n",
      "45/45 [==============================] - 7s 147ms/step - loss: 1.2149 - accuracy: 0.5351\n",
      "Epoch 7/30\n",
      "45/45 [==============================] - 6s 143ms/step - loss: 1.1537 - accuracy: 0.5694\n",
      "Epoch 8/30\n",
      "45/45 [==============================] - 7s 149ms/step - loss: 1.0360 - accuracy: 0.6165\n",
      "Epoch 9/30\n",
      "45/45 [==============================] - 6s 144ms/step - loss: 0.9948 - accuracy: 0.6377\n",
      "Epoch 10/30\n",
      "45/45 [==============================] - 6s 144ms/step - loss: 0.9140 - accuracy: 0.6658\n",
      "Epoch 11/30\n",
      "45/45 [==============================] - 7s 146ms/step - loss: 0.7875 - accuracy: 0.7114\n",
      "Epoch 12/30\n",
      "45/45 [==============================] - 7s 145ms/step - loss: 0.7130 - accuracy: 0.7445\n",
      "Epoch 13/30\n",
      "45/45 [==============================] - 6s 140ms/step - loss: 0.6587 - accuracy: 0.7603\n",
      "Epoch 14/30\n",
      "45/45 [==============================] - 6s 136ms/step - loss: 0.5803 - accuracy: 0.7919\n",
      "Epoch 15/30\n",
      "45/45 [==============================] - 6s 132ms/step - loss: 0.5180 - accuracy: 0.8096\n",
      "Epoch 16/30\n",
      "45/45 [==============================] - 6s 134ms/step - loss: 0.4328 - accuracy: 0.8480\n",
      "Epoch 17/30\n",
      "45/45 [==============================] - 6s 133ms/step - loss: 0.3895 - accuracy: 0.8602\n",
      "Epoch 18/30\n",
      "45/45 [==============================] - 6s 140ms/step - loss: 0.4207 - accuracy: 0.8471\n",
      "Epoch 19/30\n",
      "45/45 [==============================] - 6s 140ms/step - loss: 0.3637 - accuracy: 0.8734\n",
      "Epoch 20/30\n",
      "45/45 [==============================] - 7s 148ms/step - loss: 0.3468 - accuracy: 0.8838\n",
      "Epoch 21/30\n",
      "45/45 [==============================] - 7s 155ms/step - loss: 0.2946 - accuracy: 0.9032\n",
      "Epoch 22/30\n",
      "45/45 [==============================] - 7s 147ms/step - loss: 0.3231 - accuracy: 0.8851\n",
      "Epoch 23/30\n",
      "45/45 [==============================] - 7s 144ms/step - loss: 0.2875 - accuracy: 0.9059\n",
      "Epoch 24/30\n",
      "45/45 [==============================] - 7s 158ms/step - loss: 0.2270 - accuracy: 0.9245\n",
      "Epoch 25/30\n",
      "45/45 [==============================] - 7s 148ms/step - loss: 0.2328 - accuracy: 0.9240\n",
      "Epoch 26/30\n",
      "45/45 [==============================] - 6s 140ms/step - loss: 0.2124 - accuracy: 0.9249\n",
      "Epoch 27/30\n",
      "45/45 [==============================] - 6s 135ms/step - loss: 0.1647 - accuracy: 0.9412\n",
      "Epoch 28/30\n",
      "45/45 [==============================] - 6s 135ms/step - loss: 0.3253 - accuracy: 0.8901\n",
      "Epoch 29/30\n",
      "45/45 [==============================] - 7s 146ms/step - loss: 0.1886 - accuracy: 0.9362\n",
      "Epoch 30/30\n",
      "45/45 [==============================] - 7s 151ms/step - loss: 0.1999 - accuracy: 0.9358\n"
     ]
    },
    {
     "data": {
      "text/plain": "<keras.callbacks.History at 0x20258408ee0>"
     },
     "execution_count": 6,
     "metadata": {},
     "output_type": "execute_result"
    }
   ],
   "source": [
    "# training\n",
    "# batch potencias de 2, a mayor bacths mayor estabilidad del grandiente\n",
    "model.fit(train_animals_reduced,train_labels_reduced,batch_size=50 ,epochs=30,verbose=1)"
   ],
   "metadata": {
    "collapsed": false,
    "pycharm": {
     "name": "#%%\n"
    }
   }
  },
  {
   "cell_type": "code",
   "execution_count": 7,
   "outputs": [
    {
     "name": "stdout",
     "output_type": "stream",
     "text": [
      "16/16 [==============================] - 1s 26ms/step - loss: 2.4881 - accuracy: 0.5262\n",
      "\n",
      " Test accuracy: 0.5262096524238586\n"
     ]
    }
   ],
   "source": [
    "# test the model\n",
    "score = model.evaluate(test_animals_reduced, test_labels_reduced, verbose=1)\n",
    "print('\\n', 'Test accuracy:', score[1])"
   ],
   "metadata": {
    "collapsed": false,
    "pycharm": {
     "name": "#%%\n"
    }
   }
  },
  {
   "cell_type": "code",
   "execution_count": 8,
   "outputs": [
    {
     "name": "stdout",
     "output_type": "stream",
     "text": [
      "Saved model to disk\n"
     ]
    }
   ],
   "source": [
    "# save the model\n",
    "\n",
    "'''# serialize model to JSON\n",
    "model_json = model.to_json()\n",
    "with open(\"model.json\", \"w\") as json_file:\n",
    "    json_file.write(model_json)\n",
    "# serialize weights to HDF5\n",
    "model.save_weights(\"model.h5\")\n",
    "print(\"Saved model to disk\")'''\n",
    "\n",
    "model.save('model.h5') # Saves the entire model to a single artifact\n"
   ],
   "metadata": {
    "collapsed": false,
    "pycharm": {
     "name": "#%%\n"
    }
   }
  },
  {
   "cell_type": "code",
   "execution_count": 9,
   "outputs": [],
   "source": [
    "def convert_to_array(img):\n",
    "    im = cv2.imread(img)\n",
    "    img = Image.fromarray(im, 'RGB')\n",
    "    image = img.resize((50, 50))\n",
    "    return np.array(image)\n",
    "\n",
    "def get_animal_name(label):\n",
    "    if label==0:\n",
    "        return \"Bear\"\n",
    "    if label==1:\n",
    "        return \"Chicken\"\n",
    "    if label==2:\n",
    "        return \"Duck\"\n",
    "    if label==3:\n",
    "        return \"Frog\"\n",
    "    if label==4:\n",
    "        return \"Sea Turtle\"\n",
    "    if label==5:\n",
    "        return \"Squirrel\"\n",
    "\n",
    "def predict_animal(file):\n",
    "    print(\"Predicting .................................\")\n",
    "    ar=convert_to_array(file)\n",
    "    ar=ar/255\n",
    "    label=1\n",
    "    a=[]\n",
    "    a.append(ar)\n",
    "    a=np.array(a)\n",
    "    score=model.predict(a,verbose=1)\n",
    "    print(score)\n",
    "    label_index=np.argmax(score)\n",
    "    print(label_index)\n",
    "    acc=np.max(score)\n",
    "    animal=get_animal_name(label_index)\n",
    "    print(animal)\n",
    "    print(\"The predicted Animal is a \"+animal+\" with accuracy =    \"+str(acc))"
   ],
   "metadata": {
    "collapsed": false,
    "pycharm": {
     "name": "#%%\n"
    }
   }
  },
  {
   "cell_type": "code",
   "execution_count": 13,
   "outputs": [
    {
     "name": "stdout",
     "output_type": "stream",
     "text": [
      "Predicting .................................\n",
      "1/1 [==============================] - 0s 22ms/step\n",
      "[[0.08369382 0.0450862  0.09178975 0.37404132 0.28347418 0.12191479]]\n",
      "3\n",
      "Frog\n",
      "The predicted Animal is a Frog with accuracy =    0.37404132\n"
     ]
    }
   ],
   "source": [
    "# predict image\n",
    "file = \"animals-detection-images-dataset/prediction/turtle.jpg\"\n",
    "predict_animal(file)"
   ],
   "metadata": {
    "collapsed": false,
    "pycharm": {
     "name": "#%%\n"
    }
   }
  },
  {
   "cell_type": "code",
   "execution_count": 42,
   "outputs": [],
   "source": [],
   "metadata": {
    "collapsed": false,
    "pycharm": {
     "name": "#%%\n"
    }
   }
  },
  {
   "cell_type": "code",
   "execution_count": null,
   "outputs": [],
   "source": [
    "# tensor board -> api para ver en tiempo real la evolicion del modelo (de tensorflow)"
   ],
   "metadata": {
    "collapsed": false,
    "pycharm": {
     "name": "#%%\n"
    }
   }
  }
 ],
 "metadata": {
  "kernelspec": {
   "display_name": "Python 3",
   "language": "python",
   "name": "python3"
  },
  "language_info": {
   "codemirror_mode": {
    "name": "ipython",
    "version": 2
   },
   "file_extension": ".py",
   "mimetype": "text/x-python",
   "name": "python",
   "nbconvert_exporter": "python",
   "pygments_lexer": "ipython2",
   "version": "2.7.6"
  }
 },
 "nbformat": 4,
 "nbformat_minor": 0
}