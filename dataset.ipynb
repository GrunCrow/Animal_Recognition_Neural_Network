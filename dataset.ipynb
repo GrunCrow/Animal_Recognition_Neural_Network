{
 "cells": [
  {
   "cell_type": "markdown",
   "source": [
    "# Animal Recognition with Neural Networks"
   ],
   "metadata": {
    "collapsed": false,
    "pycharm": {
     "name": "#%% md\n"
    }
   }
  },
  {
   "cell_type": "markdown",
   "source": [
    "## Libraries import\n"
   ],
   "metadata": {
    "collapsed": false,
    "pycharm": {
     "name": "#%% md\n"
    }
   }
  },
  {
   "cell_type": "code",
   "execution_count": null,
   "metadata": {
    "collapsed": true,
    "pycharm": {
     "name": "#%%\n"
    }
   },
   "outputs": [],
   "source": [
    "#                                                   LIBRARIES\n",
    "\n",
    "import os\n",
    "\n",
    "# Dataset\n",
    "from kaggle.api.kaggle_api_extended import KaggleApi\n",
    "from datasets import load_dataset"
   ]
  },
  {
   "cell_type": "markdown",
   "source": [
    "## Get Dataset\n",
    "\n",
    "We get the data from a Dataset of Kaggle with different animals images:\n",
    "https://www.kaggle.com/datasets/antoreepjana/animals-detection-images-dataset\n",
    "\n",
    "- Dog\n",
    "- Cat\n",
    "- Zebra\n",
    "- Lion\n",
    "- Leopard\n",
    "- Cheetah\n",
    "- Tiger\n",
    "- Bear\n",
    "- Brown Bear\n",
    "- Butterfly\n",
    "- Canary\n",
    "- Crocodile\n",
    "- Polar Bear\n",
    "- Bull\n",
    "- Camel\n",
    "- Crab\n",
    "- Chicken\n",
    "- Centipede\n",
    "- Cattle\n",
    "- Caterpillar\n",
    "- Duck\n",
    "....\n",
    "- +70 classes (we will use reduced function)"
   ],
   "metadata": {
    "collapsed": false,
    "pycharm": {
     "name": "#%% md\n"
    }
   }
  },
  {
   "cell_type": "code",
   "execution_count": null,
   "outputs": [],
   "source": [
    "#                                               PREPARE DATASET\n",
    "#                                            get images from kaggle\n",
    "# kaggle datasets download -d antoreepjana/animals-detection-images-dataset\n",
    "\n",
    "def download_dataset():\n",
    "    # Prepare Kaggle API\n",
    "    os.environ['KAGGLE_USERNAME'] = \"<kaggle-username>\" #\"gruncrow\"\n",
    "    os.environ['KAGGLE_KEY'] = \"<kaggle-api-key>\" #\"ee9f8b0a071cf306b7903a984f9fe492\"\n",
    "\n",
    "    api = KaggleApi()\n",
    "    api.authenticate()\n",
    "\n",
    "    # List files\n",
    "    api.dataset_list_files('antoreepjana/animals-detection-images-dataset').files\n",
    "\n",
    "    # download dataset\n",
    "    api.dataset_download_files('antoreepjana/animals-detection-images-dataset', path=\".\")\n",
    "\n",
    "# load dataset\n",
    "def load_dataset():\n",
    "    dataset = load_dataset(\"arxiv_dataset\", data_dir='./raw_data/', split='train', ignore_verifications=True)"
   ],
   "metadata": {
    "collapsed": false,
    "pycharm": {
     "name": "#%%\n"
    }
   }
  },
  {
   "cell_type": "code",
   "execution_count": null,
   "outputs": [],
   "source": [
    "# Download dataset if it is not downloaded, it will take +- 40 min (10 GB)\n",
    "# download_dataset()"
   ],
   "metadata": {
    "collapsed": false,
    "pycharm": {
     "name": "#%%\n"
    }
   }
  },
  {
   "cell_type": "markdown",
   "source": [],
   "metadata": {
    "collapsed": false,
    "pycharm": {
     "name": "#%% md\n"
    }
   }
  }
 ],
 "metadata": {
  "kernelspec": {
   "display_name": "Python 3",
   "language": "python",
   "name": "python3"
  },
  "language_info": {
   "codemirror_mode": {
    "name": "ipython",
    "version": 2
   },
   "file_extension": ".py",
   "mimetype": "text/x-python",
   "name": "python",
   "nbconvert_exporter": "python",
   "pygments_lexer": "ipython2",
   "version": "2.7.6"
  }
 },
 "nbformat": 4,
 "nbformat_minor": 0
}