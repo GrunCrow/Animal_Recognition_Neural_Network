{
 "cells": [
  {
   "cell_type": "code",
   "execution_count": 2,
   "metadata": {
    "collapsed": true,
    "pycharm": {
     "name": "#%%\n"
    }
   },
   "outputs": [],
   "source": [
    "#                                                   LIBRARIES\n",
    "\n",
    "import os\n",
    "\n",
    "import csv\n",
    "\n",
    "# Dataset\n",
    "from kaggle.api.kaggle_api_extended import KaggleApi\n",
    "from datasets import load_dataset\n",
    "\n",
    "# Image preprocesssing- processing\n",
    "import cv2\n",
    "from PIL import Image\n",
    "import numpy as np\n",
    "\n",
    "# Neural Network libraries\n",
    "import tensorflow as tf\n",
    "from tensorflow import keras\n",
    "from keras.models import Sequential\n",
    "from keras.layers import Conv2D,MaxPooling2D,Dense,Flatten,Dropout\n",
    "\n",
    "import re"
   ]
  },
  {
   "cell_type": "code",
   "execution_count": 2,
   "outputs": [],
   "source": [],
   "metadata": {
    "collapsed": false,
    "pycharm": {
     "name": "#%%\n"
    }
   }
  },
  {
   "cell_type": "code",
   "execution_count": 3,
   "outputs": [],
   "source": [
    "IMG_EXTENSIONS = ['jpg','JPG','png','PNG']"
   ],
   "metadata": {
    "collapsed": false,
    "pycharm": {
     "name": "#%%\n"
    }
   }
  },
  {
   "cell_type": "code",
   "execution_count": 4,
   "outputs": [],
   "source": [
    "#                                                 FUNCIONES AUXILIARES\n",
    "\n",
    "\n",
    "#                                       getFilesWithAbsolutePath(path, ext = '')\n",
    "\n",
    "# Dado un directorio devuelve una lista con el path absoluto de todos los ficheros con extensión ext\n",
    "\n",
    "def getFilesWithAbsolutePath(path, ext = ''):\n",
    "    # to store files in a list\n",
    "    list = []\n",
    "\n",
    "    if bool(ext):\n",
    "        ext = '.' + ext\n",
    "\n",
    "    # dirs=directories\n",
    "    for (root, folder, files) in os.walk(path):\n",
    "        for file in files:\n",
    "            filePath = os.path.abspath(os.path.join(root, file))\n",
    "            if ext in filePath:\n",
    "                list.append(filePath)\n",
    "                #print(filePath)\n",
    "\n",
    "    return list\n",
    "\n",
    "#lista = getFilesWithAbsolutePath(mypath, ext='pdf')\n",
    "#print(len(lista), lista[:3])\n",
    "\n",
    "\n",
    "#                            getFilesWithAbsolutePathListaExtensiones(path, extList = [''])\n",
    "\n",
    "# Dado un directorio devuelve una lista con el path absoluto de\n",
    "# todos los ficheros con extensión en extList\n",
    "\n",
    "def getFilesWithAbsolutePathListaExtensiones(path):\n",
    "    # to store files in a list\n",
    "    l_list = []\n",
    "    extList = IMG_EXTENSIONS\n",
    "\n",
    "    if len(extList) == 0:\n",
    "        extList = ['']\n",
    "\n",
    "    for ext in extList:\n",
    "        l_list += getFilesWithAbsolutePath(path, ext)\n",
    "\n",
    "    return l_list\n",
    "\n",
    "\n",
    "# lista = getFilesWithAbsolutePathListaExtensiones(mypath, extList = ['epub','pdf'])\n",
    "# print(len(lista))\n",
    "\n",
    "#                       FUNCIONES AUXILIARES PARA ORDENAR LOS NOMBRES DE LAS IMÁGENES DE MODO HUMANO\n",
    "#                                        Modo humano = por orden alfanumerico\n",
    "\n",
    "def atoi(text):\n",
    "    return int(text) if text.isdigit() else text\n",
    "\n",
    "def natural_keys(text):\n",
    "    '''\n",
    "    alist.sort(key=natural_keys) sorts in human order\n",
    "    http://nedbatchelder.com/blog/200712/human_sorting.html\n",
    "    (See Toothy's implementation in the comments)\n",
    "    '''\n",
    "    return [ atoi(c) for c in re.split(r'(\\d+)', text) ]"
   ],
   "metadata": {
    "collapsed": false,
    "pycharm": {
     "name": "#%%\n"
    }
   }
  },
  {
   "cell_type": "code",
   "execution_count": 9,
   "outputs": [
    {
     "name": "stdout",
     "output_type": "stream",
     "text": [
      "\n",
      "CSV salvado:  imgs_and_labels_list.csv\n"
     ]
    }
   ],
   "source": [
    "def create_CSV():\n",
    "    INPUT_FOLDER = \"../datasets/animals/data\"\n",
    "    INPUT_FOLDER = os.path.abspath(INPUT_FOLDER) + os.sep\n",
    "    csvArray = np.empty([len(getFilesWithAbsolutePathListaExtensiones(INPUT_FOLDER)), 2], dtype=object)\n",
    "\n",
    "    csvOutput = \"imgs_and_labels_list\" + '.csv'\n",
    "\n",
    "    idx_aux = 0\n",
    "\n",
    "    for animal in os.listdir(INPUT_FOLDER):\n",
    "        #print(animal)\n",
    "        animal_imgs = getFilesWithAbsolutePathListaExtensiones(INPUT_FOLDER + animal)\n",
    "        animal_imgs.sort(key=natural_keys)\n",
    "        #print(animal_imgs)\n",
    "\n",
    "        for img in animal_imgs:\n",
    "            csvArray[idx_aux,:] = [img, animal]\n",
    "            idx_aux += 1\n",
    "\n",
    "\n",
    "\n",
    "    try:\n",
    "        np.savetxt(csvOutput, csvArray, delimiter=\",\",fmt='%s')\n",
    "        print()\n",
    "        print('CSV salvado: ', csvOutput)\n",
    "    except:\n",
    "        print('ERROR ESCRITURA FINAL CSV:', csvOutput)"
   ],
   "metadata": {
    "collapsed": false,
    "pycharm": {
     "name": "#%%\n"
    }
   }
  },
  {
   "cell_type": "code",
   "execution_count": 74,
   "outputs": [
    {
     "name": "stdout",
     "output_type": "stream",
     "text": [
      "\n",
      "CSV salvado:  imgs_and_labels_list.csv\n"
     ]
    }
   ],
   "source": [
    "create_CSV()"
   ],
   "metadata": {
    "collapsed": false,
    "pycharm": {
     "name": "#%%\n"
    }
   }
  },
  {
   "cell_type": "code",
   "execution_count": null,
   "outputs": [],
   "source": [],
   "metadata": {
    "collapsed": false,
    "pycharm": {
     "name": "#%%\n"
    }
   }
  },
  {
   "cell_type": "code",
   "execution_count": null,
   "outputs": [],
   "source": [
    "def load_and_save_data_from_dir():\n",
    "\n",
    "\n",
    "\n"
   ],
   "metadata": {
    "collapsed": false,
    "pycharm": {
     "name": "#%%\n"
    }
   }
  },
  {
   "cell_type": "code",
   "execution_count": null,
   "outputs": [],
   "source": [],
   "metadata": {
    "collapsed": false,
    "pycharm": {
     "name": "#%%\n"
    }
   }
  },
  {
   "cell_type": "code",
   "execution_count": null,
   "outputs": [],
   "source": [],
   "metadata": {
    "collapsed": false,
    "pycharm": {
     "name": "#%%\n"
    }
   }
  },
  {
   "cell_type": "code",
   "execution_count": null,
   "outputs": [],
   "source": [],
   "metadata": {
    "collapsed": false,
    "pycharm": {
     "name": "#%%\n"
    }
   }
  },
  {
   "cell_type": "code",
   "execution_count": null,
   "outputs": [],
   "source": [],
   "metadata": {
    "collapsed": false,
    "pycharm": {
     "name": "#%%\n"
    }
   }
  },
  {
   "cell_type": "code",
   "execution_count": null,
   "outputs": [],
   "source": [],
   "metadata": {
    "collapsed": false,
    "pycharm": {
     "name": "#%%\n"
    }
   }
  }
 ],
 "metadata": {
  "kernelspec": {
   "display_name": "Python 3",
   "language": "python",
   "name": "python3"
  },
  "language_info": {
   "codemirror_mode": {
    "name": "ipython",
    "version": 2
   },
   "file_extension": ".py",
   "mimetype": "text/x-python",
   "name": "python",
   "nbconvert_exporter": "python",
   "pygments_lexer": "ipython2",
   "version": "2.7.6"
  }
 },
 "nbformat": 4,
 "nbformat_minor": 0
}