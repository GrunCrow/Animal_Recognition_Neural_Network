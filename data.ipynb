{
 "cells": [
  {
   "cell_type": "markdown",
   "source": [
    "# Animal Recognition with Neural Networks"
   ],
   "metadata": {
    "collapsed": false,
    "pycharm": {
     "name": "#%% md\n"
    }
   }
  },
  {
   "cell_type": "markdown",
   "source": [
    "## Libraries import"
   ],
   "metadata": {
    "collapsed": false,
    "pycharm": {
     "name": "#%% md\n"
    }
   }
  },
  {
   "cell_type": "code",
   "execution_count": 1,
   "outputs": [],
   "source": [
    "animals_wanted = [\"Bear\", \"Chicken\", \"Turtle\"]"
   ],
   "metadata": {
    "collapsed": false,
    "pycharm": {
     "name": "#%%\n"
    }
   }
  },
  {
   "cell_type": "code",
   "execution_count": 2,
   "outputs": [],
   "source": [
    "#                                                   LIBRARIES\n",
    "\n",
    "import os\n",
    "\n",
    "# Dataset\n",
    "from kaggle.api.kaggle_api_extended import KaggleApi\n",
    "from datasets import load_dataset\n",
    "\n",
    "# Image preprocesssing- processing\n",
    "import cv2\n",
    "from PIL import Image\n",
    "import numpy as np\n",
    "\n",
    "# Neural Network libraries\n",
    "import tensorflow as tf\n",
    "from tensorflow import keras\n",
    "from keras.models import Sequential\n",
    "from keras.layers import Conv2D,MaxPooling2D,Dense,Flatten,Dropout"
   ],
   "metadata": {
    "collapsed": false,
    "pycharm": {
     "name": "#%%\n"
    }
   }
  },
  {
   "cell_type": "code",
   "execution_count": 3,
   "outputs": [],
   "source": [
    "train_animals_reduced=[]\n",
    "test_animals_reduced=[]\n",
    "# supervised -> labels are needed\n",
    "train_labels_reduced=[]\n",
    "test_labels_reduced=[]"
   ],
   "metadata": {
    "collapsed": false,
    "pycharm": {
     "name": "#%%\n"
    }
   }
  },
  {
   "cell_type": "markdown",
   "source": [
    "## Prepare Dataset\n",
    "\n",
    "Transform images to the right format for the model\n",
    "\n",
    "2 arrays:\n",
    "- data: array of images converted to numpy array\n",
    "- labels: corresponding labels\n",
    "    1. Dog\n",
    "    2. Cat\n",
    "    ...\n",
    "    - Zebra\n",
    "    - Lion\n",
    "    - Leopard\n",
    "    - Cheetah\n",
    "    - Tiger\n",
    "    - Bear\n",
    "    - Brown Bear\n",
    "    - Butterfly\n",
    "    - Canary\n",
    "    - Crocodile\n",
    "    - Polar Bear\n",
    "    - Bull\n",
    "    - Camel\n",
    "    - Crab\n",
    "    - Chicken\n",
    "    - Centipede\n",
    "    - Cattle\n",
    "    - Caterpillar\n",
    "    - Duck"
   ],
   "metadata": {
    "collapsed": false,
    "pycharm": {
     "name": "#%% md\n"
    }
   }
  },
  {
   "cell_type": "code",
   "execution_count": 4,
   "outputs": [],
   "source": [
    "train_animals_reduced=[]\n",
    "test_animals_reduced=[]\n",
    "# supervised -> labels are needed\n",
    "train_labels_reduced=[]\n",
    "test_labels_reduced=[]"
   ],
   "metadata": {
    "collapsed": false,
    "pycharm": {
     "name": "#%%\n"
    }
   }
  },
  {
   "cell_type": "code",
   "execution_count": 24,
   "outputs": [],
   "source": [
    "#                                           Transform images into an array\n",
    "\n",
    "def load_and_save_data_reduced(set_tt):\n",
    "    assert set_tt == \"test\" or \"train\"\n",
    "    folder_directory = \"\"\n",
    "    if set_tt == \"train\":\n",
    "        folder_directory = \"../datasets/animals/animals-detection-images-dataset\" + os.sep + \"train\"\n",
    "    elif set_tt == \"test\":\n",
    "        folder_directory = \"../datasets/animals/animals-detection-images-dataset\" + os.sep + \"test\"\n",
    "    print(\"============= \" + set_tt + \" =============\")\n",
    "    l_data=[]\n",
    "    # supervised -> labels are needed\n",
    "    l_labels=[]\n",
    "\n",
    "    label = 0\n",
    "\n",
    "    animals_list=os.listdir(folder_directory)\n",
    "\n",
    "    # for each animal directory in the dataset directory\n",
    "    for animal in  animals_list:\n",
    "\n",
    "        if animal in animals_wanted:\n",
    "            animal_imgs = os.listdir(folder_directory + os.sep + animal)\n",
    "\n",
    "            num_images = 0\n",
    "\n",
    "            # for each image of the current image\n",
    "            # print(animal_dir)\n",
    "            for image in animal_imgs:\n",
    "                # read image\n",
    "                img_dir = folder_directory + os.sep + animal + os.sep + image\n",
    "                if os.path.isfile(img_dir):\n",
    "                    img=cv2.imread(img_dir)\n",
    "\n",
    "                    # convert image to array\n",
    "                    img = np.array(img)\n",
    "                    img_from_ar = Image.fromarray(img, 'RGB')\n",
    "\n",
    "                    # image of same size needed for CNN, ensure they are -> 50X50\n",
    "                    resized_image = img_from_ar.resize((50, 50))\n",
    "\n",
    "                    # convert back to numpy array\n",
    "                    l_data.append(np.array(resized_image))\n",
    "\n",
    "                    l_labels.append(label)\n",
    "                    num_images += 1\n",
    "\n",
    "\n",
    "            print(\"Label \" + str(label) + \" = \" + str(animal) + \" with \" + str(num_images) + \" images\")\n",
    "\n",
    "\n",
    "            # increment label for next animal\n",
    "            label += 1\n",
    "\n",
    "    global train_animals_reduced, train_labels_reduced, test_animals_reduced, test_labels_reduced\n",
    "    # Transform \"normal\" array into numpy array\n",
    "    if set_tt == \"test\":\n",
    "        test_animals_reduced=np.array(l_data)\n",
    "        test_labels_reduced=np.array(l_labels)\n",
    "\n",
    "        # save numpy arrays so manipulation dont need to be done again\n",
    "        np.save(\"test_animals_reduced\",test_animals_reduced)\n",
    "        np.save(\"test_labels_reduced\",test_labels_reduced)\n",
    "    elif set_tt == \"train\":\n",
    "        train_animals_reduced=np.array(l_data)\n",
    "        train_labels_reduced=np.array(l_labels)\n",
    "\n",
    "        # save numpy arrays so manipulation dont need to be done again\n",
    "        np.save(\"train_animals_reduced\",train_animals_reduced)\n",
    "        np.save(\"train_labels_reduced\",train_labels_reduced)\n",
    "\n",
    "def load_data_and_labels_reduced():\n",
    "    global train_animals_reduced, train_labels_reduced, test_animals_reduced, test_labels_reduced\n",
    "    train_animals_reduced = np.load(\"train_animals_reduced.npy\")\n",
    "    train_labels_reduced = np.load(\"train_labels_reduced.npy\")\n",
    "    test_animals_reduced = np.load(\"test_animals_reduced.npy\")\n",
    "    test_labels_reduced = np.load(\"test_labels_reduced.npy\")"
   ],
   "metadata": {
    "collapsed": false,
    "pycharm": {
     "name": "#%%\n"
    }
   }
  },
  {
   "cell_type": "code",
   "execution_count": 14,
   "outputs": [],
   "source": [
    "# if its not saved yet:\n",
    "#load_and_save_data_reduced()\n",
    "\n",
    "# if its saved:\n",
    "#load_data_and_labels_reduced()\n",
    "\n"
   ],
   "metadata": {
    "collapsed": false,
    "pycharm": {
     "name": "#%%\n"
    }
   }
  },
  {
   "cell_type": "code",
   "execution_count": 25,
   "outputs": [
    {
     "name": "stdout",
     "output_type": "stream",
     "text": [
      "============= train =============\n",
      "Label 0 = Bear with 87 images\n",
      "Label 1 = Chicken with 388 images\n",
      "Label 2 = Turtle with 24 images\n",
      "============= test =============\n",
      "Label 0 = Bear with 39 images\n",
      "Label 1 = Chicken with 137 images\n",
      "Label 2 = Turtle with 5 images\n"
     ]
    }
   ],
   "source": [
    "load_and_save_data_reduced(\"train\")\n",
    "load_and_save_data_reduced(\"test\")"
   ],
   "metadata": {
    "collapsed": false,
    "pycharm": {
     "name": "#%%\n"
    }
   }
  },
  {
   "cell_type": "markdown",
   "source": [
    "#### ============= train =============\n",
    "Label 0 = Bear with 87 images\n",
    "Label 1 = Chicken with 388 images\n",
    "Label 2 = Duck with 542 images\n",
    "Label 3 = Frog with 588 images\n",
    "Label 4 = Sea turtle with 239 images\n",
    "Label 5 = Squirrel with 367 images\n",
    "\n",
    "#### ============= test =============\n",
    "Label 0 = Bear with 39 images\n",
    "Label 1 = Chicken with 137 images\n",
    "Label 2 = Duck with 88 images\n",
    "Label 3 = Frog with 77 images\n",
    "Label 4 = Sea turtle with 87 images\n",
    "Label 5 = Squirrel with 68 images"
   ],
   "metadata": {
    "collapsed": false,
    "pycharm": {
     "name": "#%% md\n"
    }
   }
  },
  {
   "cell_type": "code",
   "execution_count": 8,
   "outputs": [
    {
     "name": "stdout",
     "output_type": "stream",
     "text": [
      "============= train =============\n",
      "Label 0 = Bear with 87 images\n",
      "Label 1 = Chicken with 388 images\n",
      "Label 2 = Duck with 542 images\n",
      "Label 3 = Frog with 588 images\n",
      "Label 4 = Sea turtle with 239 images\n",
      "Label 5 = Squirrel with 367 images\n",
      "============= test =============\n",
      "Label 0 = Bear with 39 images\n",
      "Label 1 = Chicken with 137 images\n",
      "Label 2 = Duck with 88 images\n",
      "Label 3 = Frog with 77 images\n",
      "Label 4 = Sea turtle with 87 images\n",
      "Label 5 = Squirrel with 68 images\n"
     ]
    }
   ],
   "source": [
    "load_and_save_data_reduced(\"train\")\n",
    "load_and_save_data_reduced(\"test\")\n",
    "#load_data_and_labels_reduced()"
   ],
   "metadata": {
    "collapsed": false,
    "pycharm": {
     "name": "#%%\n"
    }
   }
  },
  {
   "cell_type": "code",
   "execution_count": 16,
   "outputs": [],
   "source": [
    "# shuffle animals and labels from both sets\n",
    "s=np.arange(train_animals_reduced.shape[0])\n",
    "np.random.shuffle(s)\n",
    "train_animals_reduced=train_animals_reduced[s]\n",
    "train_labels_reduced=train_labels_reduced[s]\n",
    "\n",
    "s=np.arange(test_animals_reduced.shape[0])\n",
    "np.random.shuffle(s)\n",
    "test_animals_reduced=test_animals_reduced[s]\n",
    "test_labels_reduced=test_labels_reduced[s]"
   ],
   "metadata": {
    "collapsed": false,
    "pycharm": {
     "name": "#%%\n"
    }
   }
  },
  {
   "cell_type": "code",
   "execution_count": 17,
   "outputs": [
    {
     "name": "stdout",
     "output_type": "stream",
     "text": [
      "Train data length: 499\n",
      "Test data length: 181\n"
     ]
    }
   ],
   "source": [
    "# number of classes (labels) and size of dataset\n",
    "num_classes_train=len(np.unique(train_labels_reduced))\n",
    "num_classes_test=len(np.unique(test_labels_reduced))\n",
    "assert num_classes_test == num_classes_train\n",
    "num_classes = num_classes_train\n",
    "\n",
    "train_data_length=len(train_animals_reduced)\n",
    "test_data_length=len(test_animals_reduced)\n",
    "data_length = train_data_length + test_data_length\n",
    "print(\"Train data length: \" + str(train_data_length))\n",
    "print(\"Test data length: \" + str(test_data_length))"
   ],
   "metadata": {
    "collapsed": false,
    "pycharm": {
     "name": "#%%\n"
    }
   }
  },
  {
   "cell_type": "code",
   "execution_count": 18,
   "outputs": [],
   "source": [
    "# /255\n",
    "train_animals_reduced = train_animals_reduced.astype('float32')/255\n",
    "test_animals_reduced = test_animals_reduced.astype('float32')/255"
   ],
   "metadata": {
    "collapsed": false,
    "pycharm": {
     "name": "#%%\n"
    }
   }
  },
  {
   "cell_type": "code",
   "execution_count": 12,
   "outputs": [],
   "source": [
    "# One hot encoding for labels\n",
    "train_labels_reduced=keras.utils.to_categorical(train_labels_reduced,num_classes_train)\n",
    "test_labels_reduced=keras.utils.to_categorical(test_labels_reduced,num_classes_test)"
   ],
   "metadata": {
    "collapsed": false,
    "pycharm": {
     "name": "#%%\n"
    }
   }
  },
  {
   "cell_type": "code",
   "execution_count": 13,
   "outputs": [],
   "source": [
    "# save numpy arrays so manipulation dont need to be done again\n",
    "np.save(\"test_animals\",test_animals_reduced)\n",
    "np.save(\"test_labels\",test_labels_reduced)\n",
    "\n",
    "np.save(\"train_animals\",train_animals_reduced)\n",
    "np.save(\"train_labels\",train_labels_reduced)"
   ],
   "metadata": {
    "collapsed": false,
    "pycharm": {
     "name": "#%%\n"
    }
   }
  },
  {
   "cell_type": "markdown",
   "source": [],
   "metadata": {
    "collapsed": false,
    "pycharm": {
     "name": "#%% md\n"
    }
   }
  }
 ],
 "metadata": {
  "kernelspec": {
   "display_name": "Python 3",
   "language": "python",
   "name": "python3"
  },
  "language_info": {
   "codemirror_mode": {
    "name": "ipython",
    "version": 2
   },
   "file_extension": ".py",
   "mimetype": "text/x-python",
   "name": "python",
   "nbconvert_exporter": "python",
   "pygments_lexer": "ipython2",
   "version": "2.7.6"
  }
 },
 "nbformat": 4,
 "nbformat_minor": 0
}